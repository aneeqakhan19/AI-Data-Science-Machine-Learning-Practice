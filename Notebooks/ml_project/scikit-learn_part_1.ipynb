{
 "cells": [
  {
   "cell_type": "markdown",
   "id": "8abe7218-1188-4eef-b241-a0bcb97949b9",
   "metadata": {},
   "source": [
    "# scikit-learn "
   ]
  },
  {
   "cell_type": "markdown",
   "id": "de957281-fb5b-4ff7-8007-5087a4ea91b1",
   "metadata": {
    "jp-MarkdownHeadingCollapsed": true
   },
   "source": [
    "## sklearn Life Cycle / Workflow"
   ]
  },
  {
   "cell_type": "markdown",
   "id": "cf83a6b0-ff2f-4517-b7d4-6406f6707d1f",
   "metadata": {
    "jp-MarkdownHeadingCollapsed": true
   },
   "source": [
    "### Step-1 Getting and splitting data "
   ]
  },
  {
   "cell_type": "code",
   "execution_count": 27,
   "id": "f7ebb052-b616-4a89-a77d-9b19f189998f",
   "metadata": {},
   "outputs": [],
   "source": [
    "import pandas as pd\n",
    "from sklearn.model_selection import train_test_split"
   ]
  },
  {
   "cell_type": "code",
   "execution_count": 28,
   "id": "f997a92a-238d-4ee4-8e51-144efb1f4cf5",
   "metadata": {},
   "outputs": [
    {
     "data": {
      "text/html": [
       "<div>\n",
       "<style scoped>\n",
       "    .dataframe tbody tr th:only-of-type {\n",
       "        vertical-align: middle;\n",
       "    }\n",
       "\n",
       "    .dataframe tbody tr th {\n",
       "        vertical-align: top;\n",
       "    }\n",
       "\n",
       "    .dataframe thead th {\n",
       "        text-align: right;\n",
       "    }\n",
       "</style>\n",
       "<table border=\"1\" class=\"dataframe\">\n",
       "  <thead>\n",
       "    <tr style=\"text-align: right;\">\n",
       "      <th></th>\n",
       "      <th>age</th>\n",
       "      <th>sex</th>\n",
       "      <th>cp</th>\n",
       "      <th>trestbps</th>\n",
       "      <th>chol</th>\n",
       "      <th>fbs</th>\n",
       "      <th>restecg</th>\n",
       "      <th>thalach</th>\n",
       "      <th>exang</th>\n",
       "      <th>oldpeak</th>\n",
       "      <th>slope</th>\n",
       "      <th>ca</th>\n",
       "      <th>thal</th>\n",
       "      <th>condition</th>\n",
       "    </tr>\n",
       "  </thead>\n",
       "  <tbody>\n",
       "    <tr>\n",
       "      <th>0</th>\n",
       "      <td>69</td>\n",
       "      <td>1</td>\n",
       "      <td>0</td>\n",
       "      <td>160</td>\n",
       "      <td>234</td>\n",
       "      <td>1</td>\n",
       "      <td>2</td>\n",
       "      <td>131</td>\n",
       "      <td>0</td>\n",
       "      <td>0.1</td>\n",
       "      <td>1</td>\n",
       "      <td>1</td>\n",
       "      <td>0</td>\n",
       "      <td>0</td>\n",
       "    </tr>\n",
       "    <tr>\n",
       "      <th>1</th>\n",
       "      <td>69</td>\n",
       "      <td>0</td>\n",
       "      <td>0</td>\n",
       "      <td>140</td>\n",
       "      <td>239</td>\n",
       "      <td>0</td>\n",
       "      <td>0</td>\n",
       "      <td>151</td>\n",
       "      <td>0</td>\n",
       "      <td>1.8</td>\n",
       "      <td>0</td>\n",
       "      <td>2</td>\n",
       "      <td>0</td>\n",
       "      <td>0</td>\n",
       "    </tr>\n",
       "    <tr>\n",
       "      <th>2</th>\n",
       "      <td>66</td>\n",
       "      <td>0</td>\n",
       "      <td>0</td>\n",
       "      <td>150</td>\n",
       "      <td>226</td>\n",
       "      <td>0</td>\n",
       "      <td>0</td>\n",
       "      <td>114</td>\n",
       "      <td>0</td>\n",
       "      <td>2.6</td>\n",
       "      <td>2</td>\n",
       "      <td>0</td>\n",
       "      <td>0</td>\n",
       "      <td>0</td>\n",
       "    </tr>\n",
       "    <tr>\n",
       "      <th>3</th>\n",
       "      <td>65</td>\n",
       "      <td>1</td>\n",
       "      <td>0</td>\n",
       "      <td>138</td>\n",
       "      <td>282</td>\n",
       "      <td>1</td>\n",
       "      <td>2</td>\n",
       "      <td>174</td>\n",
       "      <td>0</td>\n",
       "      <td>1.4</td>\n",
       "      <td>1</td>\n",
       "      <td>1</td>\n",
       "      <td>0</td>\n",
       "      <td>1</td>\n",
       "    </tr>\n",
       "    <tr>\n",
       "      <th>4</th>\n",
       "      <td>64</td>\n",
       "      <td>1</td>\n",
       "      <td>0</td>\n",
       "      <td>110</td>\n",
       "      <td>211</td>\n",
       "      <td>0</td>\n",
       "      <td>2</td>\n",
       "      <td>144</td>\n",
       "      <td>1</td>\n",
       "      <td>1.8</td>\n",
       "      <td>1</td>\n",
       "      <td>0</td>\n",
       "      <td>0</td>\n",
       "      <td>0</td>\n",
       "    </tr>\n",
       "    <tr>\n",
       "      <th>...</th>\n",
       "      <td>...</td>\n",
       "      <td>...</td>\n",
       "      <td>...</td>\n",
       "      <td>...</td>\n",
       "      <td>...</td>\n",
       "      <td>...</td>\n",
       "      <td>...</td>\n",
       "      <td>...</td>\n",
       "      <td>...</td>\n",
       "      <td>...</td>\n",
       "      <td>...</td>\n",
       "      <td>...</td>\n",
       "      <td>...</td>\n",
       "      <td>...</td>\n",
       "    </tr>\n",
       "    <tr>\n",
       "      <th>292</th>\n",
       "      <td>40</td>\n",
       "      <td>1</td>\n",
       "      <td>3</td>\n",
       "      <td>152</td>\n",
       "      <td>223</td>\n",
       "      <td>0</td>\n",
       "      <td>0</td>\n",
       "      <td>181</td>\n",
       "      <td>0</td>\n",
       "      <td>0.0</td>\n",
       "      <td>0</td>\n",
       "      <td>0</td>\n",
       "      <td>2</td>\n",
       "      <td>1</td>\n",
       "    </tr>\n",
       "    <tr>\n",
       "      <th>293</th>\n",
       "      <td>39</td>\n",
       "      <td>1</td>\n",
       "      <td>3</td>\n",
       "      <td>118</td>\n",
       "      <td>219</td>\n",
       "      <td>0</td>\n",
       "      <td>0</td>\n",
       "      <td>140</td>\n",
       "      <td>0</td>\n",
       "      <td>1.2</td>\n",
       "      <td>1</td>\n",
       "      <td>0</td>\n",
       "      <td>2</td>\n",
       "      <td>1</td>\n",
       "    </tr>\n",
       "    <tr>\n",
       "      <th>294</th>\n",
       "      <td>35</td>\n",
       "      <td>1</td>\n",
       "      <td>3</td>\n",
       "      <td>120</td>\n",
       "      <td>198</td>\n",
       "      <td>0</td>\n",
       "      <td>0</td>\n",
       "      <td>130</td>\n",
       "      <td>1</td>\n",
       "      <td>1.6</td>\n",
       "      <td>1</td>\n",
       "      <td>0</td>\n",
       "      <td>2</td>\n",
       "      <td>1</td>\n",
       "    </tr>\n",
       "    <tr>\n",
       "      <th>295</th>\n",
       "      <td>35</td>\n",
       "      <td>0</td>\n",
       "      <td>3</td>\n",
       "      <td>138</td>\n",
       "      <td>183</td>\n",
       "      <td>0</td>\n",
       "      <td>0</td>\n",
       "      <td>182</td>\n",
       "      <td>0</td>\n",
       "      <td>1.4</td>\n",
       "      <td>0</td>\n",
       "      <td>0</td>\n",
       "      <td>0</td>\n",
       "      <td>0</td>\n",
       "    </tr>\n",
       "    <tr>\n",
       "      <th>296</th>\n",
       "      <td>35</td>\n",
       "      <td>1</td>\n",
       "      <td>3</td>\n",
       "      <td>126</td>\n",
       "      <td>282</td>\n",
       "      <td>0</td>\n",
       "      <td>2</td>\n",
       "      <td>156</td>\n",
       "      <td>1</td>\n",
       "      <td>0.0</td>\n",
       "      <td>0</td>\n",
       "      <td>0</td>\n",
       "      <td>2</td>\n",
       "      <td>1</td>\n",
       "    </tr>\n",
       "  </tbody>\n",
       "</table>\n",
       "<p>297 rows × 14 columns</p>\n",
       "</div>"
      ],
      "text/plain": [
       "     age  sex  cp  trestbps  chol  fbs  restecg  thalach  exang  oldpeak  \\\n",
       "0     69    1   0       160   234    1        2      131      0      0.1   \n",
       "1     69    0   0       140   239    0        0      151      0      1.8   \n",
       "2     66    0   0       150   226    0        0      114      0      2.6   \n",
       "3     65    1   0       138   282    1        2      174      0      1.4   \n",
       "4     64    1   0       110   211    0        2      144      1      1.8   \n",
       "..   ...  ...  ..       ...   ...  ...      ...      ...    ...      ...   \n",
       "292   40    1   3       152   223    0        0      181      0      0.0   \n",
       "293   39    1   3       118   219    0        0      140      0      1.2   \n",
       "294   35    1   3       120   198    0        0      130      1      1.6   \n",
       "295   35    0   3       138   183    0        0      182      0      1.4   \n",
       "296   35    1   3       126   282    0        2      156      1      0.0   \n",
       "\n",
       "     slope  ca  thal  condition  \n",
       "0        1   1     0          0  \n",
       "1        0   2     0          0  \n",
       "2        2   0     0          0  \n",
       "3        1   1     0          1  \n",
       "4        1   0     0          0  \n",
       "..     ...  ..   ...        ...  \n",
       "292      0   0     2          1  \n",
       "293      1   0     2          1  \n",
       "294      1   0     2          1  \n",
       "295      0   0     0          0  \n",
       "296      0   0     2          1  \n",
       "\n",
       "[297 rows x 14 columns]"
      ]
     },
     "execution_count": 28,
     "metadata": {},
     "output_type": "execute_result"
    }
   ],
   "source": [
    "heart_disease = pd.read_csv('Heart disease data.csv')\n",
    "heart_disease"
   ]
  },
  {
   "cell_type": "code",
   "execution_count": 29,
   "id": "2bb0f502-8c31-43c5-ad6e-38c08fac74f7",
   "metadata": {},
   "outputs": [],
   "source": [
    "#create x / Features / Base data / Data that will help us to predict / independent\n",
    "xheart = heart_disease.drop('condition',axis=1)\n",
    "#create y / label / Data that we have to predict / dependent \n",
    "yheart = heart_disease['condition']"
   ]
  },
  {
   "cell_type": "code",
   "execution_count": 30,
   "id": "1173be9c-5622-4d6f-9dbb-63b763bdc74a",
   "metadata": {},
   "outputs": [],
   "source": [
    "#splitting data\n",
    "x_train,x_test,y_train,y_test = train_test_split(xheart,yheart,test_size = 0.25)"
   ]
  },
  {
   "cell_type": "code",
   "execution_count": 31,
   "id": "0c1e365f-74a6-4bfe-be33-b1296d17920d",
   "metadata": {},
   "outputs": [
    {
     "data": {
      "text/plain": [
       "297"
      ]
     },
     "execution_count": 31,
     "metadata": {},
     "output_type": "execute_result"
    }
   ],
   "source": [
    "len(heart_disease)"
   ]
  },
  {
   "cell_type": "code",
   "execution_count": 32,
   "id": "55584b28-b12e-4dde-a21b-c4756a402aac",
   "metadata": {},
   "outputs": [
    {
     "data": {
      "text/plain": [
       "((222, 13), (75, 13))"
      ]
     },
     "execution_count": 32,
     "metadata": {},
     "output_type": "execute_result"
    }
   ],
   "source": [
    "x_train.shape,x_test.shape"
   ]
  },
  {
   "cell_type": "code",
   "execution_count": 33,
   "id": "7f78fa31-7e69-4dfe-ba63-8662816b0227",
   "metadata": {},
   "outputs": [
    {
     "data": {
      "text/plain": [
       "((222,), (75,))"
      ]
     },
     "execution_count": 33,
     "metadata": {},
     "output_type": "execute_result"
    }
   ],
   "source": [
    "y_train.shape,y_test.shape"
   ]
  },
  {
   "cell_type": "markdown",
   "id": "d844a772-a8ee-4318-b98d-1a668880d751",
   "metadata": {
    "jp-MarkdownHeadingCollapsed": true
   },
   "source": [
    "### Step-2 Choosing ML Model"
   ]
  },
  {
   "cell_type": "code",
   "execution_count": 16,
   "id": "0ca8ba4d-f34b-4960-a2ec-42effd1be714",
   "metadata": {},
   "outputs": [],
   "source": [
    "from sklearn.ensemble import RandomForestClassifier\n",
    "clf = RandomForestClassifier()"
   ]
  },
  {
   "cell_type": "code",
   "execution_count": 17,
   "id": "6e9a40bd-e38c-4220-ad3a-ed8d3d061a98",
   "metadata": {},
   "outputs": [
    {
     "data": {
      "text/plain": [
       "{'bootstrap': True,\n",
       " 'ccp_alpha': 0.0,\n",
       " 'class_weight': None,\n",
       " 'criterion': 'gini',\n",
       " 'max_depth': None,\n",
       " 'max_features': 'sqrt',\n",
       " 'max_leaf_nodes': None,\n",
       " 'max_samples': None,\n",
       " 'min_impurity_decrease': 0.0,\n",
       " 'min_samples_leaf': 1,\n",
       " 'min_samples_split': 2,\n",
       " 'min_weight_fraction_leaf': 0.0,\n",
       " 'monotonic_cst': None,\n",
       " 'n_estimators': 100,\n",
       " 'n_jobs': None,\n",
       " 'oob_score': False,\n",
       " 'random_state': None,\n",
       " 'verbose': 0,\n",
       " 'warm_start': False}"
      ]
     },
     "execution_count": 17,
     "metadata": {},
     "output_type": "execute_result"
    }
   ],
   "source": [
    "clf.get_params()"
   ]
  },
  {
   "cell_type": "markdown",
   "id": "783153d5-cfa4-4697-9f4e-119d6d19c5f5",
   "metadata": {
    "jp-MarkdownHeadingCollapsed": true
   },
   "source": [
    "### Step-3 Fitting Model"
   ]
  },
  {
   "cell_type": "code",
   "execution_count": 18,
   "id": "73cbea3f-956e-4cea-8ec9-4c51f6a29190",
   "metadata": {},
   "outputs": [
    {
     "data": {
      "text/html": [
       "<style>#sk-container-id-1 {\n",
       "  /* Definition of color scheme common for light and dark mode */\n",
       "  --sklearn-color-text: black;\n",
       "  --sklearn-color-line: gray;\n",
       "  /* Definition of color scheme for unfitted estimators */\n",
       "  --sklearn-color-unfitted-level-0: #fff5e6;\n",
       "  --sklearn-color-unfitted-level-1: #f6e4d2;\n",
       "  --sklearn-color-unfitted-level-2: #ffe0b3;\n",
       "  --sklearn-color-unfitted-level-3: chocolate;\n",
       "  /* Definition of color scheme for fitted estimators */\n",
       "  --sklearn-color-fitted-level-0: #f0f8ff;\n",
       "  --sklearn-color-fitted-level-1: #d4ebff;\n",
       "  --sklearn-color-fitted-level-2: #b3dbfd;\n",
       "  --sklearn-color-fitted-level-3: cornflowerblue;\n",
       "\n",
       "  /* Specific color for light theme */\n",
       "  --sklearn-color-text-on-default-background: var(--sg-text-color, var(--theme-code-foreground, var(--jp-content-font-color1, black)));\n",
       "  --sklearn-color-background: var(--sg-background-color, var(--theme-background, var(--jp-layout-color0, white)));\n",
       "  --sklearn-color-border-box: var(--sg-text-color, var(--theme-code-foreground, var(--jp-content-font-color1, black)));\n",
       "  --sklearn-color-icon: #696969;\n",
       "\n",
       "  @media (prefers-color-scheme: dark) {\n",
       "    /* Redefinition of color scheme for dark theme */\n",
       "    --sklearn-color-text-on-default-background: var(--sg-text-color, var(--theme-code-foreground, var(--jp-content-font-color1, white)));\n",
       "    --sklearn-color-background: var(--sg-background-color, var(--theme-background, var(--jp-layout-color0, #111)));\n",
       "    --sklearn-color-border-box: var(--sg-text-color, var(--theme-code-foreground, var(--jp-content-font-color1, white)));\n",
       "    --sklearn-color-icon: #878787;\n",
       "  }\n",
       "}\n",
       "\n",
       "#sk-container-id-1 {\n",
       "  color: var(--sklearn-color-text);\n",
       "}\n",
       "\n",
       "#sk-container-id-1 pre {\n",
       "  padding: 0;\n",
       "}\n",
       "\n",
       "#sk-container-id-1 input.sk-hidden--visually {\n",
       "  border: 0;\n",
       "  clip: rect(1px 1px 1px 1px);\n",
       "  clip: rect(1px, 1px, 1px, 1px);\n",
       "  height: 1px;\n",
       "  margin: -1px;\n",
       "  overflow: hidden;\n",
       "  padding: 0;\n",
       "  position: absolute;\n",
       "  width: 1px;\n",
       "}\n",
       "\n",
       "#sk-container-id-1 div.sk-dashed-wrapped {\n",
       "  border: 1px dashed var(--sklearn-color-line);\n",
       "  margin: 0 0.4em 0.5em 0.4em;\n",
       "  box-sizing: border-box;\n",
       "  padding-bottom: 0.4em;\n",
       "  background-color: var(--sklearn-color-background);\n",
       "}\n",
       "\n",
       "#sk-container-id-1 div.sk-container {\n",
       "  /* jupyter's `normalize.less` sets `[hidden] { display: none; }`\n",
       "     but bootstrap.min.css set `[hidden] { display: none !important; }`\n",
       "     so we also need the `!important` here to be able to override the\n",
       "     default hidden behavior on the sphinx rendered scikit-learn.org.\n",
       "     See: https://github.com/scikit-learn/scikit-learn/issues/21755 */\n",
       "  display: inline-block !important;\n",
       "  position: relative;\n",
       "}\n",
       "\n",
       "#sk-container-id-1 div.sk-text-repr-fallback {\n",
       "  display: none;\n",
       "}\n",
       "\n",
       "div.sk-parallel-item,\n",
       "div.sk-serial,\n",
       "div.sk-item {\n",
       "  /* draw centered vertical line to link estimators */\n",
       "  background-image: linear-gradient(var(--sklearn-color-text-on-default-background), var(--sklearn-color-text-on-default-background));\n",
       "  background-size: 2px 100%;\n",
       "  background-repeat: no-repeat;\n",
       "  background-position: center center;\n",
       "}\n",
       "\n",
       "/* Parallel-specific style estimator block */\n",
       "\n",
       "#sk-container-id-1 div.sk-parallel-item::after {\n",
       "  content: \"\";\n",
       "  width: 100%;\n",
       "  border-bottom: 2px solid var(--sklearn-color-text-on-default-background);\n",
       "  flex-grow: 1;\n",
       "}\n",
       "\n",
       "#sk-container-id-1 div.sk-parallel {\n",
       "  display: flex;\n",
       "  align-items: stretch;\n",
       "  justify-content: center;\n",
       "  background-color: var(--sklearn-color-background);\n",
       "  position: relative;\n",
       "}\n",
       "\n",
       "#sk-container-id-1 div.sk-parallel-item {\n",
       "  display: flex;\n",
       "  flex-direction: column;\n",
       "}\n",
       "\n",
       "#sk-container-id-1 div.sk-parallel-item:first-child::after {\n",
       "  align-self: flex-end;\n",
       "  width: 50%;\n",
       "}\n",
       "\n",
       "#sk-container-id-1 div.sk-parallel-item:last-child::after {\n",
       "  align-self: flex-start;\n",
       "  width: 50%;\n",
       "}\n",
       "\n",
       "#sk-container-id-1 div.sk-parallel-item:only-child::after {\n",
       "  width: 0;\n",
       "}\n",
       "\n",
       "/* Serial-specific style estimator block */\n",
       "\n",
       "#sk-container-id-1 div.sk-serial {\n",
       "  display: flex;\n",
       "  flex-direction: column;\n",
       "  align-items: center;\n",
       "  background-color: var(--sklearn-color-background);\n",
       "  padding-right: 1em;\n",
       "  padding-left: 1em;\n",
       "}\n",
       "\n",
       "\n",
       "/* Toggleable style: style used for estimator/Pipeline/ColumnTransformer box that is\n",
       "clickable and can be expanded/collapsed.\n",
       "- Pipeline and ColumnTransformer use this feature and define the default style\n",
       "- Estimators will overwrite some part of the style using the `sk-estimator` class\n",
       "*/\n",
       "\n",
       "/* Pipeline and ColumnTransformer style (default) */\n",
       "\n",
       "#sk-container-id-1 div.sk-toggleable {\n",
       "  /* Default theme specific background. It is overwritten whether we have a\n",
       "  specific estimator or a Pipeline/ColumnTransformer */\n",
       "  background-color: var(--sklearn-color-background);\n",
       "}\n",
       "\n",
       "/* Toggleable label */\n",
       "#sk-container-id-1 label.sk-toggleable__label {\n",
       "  cursor: pointer;\n",
       "  display: block;\n",
       "  width: 100%;\n",
       "  margin-bottom: 0;\n",
       "  padding: 0.5em;\n",
       "  box-sizing: border-box;\n",
       "  text-align: center;\n",
       "}\n",
       "\n",
       "#sk-container-id-1 label.sk-toggleable__label-arrow:before {\n",
       "  /* Arrow on the left of the label */\n",
       "  content: \"▸\";\n",
       "  float: left;\n",
       "  margin-right: 0.25em;\n",
       "  color: var(--sklearn-color-icon);\n",
       "}\n",
       "\n",
       "#sk-container-id-1 label.sk-toggleable__label-arrow:hover:before {\n",
       "  color: var(--sklearn-color-text);\n",
       "}\n",
       "\n",
       "/* Toggleable content - dropdown */\n",
       "\n",
       "#sk-container-id-1 div.sk-toggleable__content {\n",
       "  max-height: 0;\n",
       "  max-width: 0;\n",
       "  overflow: hidden;\n",
       "  text-align: left;\n",
       "  /* unfitted */\n",
       "  background-color: var(--sklearn-color-unfitted-level-0);\n",
       "}\n",
       "\n",
       "#sk-container-id-1 div.sk-toggleable__content.fitted {\n",
       "  /* fitted */\n",
       "  background-color: var(--sklearn-color-fitted-level-0);\n",
       "}\n",
       "\n",
       "#sk-container-id-1 div.sk-toggleable__content pre {\n",
       "  margin: 0.2em;\n",
       "  border-radius: 0.25em;\n",
       "  color: var(--sklearn-color-text);\n",
       "  /* unfitted */\n",
       "  background-color: var(--sklearn-color-unfitted-level-0);\n",
       "}\n",
       "\n",
       "#sk-container-id-1 div.sk-toggleable__content.fitted pre {\n",
       "  /* unfitted */\n",
       "  background-color: var(--sklearn-color-fitted-level-0);\n",
       "}\n",
       "\n",
       "#sk-container-id-1 input.sk-toggleable__control:checked~div.sk-toggleable__content {\n",
       "  /* Expand drop-down */\n",
       "  max-height: 200px;\n",
       "  max-width: 100%;\n",
       "  overflow: auto;\n",
       "}\n",
       "\n",
       "#sk-container-id-1 input.sk-toggleable__control:checked~label.sk-toggleable__label-arrow:before {\n",
       "  content: \"▾\";\n",
       "}\n",
       "\n",
       "/* Pipeline/ColumnTransformer-specific style */\n",
       "\n",
       "#sk-container-id-1 div.sk-label input.sk-toggleable__control:checked~label.sk-toggleable__label {\n",
       "  color: var(--sklearn-color-text);\n",
       "  background-color: var(--sklearn-color-unfitted-level-2);\n",
       "}\n",
       "\n",
       "#sk-container-id-1 div.sk-label.fitted input.sk-toggleable__control:checked~label.sk-toggleable__label {\n",
       "  background-color: var(--sklearn-color-fitted-level-2);\n",
       "}\n",
       "\n",
       "/* Estimator-specific style */\n",
       "\n",
       "/* Colorize estimator box */\n",
       "#sk-container-id-1 div.sk-estimator input.sk-toggleable__control:checked~label.sk-toggleable__label {\n",
       "  /* unfitted */\n",
       "  background-color: var(--sklearn-color-unfitted-level-2);\n",
       "}\n",
       "\n",
       "#sk-container-id-1 div.sk-estimator.fitted input.sk-toggleable__control:checked~label.sk-toggleable__label {\n",
       "  /* fitted */\n",
       "  background-color: var(--sklearn-color-fitted-level-2);\n",
       "}\n",
       "\n",
       "#sk-container-id-1 div.sk-label label.sk-toggleable__label,\n",
       "#sk-container-id-1 div.sk-label label {\n",
       "  /* The background is the default theme color */\n",
       "  color: var(--sklearn-color-text-on-default-background);\n",
       "}\n",
       "\n",
       "/* On hover, darken the color of the background */\n",
       "#sk-container-id-1 div.sk-label:hover label.sk-toggleable__label {\n",
       "  color: var(--sklearn-color-text);\n",
       "  background-color: var(--sklearn-color-unfitted-level-2);\n",
       "}\n",
       "\n",
       "/* Label box, darken color on hover, fitted */\n",
       "#sk-container-id-1 div.sk-label.fitted:hover label.sk-toggleable__label.fitted {\n",
       "  color: var(--sklearn-color-text);\n",
       "  background-color: var(--sklearn-color-fitted-level-2);\n",
       "}\n",
       "\n",
       "/* Estimator label */\n",
       "\n",
       "#sk-container-id-1 div.sk-label label {\n",
       "  font-family: monospace;\n",
       "  font-weight: bold;\n",
       "  display: inline-block;\n",
       "  line-height: 1.2em;\n",
       "}\n",
       "\n",
       "#sk-container-id-1 div.sk-label-container {\n",
       "  text-align: center;\n",
       "}\n",
       "\n",
       "/* Estimator-specific */\n",
       "#sk-container-id-1 div.sk-estimator {\n",
       "  font-family: monospace;\n",
       "  border: 1px dotted var(--sklearn-color-border-box);\n",
       "  border-radius: 0.25em;\n",
       "  box-sizing: border-box;\n",
       "  margin-bottom: 0.5em;\n",
       "  /* unfitted */\n",
       "  background-color: var(--sklearn-color-unfitted-level-0);\n",
       "}\n",
       "\n",
       "#sk-container-id-1 div.sk-estimator.fitted {\n",
       "  /* fitted */\n",
       "  background-color: var(--sklearn-color-fitted-level-0);\n",
       "}\n",
       "\n",
       "/* on hover */\n",
       "#sk-container-id-1 div.sk-estimator:hover {\n",
       "  /* unfitted */\n",
       "  background-color: var(--sklearn-color-unfitted-level-2);\n",
       "}\n",
       "\n",
       "#sk-container-id-1 div.sk-estimator.fitted:hover {\n",
       "  /* fitted */\n",
       "  background-color: var(--sklearn-color-fitted-level-2);\n",
       "}\n",
       "\n",
       "/* Specification for estimator info (e.g. \"i\" and \"?\") */\n",
       "\n",
       "/* Common style for \"i\" and \"?\" */\n",
       "\n",
       ".sk-estimator-doc-link,\n",
       "a:link.sk-estimator-doc-link,\n",
       "a:visited.sk-estimator-doc-link {\n",
       "  float: right;\n",
       "  font-size: smaller;\n",
       "  line-height: 1em;\n",
       "  font-family: monospace;\n",
       "  background-color: var(--sklearn-color-background);\n",
       "  border-radius: 1em;\n",
       "  height: 1em;\n",
       "  width: 1em;\n",
       "  text-decoration: none !important;\n",
       "  margin-left: 1ex;\n",
       "  /* unfitted */\n",
       "  border: var(--sklearn-color-unfitted-level-1) 1pt solid;\n",
       "  color: var(--sklearn-color-unfitted-level-1);\n",
       "}\n",
       "\n",
       ".sk-estimator-doc-link.fitted,\n",
       "a:link.sk-estimator-doc-link.fitted,\n",
       "a:visited.sk-estimator-doc-link.fitted {\n",
       "  /* fitted */\n",
       "  border: var(--sklearn-color-fitted-level-1) 1pt solid;\n",
       "  color: var(--sklearn-color-fitted-level-1);\n",
       "}\n",
       "\n",
       "/* On hover */\n",
       "div.sk-estimator:hover .sk-estimator-doc-link:hover,\n",
       ".sk-estimator-doc-link:hover,\n",
       "div.sk-label-container:hover .sk-estimator-doc-link:hover,\n",
       ".sk-estimator-doc-link:hover {\n",
       "  /* unfitted */\n",
       "  background-color: var(--sklearn-color-unfitted-level-3);\n",
       "  color: var(--sklearn-color-background);\n",
       "  text-decoration: none;\n",
       "}\n",
       "\n",
       "div.sk-estimator.fitted:hover .sk-estimator-doc-link.fitted:hover,\n",
       ".sk-estimator-doc-link.fitted:hover,\n",
       "div.sk-label-container:hover .sk-estimator-doc-link.fitted:hover,\n",
       ".sk-estimator-doc-link.fitted:hover {\n",
       "  /* fitted */\n",
       "  background-color: var(--sklearn-color-fitted-level-3);\n",
       "  color: var(--sklearn-color-background);\n",
       "  text-decoration: none;\n",
       "}\n",
       "\n",
       "/* Span, style for the box shown on hovering the info icon */\n",
       ".sk-estimator-doc-link span {\n",
       "  display: none;\n",
       "  z-index: 9999;\n",
       "  position: relative;\n",
       "  font-weight: normal;\n",
       "  right: .2ex;\n",
       "  padding: .5ex;\n",
       "  margin: .5ex;\n",
       "  width: min-content;\n",
       "  min-width: 20ex;\n",
       "  max-width: 50ex;\n",
       "  color: var(--sklearn-color-text);\n",
       "  box-shadow: 2pt 2pt 4pt #999;\n",
       "  /* unfitted */\n",
       "  background: var(--sklearn-color-unfitted-level-0);\n",
       "  border: .5pt solid var(--sklearn-color-unfitted-level-3);\n",
       "}\n",
       "\n",
       ".sk-estimator-doc-link.fitted span {\n",
       "  /* fitted */\n",
       "  background: var(--sklearn-color-fitted-level-0);\n",
       "  border: var(--sklearn-color-fitted-level-3);\n",
       "}\n",
       "\n",
       ".sk-estimator-doc-link:hover span {\n",
       "  display: block;\n",
       "}\n",
       "\n",
       "/* \"?\"-specific style due to the `<a>` HTML tag */\n",
       "\n",
       "#sk-container-id-1 a.estimator_doc_link {\n",
       "  float: right;\n",
       "  font-size: 1rem;\n",
       "  line-height: 1em;\n",
       "  font-family: monospace;\n",
       "  background-color: var(--sklearn-color-background);\n",
       "  border-radius: 1rem;\n",
       "  height: 1rem;\n",
       "  width: 1rem;\n",
       "  text-decoration: none;\n",
       "  /* unfitted */\n",
       "  color: var(--sklearn-color-unfitted-level-1);\n",
       "  border: var(--sklearn-color-unfitted-level-1) 1pt solid;\n",
       "}\n",
       "\n",
       "#sk-container-id-1 a.estimator_doc_link.fitted {\n",
       "  /* fitted */\n",
       "  border: var(--sklearn-color-fitted-level-1) 1pt solid;\n",
       "  color: var(--sklearn-color-fitted-level-1);\n",
       "}\n",
       "\n",
       "/* On hover */\n",
       "#sk-container-id-1 a.estimator_doc_link:hover {\n",
       "  /* unfitted */\n",
       "  background-color: var(--sklearn-color-unfitted-level-3);\n",
       "  color: var(--sklearn-color-background);\n",
       "  text-decoration: none;\n",
       "}\n",
       "\n",
       "#sk-container-id-1 a.estimator_doc_link.fitted:hover {\n",
       "  /* fitted */\n",
       "  background-color: var(--sklearn-color-fitted-level-3);\n",
       "}\n",
       "</style><div id=\"sk-container-id-1\" class=\"sk-top-container\"><div class=\"sk-text-repr-fallback\"><pre>RandomForestClassifier()</pre><b>In a Jupyter environment, please rerun this cell to show the HTML representation or trust the notebook. <br />On GitHub, the HTML representation is unable to render, please try loading this page with nbviewer.org.</b></div><div class=\"sk-container\" hidden><div class=\"sk-item\"><div class=\"sk-estimator fitted sk-toggleable\"><input class=\"sk-toggleable__control sk-hidden--visually\" id=\"sk-estimator-id-1\" type=\"checkbox\" checked><label for=\"sk-estimator-id-1\" class=\"sk-toggleable__label fitted sk-toggleable__label-arrow fitted\">&nbsp;&nbsp;RandomForestClassifier<a class=\"sk-estimator-doc-link fitted\" rel=\"noreferrer\" target=\"_blank\" href=\"https://scikit-learn.org/1.4/modules/generated/sklearn.ensemble.RandomForestClassifier.html\">?<span>Documentation for RandomForestClassifier</span></a><span class=\"sk-estimator-doc-link fitted\">i<span>Fitted</span></span></label><div class=\"sk-toggleable__content fitted\"><pre>RandomForestClassifier()</pre></div> </div></div></div></div>"
      ],
      "text/plain": [
       "RandomForestClassifier()"
      ]
     },
     "execution_count": 18,
     "metadata": {},
     "output_type": "execute_result"
    }
   ],
   "source": [
    "clf.fit(x_train,y_train)"
   ]
  },
  {
   "cell_type": "markdown",
   "id": "718e59f5-533f-463a-9626-f4ea461ab48c",
   "metadata": {
    "jp-MarkdownHeadingCollapsed": true
   },
   "source": [
    "### Step-4 Evaluate Model "
   ]
  },
  {
   "cell_type": "code",
   "execution_count": 19,
   "id": "426cd7c3-862e-4b9b-b2d0-bdc84bb33b31",
   "metadata": {},
   "outputs": [],
   "source": [
    "pridected_y = clf.predict(x_test)"
   ]
  },
  {
   "cell_type": "code",
   "execution_count": 20,
   "id": "a23f8fab-9666-40ae-bba4-069da535cb42",
   "metadata": {},
   "outputs": [
    {
     "data": {
      "text/plain": [
       "1.0"
      ]
     },
     "execution_count": 20,
     "metadata": {},
     "output_type": "execute_result"
    }
   ],
   "source": [
    "#accuracy of original data \n",
    "clf.score(x_train,y_train)"
   ]
  },
  {
   "cell_type": "code",
   "execution_count": 22,
   "id": "258b8299-0c90-4bbf-8156-863983ca0acc",
   "metadata": {},
   "outputs": [
    {
     "data": {
      "text/plain": [
       "0.8533333333333334"
      ]
     },
     "execution_count": 22,
     "metadata": {},
     "output_type": "execute_result"
    }
   ],
   "source": [
    "#acuuracy of test data \n",
    "clf.score(x_test,y_test)"
   ]
  },
  {
   "cell_type": "markdown",
   "id": "fca7694f-8979-4b48-960b-f1f5d30511e1",
   "metadata": {
    "jp-MarkdownHeadingCollapsed": true
   },
   "source": [
    "### Step-5 Improve Model"
   ]
  },
  {
   "cell_type": "code",
   "execution_count": 29,
   "id": "bd56ceb9-f09d-4bec-a8ed-752746a8d69d",
   "metadata": {},
   "outputs": [
    {
     "name": "stdout",
     "output_type": "stream",
     "text": [
      "Running Model With 10 estimators\n",
      "Accuracy is  0.8133333333333334\n",
      "Running Model With 20 estimators\n",
      "Accuracy is  0.8133333333333334\n",
      "Running Model With 30 estimators\n",
      "Accuracy is  0.84\n",
      "Running Model With 40 estimators\n",
      "Accuracy is  0.84\n",
      "Running Model With 50 estimators\n",
      "Accuracy is  0.8266666666666667\n",
      "Running Model With 60 estimators\n",
      "Accuracy is  0.7866666666666666\n",
      "Running Model With 70 estimators\n",
      "Accuracy is  0.8133333333333334\n",
      "Running Model With 80 estimators\n",
      "Accuracy is  0.84\n",
      "Running Model With 90 estimators\n",
      "Accuracy is  0.8533333333333334\n",
      "Running Model With 100 estimators\n",
      "Accuracy is  0.8266666666666667\n",
      "Running Model With 110 estimators\n",
      "Accuracy is  0.84\n",
      "Running Model With 120 estimators\n",
      "Accuracy is  0.8133333333333334\n",
      "Running Model With 130 estimators\n",
      "Accuracy is  0.8533333333333334\n",
      "Running Model With 140 estimators\n",
      "Accuracy is  0.84\n",
      "Running Model With 150 estimators\n",
      "Accuracy is  0.84\n",
      "Running Model With 160 estimators\n",
      "Accuracy is  0.8266666666666667\n",
      "Running Model With 170 estimators\n",
      "Accuracy is  0.8133333333333334\n",
      "Running Model With 180 estimators\n",
      "Accuracy is  0.8266666666666667\n",
      "Running Model With 190 estimators\n",
      "Accuracy is  0.84\n"
     ]
    }
   ],
   "source": [
    "for i in range (10,200,10):\n",
    "    print('Running Model With', i , 'estimators')\n",
    "    clf = RandomForestClassifier(n_estimators=i).fit(x_train,y_train)\n",
    "    print('Accuracy is ' , clf.score(x_test,y_test))"
   ]
  },
  {
   "cell_type": "code",
   "execution_count": 47,
   "id": "a19baa9d-baab-4b55-a1ef-785635bc4bc9",
   "metadata": {},
   "outputs": [],
   "source": [
    "#improved model\n",
    "clf = RandomForestClassifier(n_estimators=50).fit(x_train,y_train)"
   ]
  },
  {
   "cell_type": "code",
   "execution_count": 48,
   "id": "f71a39b0-b7c7-42df-8789-a6ccbbc89c98",
   "metadata": {},
   "outputs": [
    {
     "data": {
      "text/plain": [
       "0.8666666666666667"
      ]
     },
     "execution_count": 48,
     "metadata": {},
     "output_type": "execute_result"
    }
   ],
   "source": [
    "clf.score(x_test,y_test)"
   ]
  },
  {
   "cell_type": "markdown",
   "id": "e4b8f387-693f-468d-925f-28846877792e",
   "metadata": {
    "jp-MarkdownHeadingCollapsed": true
   },
   "source": [
    "### Step-6 Save Model "
   ]
  },
  {
   "cell_type": "code",
   "execution_count": 50,
   "id": "2b91c6b1-c1c5-49b7-9425-a9ae5a2ab75d",
   "metadata": {},
   "outputs": [],
   "source": [
    "import pickle \n",
    "pickle.dump(clf,open('Heart Disease Pridictor.pkl','wb'))"
   ]
  },
  {
   "cell_type": "code",
   "execution_count": 54,
   "id": "2ab04487-4e2e-47ef-83f0-77ffb01fa233",
   "metadata": {},
   "outputs": [],
   "source": [
    "#load model\n",
    "load_model = pickle.load(open('Heart Disease Pridictor.pkl','rb'))"
   ]
  },
  {
   "cell_type": "code",
   "execution_count": 55,
   "id": "93332922-47b0-4866-a29a-58012d221cf9",
   "metadata": {},
   "outputs": [
    {
     "data": {
      "text/plain": [
       "0.8666666666666667"
      ]
     },
     "execution_count": 55,
     "metadata": {},
     "output_type": "execute_result"
    }
   ],
   "source": [
    "load_model.score(x_test,y_test)"
   ]
  },
  {
   "cell_type": "markdown",
   "id": "ff14f205-614c-4f49-be14-e9c15dd96b37",
   "metadata": {},
   "source": [
    "## sklearn LifeCycle Advanced "
   ]
  },
  {
   "cell_type": "markdown",
   "id": "e3b4e4a8-59aa-43e1-ba0e-ce1e8aa4584c",
   "metadata": {
    "jp-MarkdownHeadingCollapsed": true
   },
   "source": [
    "### Step 1 Getting Data "
   ]
  },
  {
   "cell_type": "code",
   "execution_count": 1,
   "id": "9fb104f8-6c9b-43f6-9839-0a4f0c87389b",
   "metadata": {},
   "outputs": [],
   "source": [
    "# 1.1 Split data into features and label"
   ]
  },
  {
   "cell_type": "code",
   "execution_count": 1,
   "id": "5b425f6e-a985-4450-8006-3635e22faa21",
   "metadata": {},
   "outputs": [],
   "source": [
    "import numpy as np \n",
    "import pandas as pd \n",
    "import matplotlib.pyplot as plt \n",
    "%matplotlib inline "
   ]
  },
  {
   "cell_type": "code",
   "execution_count": 2,
   "id": "a676623d-c4ce-4c73-b369-875d0c6f9a56",
   "metadata": {},
   "outputs": [],
   "source": [
    "#using heart disease data \n",
    "heart_disease = pd.read_csv('Heart disease data.csv')\n",
    "xheart1 = heart_disease.drop('condition',axis=1)\n",
    "yheart1 = heart_disease['condition']"
   ]
  },
  {
   "cell_type": "code",
   "execution_count": 3,
   "id": "1b8556d7-ca82-4ca1-a868-aae0a3298cbe",
   "metadata": {},
   "outputs": [],
   "source": [
    "from sklearn.model_selection import train_test_split\n",
    "x_train1,x_test1,y_train1,y_test1 = train_test_split(xheart1,yheart1,test_size = 0.25)"
   ]
  },
  {
   "cell_type": "code",
   "execution_count": 4,
   "id": "9322fef8-5d4c-4066-9724-347c53454d90",
   "metadata": {},
   "outputs": [
    {
     "data": {
      "text/plain": [
       "297"
      ]
     },
     "execution_count": 4,
     "metadata": {},
     "output_type": "execute_result"
    }
   ],
   "source": [
    "len(heart_disease)"
   ]
  },
  {
   "cell_type": "code",
   "execution_count": 5,
   "id": "c8dad4ab-0667-4df3-8c04-3fdf6615cd03",
   "metadata": {},
   "outputs": [
    {
     "data": {
      "text/plain": [
       "((222, 13), (222,), (75, 13), (75,))"
      ]
     },
     "execution_count": 5,
     "metadata": {},
     "output_type": "execute_result"
    }
   ],
   "source": [
    "x_train1.shape,y_train1.shape,x_test1.shape,y_test1.shape  "
   ]
  },
  {
   "cell_type": "code",
   "execution_count": 6,
   "id": "4b79f349-8a3d-4e91-b796-1c5718b26f78",
   "metadata": {},
   "outputs": [],
   "source": [
    "# 1.2 Filling Missing Values "
   ]
  },
  {
   "cell_type": "code",
   "execution_count": 7,
   "id": "69ca9fac-17d5-4340-b03a-2f646f1d6bf1",
   "metadata": {},
   "outputs": [],
   "source": [
    "#using phone data \n",
    "import pandas as pd\n",
    "phone_data = pd.read_csv('phonedatalarge.csv')"
   ]
  },
  {
   "cell_type": "code",
   "execution_count": 8,
   "id": "564317a6-1b64-40c6-b2e2-f0270dd363a5",
   "metadata": {},
   "outputs": [
    {
     "data": {
      "text/html": [
       "<div>\n",
       "<style scoped>\n",
       "    .dataframe tbody tr th:only-of-type {\n",
       "        vertical-align: middle;\n",
       "    }\n",
       "\n",
       "    .dataframe tbody tr th {\n",
       "        vertical-align: top;\n",
       "    }\n",
       "\n",
       "    .dataframe thead th {\n",
       "        text-align: right;\n",
       "    }\n",
       "</style>\n",
       "<table border=\"1\" class=\"dataframe\">\n",
       "  <thead>\n",
       "    <tr style=\"text-align: right;\">\n",
       "      <th></th>\n",
       "      <th>Make</th>\n",
       "      <th>Color</th>\n",
       "      <th>Memory(kb)</th>\n",
       "      <th>Sim card</th>\n",
       "      <th>Price</th>\n",
       "    </tr>\n",
       "  </thead>\n",
       "  <tbody>\n",
       "    <tr>\n",
       "      <th>0</th>\n",
       "      <td>Nokia</td>\n",
       "      <td>White</td>\n",
       "      <td>576888.0</td>\n",
       "      <td>4.0</td>\n",
       "      <td>$220.00</td>\n",
       "    </tr>\n",
       "    <tr>\n",
       "      <th>1</th>\n",
       "      <td>Samsung</td>\n",
       "      <td>NaN</td>\n",
       "      <td>255566.0</td>\n",
       "      <td>4.0</td>\n",
       "      <td>$700.00</td>\n",
       "    </tr>\n",
       "    <tr>\n",
       "      <th>2</th>\n",
       "      <td>Iphone</td>\n",
       "      <td>Blue</td>\n",
       "      <td>455666.0</td>\n",
       "      <td>4.0</td>\n",
       "      <td>$600.00</td>\n",
       "    </tr>\n",
       "    <tr>\n",
       "      <th>3</th>\n",
       "      <td>Motorola</td>\n",
       "      <td>Green</td>\n",
       "      <td>134241.0</td>\n",
       "      <td>4.0</td>\n",
       "      <td>$350.00</td>\n",
       "    </tr>\n",
       "    <tr>\n",
       "      <th>4</th>\n",
       "      <td>Nokia</td>\n",
       "      <td>Black</td>\n",
       "      <td>314235.0</td>\n",
       "      <td>3.0</td>\n",
       "      <td>$400.00</td>\n",
       "    </tr>\n",
       "  </tbody>\n",
       "</table>\n",
       "</div>"
      ],
      "text/plain": [
       "       Make   Color  Memory(kb)  Sim card     Price\n",
       "0    Nokia   White     576888.0       4.0  $220.00 \n",
       "1   Samsung     NaN    255566.0       4.0  $700.00 \n",
       "2   Iphone    Blue     455666.0       4.0  $600.00 \n",
       "3  Motorola   Green    134241.0       4.0  $350.00 \n",
       "4    Nokia   Black     314235.0       3.0  $400.00 "
      ]
     },
     "execution_count": 8,
     "metadata": {},
     "output_type": "execute_result"
    }
   ],
   "source": [
    "phone_data.head()"
   ]
  },
  {
   "cell_type": "code",
   "execution_count": 9,
   "id": "7c526e97-bc09-4953-9ec1-e24156746c4b",
   "metadata": {},
   "outputs": [
    {
     "data": {
      "text/plain": [
       "Make          1\n",
       "Color         2\n",
       "Memory(kb)    2\n",
       "Sim card      1\n",
       "Price         3\n",
       "dtype: int64"
      ]
     },
     "execution_count": 9,
     "metadata": {},
     "output_type": "execute_result"
    }
   ],
   "source": [
    "phone_data.isna().sum()"
   ]
  },
  {
   "cell_type": "code",
   "execution_count": 10,
   "id": "5c802daf-f234-47dc-8f27-7edd82745402",
   "metadata": {},
   "outputs": [
    {
     "data": {
      "text/plain": [
       "Make          1\n",
       "Color         2\n",
       "Memory(kb)    1\n",
       "Sim card      1\n",
       "Price         0\n",
       "dtype: int64"
      ]
     },
     "execution_count": 10,
     "metadata": {},
     "output_type": "execute_result"
    }
   ],
   "source": [
    "# Filling NaN Values  using sklearn \n",
    "phone_data.dropna(subset=['Price'],inplace = True )\n",
    "phone_data.isna().sum()"
   ]
  },
  {
   "cell_type": "code",
   "execution_count": 11,
   "id": "7bfae16b-07d5-48d1-8bcf-8474eab56c35",
   "metadata": {},
   "outputs": [],
   "source": [
    "xphone = phone_data.drop('Price',axis=1)\n",
    "#y = phone_data['Price']"
   ]
  },
  {
   "cell_type": "code",
   "execution_count": 12,
   "id": "076b7c7a-c5cb-45e0-83e0-c1ae22c039e2",
   "metadata": {},
   "outputs": [],
   "source": [
    "#x_train,x_test,y_train,y_test = train_test_split(x,y,test_size = 0.25)"
   ]
  },
  {
   "cell_type": "code",
   "execution_count": 13,
   "id": "22c28f6f-3aa4-495a-aec1-410dc4b6e10c",
   "metadata": {},
   "outputs": [],
   "source": [
    "from sklearn.impute import SimpleImputer\n",
    "from sklearn.compose import ColumnTransformer\n",
    "#SimpleImputer : replace missing values in a dataset, using a variety of input strategies\n",
    "#ColumnTransformer : used to create and apply separate transformers for numerical and categorical data"
   ]
  },
  {
   "cell_type": "code",
   "execution_count": 14,
   "id": "11602cbe-1a00-4408-b2b6-47c9421123f3",
   "metadata": {},
   "outputs": [],
   "source": [
    "#defining strategy to fill columns \n",
    "string_feature = SimpleImputer(strategy = 'constant',fill_value = 'missing')\n",
    "sim_card = SimpleImputer(strategy = 'constant',fill_value = 5)\n",
    "num_feature = SimpleImputer(strategy = 'mean')"
   ]
  },
  {
   "cell_type": "code",
   "execution_count": 15,
   "id": "8fa92940-e423-4896-88e9-3da88a8342dd",
   "metadata": {},
   "outputs": [],
   "source": [
    "phone_data.columns = phone_data.columns.str.strip()"
   ]
  },
  {
   "cell_type": "code",
   "execution_count": 16,
   "id": "05238929-a26c-4526-95e9-df70a6f975a5",
   "metadata": {},
   "outputs": [],
   "source": [
    "#defining columns to apply these imputers\n",
    "strings = ['Make','Color']\n",
    "sim = ['Sim card']\n",
    "num = ['Memory(kb)']"
   ]
  },
  {
   "cell_type": "code",
   "execution_count": 17,
   "id": "de41f49d-dcb5-4730-9d04-42f21d84d504",
   "metadata": {},
   "outputs": [],
   "source": [
    "#applying imputers\n",
    "imputer = ColumnTransformer([('string_imp',string_feature,strings),('sim_imp',sim_card,sim),('num_imp',num_feature,num)])"
   ]
  },
  {
   "cell_type": "code",
   "execution_count": 18,
   "id": "d6f6ac97-5915-4c4e-bb86-cfa503a9ab7d",
   "metadata": {},
   "outputs": [
    {
     "data": {
      "text/plain": [
       "Index(['Make', 'Color', 'Memory(kb)', 'Sim card'], dtype='object')"
      ]
     },
     "execution_count": 18,
     "metadata": {},
     "output_type": "execute_result"
    }
   ],
   "source": [
    "xphone.columns"
   ]
  },
  {
   "cell_type": "code",
   "execution_count": 19,
   "id": "58525614-5f60-4a5b-99d0-4232f853a619",
   "metadata": {},
   "outputs": [],
   "source": [
    "filled_x = imputer.fit_transform(xphone)"
   ]
  },
  {
   "cell_type": "code",
   "execution_count": 20,
   "id": "ded5930c-d09f-475b-a0e5-7e67c1c3dfcd",
   "metadata": {},
   "outputs": [],
   "source": [
    "filled_x_df = pd.DataFrame(filled_x,columns = ['Make','Color','Memory(kb)','Sim card'])"
   ]
  },
  {
   "cell_type": "code",
   "execution_count": 21,
   "id": "0ad9d6f2-69c6-4071-b148-69150bcb969d",
   "metadata": {},
   "outputs": [
    {
     "data": {
      "text/plain": [
       "Make          0\n",
       "Color         0\n",
       "Memory(kb)    0\n",
       "Sim card      0\n",
       "dtype: int64"
      ]
     },
     "execution_count": 21,
     "metadata": {},
     "output_type": "execute_result"
    }
   ],
   "source": [
    "filled_x_df .isna().sum()"
   ]
  },
  {
   "cell_type": "code",
   "execution_count": 22,
   "id": "3fc54d3f-4df7-4dc6-adef-2c23955f5476",
   "metadata": {},
   "outputs": [
    {
     "data": {
      "text/html": [
       "<div>\n",
       "<style scoped>\n",
       "    .dataframe tbody tr th:only-of-type {\n",
       "        vertical-align: middle;\n",
       "    }\n",
       "\n",
       "    .dataframe tbody tr th {\n",
       "        vertical-align: top;\n",
       "    }\n",
       "\n",
       "    .dataframe thead th {\n",
       "        text-align: right;\n",
       "    }\n",
       "</style>\n",
       "<table border=\"1\" class=\"dataframe\">\n",
       "  <thead>\n",
       "    <tr style=\"text-align: right;\">\n",
       "      <th></th>\n",
       "      <th>Make</th>\n",
       "      <th>Color</th>\n",
       "      <th>Memory(kb)</th>\n",
       "      <th>Sim card</th>\n",
       "    </tr>\n",
       "  </thead>\n",
       "  <tbody>\n",
       "    <tr>\n",
       "      <th>0</th>\n",
       "      <td>Nokia</td>\n",
       "      <td>White</td>\n",
       "      <td>4.0</td>\n",
       "      <td>576888.0</td>\n",
       "    </tr>\n",
       "    <tr>\n",
       "      <th>1</th>\n",
       "      <td>Samsung</td>\n",
       "      <td>missing</td>\n",
       "      <td>4.0</td>\n",
       "      <td>255566.0</td>\n",
       "    </tr>\n",
       "    <tr>\n",
       "      <th>2</th>\n",
       "      <td>Iphone</td>\n",
       "      <td>Blue</td>\n",
       "      <td>4.0</td>\n",
       "      <td>455666.0</td>\n",
       "    </tr>\n",
       "    <tr>\n",
       "      <th>3</th>\n",
       "      <td>Motorola</td>\n",
       "      <td>Green</td>\n",
       "      <td>4.0</td>\n",
       "      <td>134241.0</td>\n",
       "    </tr>\n",
       "    <tr>\n",
       "      <th>4</th>\n",
       "      <td>Nokia</td>\n",
       "      <td>Black</td>\n",
       "      <td>3.0</td>\n",
       "      <td>314235.0</td>\n",
       "    </tr>\n",
       "  </tbody>\n",
       "</table>\n",
       "</div>"
      ],
      "text/plain": [
       "       Make    Color Memory(kb)  Sim card\n",
       "0    Nokia    White         4.0  576888.0\n",
       "1   Samsung  missing        4.0  255566.0\n",
       "2   Iphone     Blue         4.0  455666.0\n",
       "3  Motorola    Green        4.0  134241.0\n",
       "4    Nokia    Black         3.0  314235.0"
      ]
     },
     "execution_count": 22,
     "metadata": {},
     "output_type": "execute_result"
    }
   ],
   "source": [
    "filled_x_df.head()"
   ]
  },
  {
   "cell_type": "code",
   "execution_count": 23,
   "id": "49c70d68-e787-42fb-ba3c-2e4828be236e",
   "metadata": {},
   "outputs": [],
   "source": [
    "# 1.3 converting data types "
   ]
  },
  {
   "cell_type": "code",
   "execution_count": 24,
   "id": "477dbced-1644-41dc-a72f-3668912ba859",
   "metadata": {},
   "outputs": [
    {
     "data": {
      "text/plain": [
       "Make           object\n",
       "Color          object\n",
       "Memory(kb)    float64\n",
       "Sim card      float64\n",
       "Price          object\n",
       "dtype: object"
      ]
     },
     "execution_count": 24,
     "metadata": {},
     "output_type": "execute_result"
    }
   ],
   "source": [
    "#using phone data 2\n",
    "phone_data.dtypes"
   ]
  },
  {
   "cell_type": "code",
   "execution_count": 25,
   "id": "7a6cbd51-caee-4330-946f-6008b0c97e03",
   "metadata": {},
   "outputs": [
    {
     "data": {
      "text/html": [
       "<div>\n",
       "<style scoped>\n",
       "    .dataframe tbody tr th:only-of-type {\n",
       "        vertical-align: middle;\n",
       "    }\n",
       "\n",
       "    .dataframe tbody tr th {\n",
       "        vertical-align: top;\n",
       "    }\n",
       "\n",
       "    .dataframe thead th {\n",
       "        text-align: right;\n",
       "    }\n",
       "</style>\n",
       "<table border=\"1\" class=\"dataframe\">\n",
       "  <thead>\n",
       "    <tr style=\"text-align: right;\">\n",
       "      <th></th>\n",
       "      <th>Make</th>\n",
       "      <th>Color</th>\n",
       "      <th>Memory(kb)</th>\n",
       "      <th>Sim card</th>\n",
       "      <th>Price</th>\n",
       "    </tr>\n",
       "  </thead>\n",
       "  <tbody>\n",
       "    <tr>\n",
       "      <th>0</th>\n",
       "      <td>Nokia</td>\n",
       "      <td>White</td>\n",
       "      <td>576888.0</td>\n",
       "      <td>4.0</td>\n",
       "      <td>$220.00</td>\n",
       "    </tr>\n",
       "    <tr>\n",
       "      <th>1</th>\n",
       "      <td>Samsung</td>\n",
       "      <td>NaN</td>\n",
       "      <td>255566.0</td>\n",
       "      <td>4.0</td>\n",
       "      <td>$700.00</td>\n",
       "    </tr>\n",
       "    <tr>\n",
       "      <th>2</th>\n",
       "      <td>Iphone</td>\n",
       "      <td>Blue</td>\n",
       "      <td>455666.0</td>\n",
       "      <td>4.0</td>\n",
       "      <td>$600.00</td>\n",
       "    </tr>\n",
       "    <tr>\n",
       "      <th>3</th>\n",
       "      <td>Motorola</td>\n",
       "      <td>Green</td>\n",
       "      <td>134241.0</td>\n",
       "      <td>4.0</td>\n",
       "      <td>$350.00</td>\n",
       "    </tr>\n",
       "    <tr>\n",
       "      <th>4</th>\n",
       "      <td>Nokia</td>\n",
       "      <td>Black</td>\n",
       "      <td>314235.0</td>\n",
       "      <td>3.0</td>\n",
       "      <td>$400.00</td>\n",
       "    </tr>\n",
       "  </tbody>\n",
       "</table>\n",
       "</div>"
      ],
      "text/plain": [
       "       Make   Color  Memory(kb)  Sim card     Price\n",
       "0    Nokia   White     576888.0       4.0  $220.00 \n",
       "1   Samsung     NaN    255566.0       4.0  $700.00 \n",
       "2   Iphone    Blue     455666.0       4.0  $600.00 \n",
       "3  Motorola   Green    134241.0       4.0  $350.00 \n",
       "4    Nokia   Black     314235.0       3.0  $400.00 "
      ]
     },
     "execution_count": 25,
     "metadata": {},
     "output_type": "execute_result"
    }
   ],
   "source": [
    "phone_data.head()"
   ]
  },
  {
   "cell_type": "code",
   "execution_count": 26,
   "id": "ca19f977-f36c-4bc2-badc-c0bb7c6f876a",
   "metadata": {},
   "outputs": [],
   "source": [
    "phone_data['Price'] = phone_data['Price'].str[:-3]"
   ]
  },
  {
   "cell_type": "code",
   "execution_count": 27,
   "id": "70e36720-00f2-44c8-97b3-6c1bb1a84255",
   "metadata": {},
   "outputs": [
    {
     "data": {
      "text/html": [
       "<div>\n",
       "<style scoped>\n",
       "    .dataframe tbody tr th:only-of-type {\n",
       "        vertical-align: middle;\n",
       "    }\n",
       "\n",
       "    .dataframe tbody tr th {\n",
       "        vertical-align: top;\n",
       "    }\n",
       "\n",
       "    .dataframe thead th {\n",
       "        text-align: right;\n",
       "    }\n",
       "</style>\n",
       "<table border=\"1\" class=\"dataframe\">\n",
       "  <thead>\n",
       "    <tr style=\"text-align: right;\">\n",
       "      <th></th>\n",
       "      <th>Make</th>\n",
       "      <th>Color</th>\n",
       "      <th>Memory(kb)</th>\n",
       "      <th>Sim card</th>\n",
       "      <th>Price</th>\n",
       "    </tr>\n",
       "  </thead>\n",
       "  <tbody>\n",
       "    <tr>\n",
       "      <th>0</th>\n",
       "      <td>Nokia</td>\n",
       "      <td>White</td>\n",
       "      <td>576888.0</td>\n",
       "      <td>4.0</td>\n",
       "      <td>$220.</td>\n",
       "    </tr>\n",
       "    <tr>\n",
       "      <th>1</th>\n",
       "      <td>Samsung</td>\n",
       "      <td>NaN</td>\n",
       "      <td>255566.0</td>\n",
       "      <td>4.0</td>\n",
       "      <td>$700.</td>\n",
       "    </tr>\n",
       "    <tr>\n",
       "      <th>2</th>\n",
       "      <td>Iphone</td>\n",
       "      <td>Blue</td>\n",
       "      <td>455666.0</td>\n",
       "      <td>4.0</td>\n",
       "      <td>$600.</td>\n",
       "    </tr>\n",
       "    <tr>\n",
       "      <th>3</th>\n",
       "      <td>Motorola</td>\n",
       "      <td>Green</td>\n",
       "      <td>134241.0</td>\n",
       "      <td>4.0</td>\n",
       "      <td>$350.</td>\n",
       "    </tr>\n",
       "    <tr>\n",
       "      <th>4</th>\n",
       "      <td>Nokia</td>\n",
       "      <td>Black</td>\n",
       "      <td>314235.0</td>\n",
       "      <td>3.0</td>\n",
       "      <td>$400.</td>\n",
       "    </tr>\n",
       "  </tbody>\n",
       "</table>\n",
       "</div>"
      ],
      "text/plain": [
       "       Make   Color  Memory(kb)  Sim card  Price\n",
       "0    Nokia   White     576888.0       4.0  $220.\n",
       "1   Samsung     NaN    255566.0       4.0  $700.\n",
       "2   Iphone    Blue     455666.0       4.0  $600.\n",
       "3  Motorola   Green    134241.0       4.0  $350.\n",
       "4    Nokia   Black     314235.0       3.0  $400."
      ]
     },
     "execution_count": 27,
     "metadata": {},
     "output_type": "execute_result"
    }
   ],
   "source": [
    "phone_data.head()"
   ]
  },
  {
   "cell_type": "code",
   "execution_count": 28,
   "id": "42d6d9f8-d2a8-49f1-a46d-cddb921633cc",
   "metadata": {},
   "outputs": [
    {
     "data": {
      "text/html": [
       "<div>\n",
       "<style scoped>\n",
       "    .dataframe tbody tr th:only-of-type {\n",
       "        vertical-align: middle;\n",
       "    }\n",
       "\n",
       "    .dataframe tbody tr th {\n",
       "        vertical-align: top;\n",
       "    }\n",
       "\n",
       "    .dataframe thead th {\n",
       "        text-align: right;\n",
       "    }\n",
       "</style>\n",
       "<table border=\"1\" class=\"dataframe\">\n",
       "  <thead>\n",
       "    <tr style=\"text-align: right;\">\n",
       "      <th></th>\n",
       "      <th>Make</th>\n",
       "      <th>Color</th>\n",
       "      <th>Memory(kb)</th>\n",
       "      <th>Sim card</th>\n",
       "      <th>Price</th>\n",
       "    </tr>\n",
       "  </thead>\n",
       "  <tbody>\n",
       "    <tr>\n",
       "      <th>0</th>\n",
       "      <td>Nokia</td>\n",
       "      <td>White</td>\n",
       "      <td>576888.0</td>\n",
       "      <td>4.0</td>\n",
       "      <td>220</td>\n",
       "    </tr>\n",
       "    <tr>\n",
       "      <th>1</th>\n",
       "      <td>Samsung</td>\n",
       "      <td>NaN</td>\n",
       "      <td>255566.0</td>\n",
       "      <td>4.0</td>\n",
       "      <td>700</td>\n",
       "    </tr>\n",
       "    <tr>\n",
       "      <th>2</th>\n",
       "      <td>Iphone</td>\n",
       "      <td>Blue</td>\n",
       "      <td>455666.0</td>\n",
       "      <td>4.0</td>\n",
       "      <td>600</td>\n",
       "    </tr>\n",
       "    <tr>\n",
       "      <th>3</th>\n",
       "      <td>Motorola</td>\n",
       "      <td>Green</td>\n",
       "      <td>134241.0</td>\n",
       "      <td>4.0</td>\n",
       "      <td>350</td>\n",
       "    </tr>\n",
       "    <tr>\n",
       "      <th>4</th>\n",
       "      <td>Nokia</td>\n",
       "      <td>Black</td>\n",
       "      <td>314235.0</td>\n",
       "      <td>3.0</td>\n",
       "      <td>400</td>\n",
       "    </tr>\n",
       "  </tbody>\n",
       "</table>\n",
       "</div>"
      ],
      "text/plain": [
       "       Make   Color  Memory(kb)  Sim card Price\n",
       "0    Nokia   White     576888.0       4.0   220\n",
       "1   Samsung     NaN    255566.0       4.0   700\n",
       "2   Iphone    Blue     455666.0       4.0   600\n",
       "3  Motorola   Green    134241.0       4.0   350\n",
       "4    Nokia   Black     314235.0       3.0   400"
      ]
     },
     "execution_count": 28,
     "metadata": {},
     "output_type": "execute_result"
    }
   ],
   "source": [
    "phone_data['Price'] = phone_data['Price'].str.replace(r'[\\$\\.\\,]','',regex = True )\n",
    "phone_data.head()"
   ]
  },
  {
   "cell_type": "code",
   "execution_count": 29,
   "id": "b38988b9-470c-46d3-b2e8-94765c2cd721",
   "metadata": {},
   "outputs": [
    {
     "data": {
      "text/plain": [
       "0     220\n",
       "1     700\n",
       "2     600\n",
       "3     350\n",
       "4     400\n",
       "     ... \n",
       "93    440\n",
       "94    440\n",
       "95    440\n",
       "96    440\n",
       "97    440\n",
       "Name: Price, Length: 96, dtype: int32"
      ]
     },
     "execution_count": 29,
     "metadata": {},
     "output_type": "execute_result"
    }
   ],
   "source": [
    "phone_data['Price'] = phone_data['Price'].astype(int)\n",
    "yphone = phone_data['Price']\n",
    "yphone"
   ]
  },
  {
   "cell_type": "code",
   "execution_count": 30,
   "id": "bb58a459-e372-4129-9c5b-8241a8207267",
   "metadata": {},
   "outputs": [],
   "source": [
    "x_train2,x_test2,y_train2,y_test2 = train_test_split(xphone,yphone,test_size = 0.2)"
   ]
  },
  {
   "cell_type": "code",
   "execution_count": 31,
   "id": "d52c80c7-7daf-457d-9648-23928c599bf3",
   "metadata": {},
   "outputs": [],
   "source": [
    "phone_data.columns = phone_data.columns.str.strip()\n",
    "phone_data['Make'] = phone_data['Make'].str.strip()"
   ]
  },
  {
   "cell_type": "code",
   "execution_count": 32,
   "id": "34f6b7d1-e5b3-4bd4-84c8-1324573fc1c2",
   "metadata": {},
   "outputs": [],
   "source": [
    "from sklearn.preprocessing import OneHotEncoder\n",
    "#One hot encoding is a technique that is used to represent categorical variables as numerical values in a machine learning model"
   ]
  },
  {
   "cell_type": "code",
   "execution_count": 33,
   "id": "8a481c18-bfe2-4368-94db-d4c361a7015c",
   "metadata": {},
   "outputs": [],
   "source": [
    "features = ['Make','Color']"
   ]
  },
  {
   "cell_type": "code",
   "execution_count": 34,
   "id": "ba7f0a14-7474-4dc2-aade-5229e8a66e1f",
   "metadata": {},
   "outputs": [],
   "source": [
    "encoder = OneHotEncoder(sparse_output=False)"
   ]
  },
  {
   "cell_type": "code",
   "execution_count": 35,
   "id": "29319863-4514-4c2b-badd-b4a7cf0ecff2",
   "metadata": {},
   "outputs": [],
   "source": [
    "transformer = ColumnTransformer ([('type_change',encoder,features)],remainder = 'passthrough')"
   ]
  },
  {
   "cell_type": "code",
   "execution_count": 36,
   "id": "f863959d-0f14-4b2d-8e43-7f0191931cb7",
   "metadata": {},
   "outputs": [],
   "source": [
    "transformed_x = transformer.fit_transform(filled_x_df)"
   ]
  },
  {
   "cell_type": "code",
   "execution_count": 37,
   "id": "00635929-d3e6-4b2e-b3b0-a2e2550eaec1",
   "metadata": {},
   "outputs": [
    {
     "data": {
      "text/html": [
       "<div>\n",
       "<style scoped>\n",
       "    .dataframe tbody tr th:only-of-type {\n",
       "        vertical-align: middle;\n",
       "    }\n",
       "\n",
       "    .dataframe tbody tr th {\n",
       "        vertical-align: top;\n",
       "    }\n",
       "\n",
       "    .dataframe thead th {\n",
       "        text-align: right;\n",
       "    }\n",
       "</style>\n",
       "<table border=\"1\" class=\"dataframe\">\n",
       "  <thead>\n",
       "    <tr style=\"text-align: right;\">\n",
       "      <th></th>\n",
       "      <th>0</th>\n",
       "      <th>1</th>\n",
       "      <th>2</th>\n",
       "      <th>3</th>\n",
       "      <th>4</th>\n",
       "      <th>5</th>\n",
       "      <th>6</th>\n",
       "      <th>7</th>\n",
       "      <th>8</th>\n",
       "      <th>9</th>\n",
       "      <th>10</th>\n",
       "      <th>11</th>\n",
       "      <th>12</th>\n",
       "      <th>13</th>\n",
       "      <th>14</th>\n",
       "      <th>15</th>\n",
       "    </tr>\n",
       "  </thead>\n",
       "  <tbody>\n",
       "    <tr>\n",
       "      <th>0</th>\n",
       "      <td>0.0</td>\n",
       "      <td>0.0</td>\n",
       "      <td>0.0</td>\n",
       "      <td>1.0</td>\n",
       "      <td>0.0</td>\n",
       "      <td>0.0</td>\n",
       "      <td>0.0</td>\n",
       "      <td>0.0</td>\n",
       "      <td>0.0</td>\n",
       "      <td>0.0</td>\n",
       "      <td>0.0</td>\n",
       "      <td>0.0</td>\n",
       "      <td>1.0</td>\n",
       "      <td>0.0</td>\n",
       "      <td>4.0</td>\n",
       "      <td>576888.0</td>\n",
       "    </tr>\n",
       "    <tr>\n",
       "      <th>1</th>\n",
       "      <td>0.0</td>\n",
       "      <td>0.0</td>\n",
       "      <td>0.0</td>\n",
       "      <td>0.0</td>\n",
       "      <td>1.0</td>\n",
       "      <td>0.0</td>\n",
       "      <td>0.0</td>\n",
       "      <td>0.0</td>\n",
       "      <td>0.0</td>\n",
       "      <td>0.0</td>\n",
       "      <td>0.0</td>\n",
       "      <td>0.0</td>\n",
       "      <td>0.0</td>\n",
       "      <td>1.0</td>\n",
       "      <td>4.0</td>\n",
       "      <td>255566.0</td>\n",
       "    </tr>\n",
       "    <tr>\n",
       "      <th>2</th>\n",
       "      <td>0.0</td>\n",
       "      <td>1.0</td>\n",
       "      <td>0.0</td>\n",
       "      <td>0.0</td>\n",
       "      <td>0.0</td>\n",
       "      <td>0.0</td>\n",
       "      <td>0.0</td>\n",
       "      <td>0.0</td>\n",
       "      <td>0.0</td>\n",
       "      <td>1.0</td>\n",
       "      <td>0.0</td>\n",
       "      <td>0.0</td>\n",
       "      <td>0.0</td>\n",
       "      <td>0.0</td>\n",
       "      <td>4.0</td>\n",
       "      <td>455666.0</td>\n",
       "    </tr>\n",
       "    <tr>\n",
       "      <th>3</th>\n",
       "      <td>0.0</td>\n",
       "      <td>0.0</td>\n",
       "      <td>1.0</td>\n",
       "      <td>0.0</td>\n",
       "      <td>0.0</td>\n",
       "      <td>0.0</td>\n",
       "      <td>0.0</td>\n",
       "      <td>0.0</td>\n",
       "      <td>0.0</td>\n",
       "      <td>0.0</td>\n",
       "      <td>0.0</td>\n",
       "      <td>1.0</td>\n",
       "      <td>0.0</td>\n",
       "      <td>0.0</td>\n",
       "      <td>4.0</td>\n",
       "      <td>134241.0</td>\n",
       "    </tr>\n",
       "    <tr>\n",
       "      <th>4</th>\n",
       "      <td>0.0</td>\n",
       "      <td>0.0</td>\n",
       "      <td>0.0</td>\n",
       "      <td>1.0</td>\n",
       "      <td>0.0</td>\n",
       "      <td>0.0</td>\n",
       "      <td>0.0</td>\n",
       "      <td>1.0</td>\n",
       "      <td>0.0</td>\n",
       "      <td>0.0</td>\n",
       "      <td>0.0</td>\n",
       "      <td>0.0</td>\n",
       "      <td>0.0</td>\n",
       "      <td>0.0</td>\n",
       "      <td>3.0</td>\n",
       "      <td>314235.0</td>\n",
       "    </tr>\n",
       "    <tr>\n",
       "      <th>...</th>\n",
       "      <td>...</td>\n",
       "      <td>...</td>\n",
       "      <td>...</td>\n",
       "      <td>...</td>\n",
       "      <td>...</td>\n",
       "      <td>...</td>\n",
       "      <td>...</td>\n",
       "      <td>...</td>\n",
       "      <td>...</td>\n",
       "      <td>...</td>\n",
       "      <td>...</td>\n",
       "      <td>...</td>\n",
       "      <td>...</td>\n",
       "      <td>...</td>\n",
       "      <td>...</td>\n",
       "      <td>...</td>\n",
       "    </tr>\n",
       "    <tr>\n",
       "      <th>91</th>\n",
       "      <td>0.0</td>\n",
       "      <td>0.0</td>\n",
       "      <td>1.0</td>\n",
       "      <td>0.0</td>\n",
       "      <td>0.0</td>\n",
       "      <td>0.0</td>\n",
       "      <td>0.0</td>\n",
       "      <td>0.0</td>\n",
       "      <td>0.0</td>\n",
       "      <td>0.0</td>\n",
       "      <td>0.0</td>\n",
       "      <td>0.0</td>\n",
       "      <td>1.0</td>\n",
       "      <td>0.0</td>\n",
       "      <td>3.0</td>\n",
       "      <td>455666.0</td>\n",
       "    </tr>\n",
       "    <tr>\n",
       "      <th>92</th>\n",
       "      <td>0.0</td>\n",
       "      <td>0.0</td>\n",
       "      <td>0.0</td>\n",
       "      <td>1.0</td>\n",
       "      <td>0.0</td>\n",
       "      <td>0.0</td>\n",
       "      <td>1.0</td>\n",
       "      <td>0.0</td>\n",
       "      <td>0.0</td>\n",
       "      <td>0.0</td>\n",
       "      <td>0.0</td>\n",
       "      <td>0.0</td>\n",
       "      <td>0.0</td>\n",
       "      <td>0.0</td>\n",
       "      <td>3.0</td>\n",
       "      <td>134344.0</td>\n",
       "    </tr>\n",
       "    <tr>\n",
       "      <th>93</th>\n",
       "      <td>0.0</td>\n",
       "      <td>0.0</td>\n",
       "      <td>0.0</td>\n",
       "      <td>0.0</td>\n",
       "      <td>1.0</td>\n",
       "      <td>0.0</td>\n",
       "      <td>0.0</td>\n",
       "      <td>0.0</td>\n",
       "      <td>0.0</td>\n",
       "      <td>1.0</td>\n",
       "      <td>0.0</td>\n",
       "      <td>0.0</td>\n",
       "      <td>0.0</td>\n",
       "      <td>0.0</td>\n",
       "      <td>3.0</td>\n",
       "      <td>134344.0</td>\n",
       "    </tr>\n",
       "    <tr>\n",
       "      <th>94</th>\n",
       "      <td>0.0</td>\n",
       "      <td>0.0</td>\n",
       "      <td>0.0</td>\n",
       "      <td>0.0</td>\n",
       "      <td>1.0</td>\n",
       "      <td>0.0</td>\n",
       "      <td>0.0</td>\n",
       "      <td>0.0</td>\n",
       "      <td>0.0</td>\n",
       "      <td>0.0</td>\n",
       "      <td>0.0</td>\n",
       "      <td>1.0</td>\n",
       "      <td>0.0</td>\n",
       "      <td>0.0</td>\n",
       "      <td>3.0</td>\n",
       "      <td>134344.0</td>\n",
       "    </tr>\n",
       "    <tr>\n",
       "      <th>95</th>\n",
       "      <td>0.0</td>\n",
       "      <td>0.0</td>\n",
       "      <td>1.0</td>\n",
       "      <td>0.0</td>\n",
       "      <td>0.0</td>\n",
       "      <td>0.0</td>\n",
       "      <td>0.0</td>\n",
       "      <td>1.0</td>\n",
       "      <td>0.0</td>\n",
       "      <td>0.0</td>\n",
       "      <td>0.0</td>\n",
       "      <td>0.0</td>\n",
       "      <td>0.0</td>\n",
       "      <td>0.0</td>\n",
       "      <td>3.0</td>\n",
       "      <td>134344.0</td>\n",
       "    </tr>\n",
       "  </tbody>\n",
       "</table>\n",
       "<p>96 rows × 16 columns</p>\n",
       "</div>"
      ],
      "text/plain": [
       "     0    1    2    3    4    5    6    7    8    9    10   11   12   13   14  \\\n",
       "0   0.0  0.0  0.0  1.0  0.0  0.0  0.0  0.0  0.0  0.0  0.0  0.0  1.0  0.0  4.0   \n",
       "1   0.0  0.0  0.0  0.0  1.0  0.0  0.0  0.0  0.0  0.0  0.0  0.0  0.0  1.0  4.0   \n",
       "2   0.0  1.0  0.0  0.0  0.0  0.0  0.0  0.0  0.0  1.0  0.0  0.0  0.0  0.0  4.0   \n",
       "3   0.0  0.0  1.0  0.0  0.0  0.0  0.0  0.0  0.0  0.0  0.0  1.0  0.0  0.0  4.0   \n",
       "4   0.0  0.0  0.0  1.0  0.0  0.0  0.0  1.0  0.0  0.0  0.0  0.0  0.0  0.0  3.0   \n",
       "..  ...  ...  ...  ...  ...  ...  ...  ...  ...  ...  ...  ...  ...  ...  ...   \n",
       "91  0.0  0.0  1.0  0.0  0.0  0.0  0.0  0.0  0.0  0.0  0.0  0.0  1.0  0.0  3.0   \n",
       "92  0.0  0.0  0.0  1.0  0.0  0.0  1.0  0.0  0.0  0.0  0.0  0.0  0.0  0.0  3.0   \n",
       "93  0.0  0.0  0.0  0.0  1.0  0.0  0.0  0.0  0.0  1.0  0.0  0.0  0.0  0.0  3.0   \n",
       "94  0.0  0.0  0.0  0.0  1.0  0.0  0.0  0.0  0.0  0.0  0.0  1.0  0.0  0.0  3.0   \n",
       "95  0.0  0.0  1.0  0.0  0.0  0.0  0.0  1.0  0.0  0.0  0.0  0.0  0.0  0.0  3.0   \n",
       "\n",
       "          15  \n",
       "0   576888.0  \n",
       "1   255566.0  \n",
       "2   455666.0  \n",
       "3   134241.0  \n",
       "4   314235.0  \n",
       "..       ...  \n",
       "91  455666.0  \n",
       "92  134344.0  \n",
       "93  134344.0  \n",
       "94  134344.0  \n",
       "95  134344.0  \n",
       "\n",
       "[96 rows x 16 columns]"
      ]
     },
     "execution_count": 37,
     "metadata": {},
     "output_type": "execute_result"
    }
   ],
   "source": [
    "transformed_x_df = pd.DataFrame(transformed_x)\n",
    "transformed_x_df "
   ]
  },
  {
   "cell_type": "markdown",
   "id": "85fd43bc-769c-4bd4-b681-5159269a0fe1",
   "metadata": {
    "jp-MarkdownHeadingCollapsed": true
   },
   "source": [
    "### Step 2 Choosing Machine Learning Model"
   ]
  },
  {
   "cell_type": "markdown",
   "id": "00c90f3e-3f4a-4fdc-a345-1cd234d90969",
   "metadata": {},
   "source": [
    "#### Regression Problem "
   ]
  },
  {
   "cell_type": "code",
   "execution_count": 38,
   "id": "eb1b0fe9-4a9e-4f27-aa20-21b7f411dbdf",
   "metadata": {},
   "outputs": [
    {
     "data": {
      "text/html": [
       "<div>\n",
       "<style scoped>\n",
       "    .dataframe tbody tr th:only-of-type {\n",
       "        vertical-align: middle;\n",
       "    }\n",
       "\n",
       "    .dataframe tbody tr th {\n",
       "        vertical-align: top;\n",
       "    }\n",
       "\n",
       "    .dataframe thead th {\n",
       "        text-align: right;\n",
       "    }\n",
       "</style>\n",
       "<table border=\"1\" class=\"dataframe\">\n",
       "  <thead>\n",
       "    <tr style=\"text-align: right;\">\n",
       "      <th></th>\n",
       "      <th>MedInc</th>\n",
       "      <th>HouseAge</th>\n",
       "      <th>AveRooms</th>\n",
       "      <th>AveBedrms</th>\n",
       "      <th>Population</th>\n",
       "      <th>AveOccup</th>\n",
       "      <th>Latitude</th>\n",
       "      <th>Longitude</th>\n",
       "      <th>target</th>\n",
       "    </tr>\n",
       "  </thead>\n",
       "  <tbody>\n",
       "    <tr>\n",
       "      <th>0</th>\n",
       "      <td>8.3252</td>\n",
       "      <td>41.0</td>\n",
       "      <td>6.984127</td>\n",
       "      <td>1.023810</td>\n",
       "      <td>322.0</td>\n",
       "      <td>2.555556</td>\n",
       "      <td>37.88</td>\n",
       "      <td>-122.23</td>\n",
       "      <td>4.526</td>\n",
       "    </tr>\n",
       "    <tr>\n",
       "      <th>1</th>\n",
       "      <td>8.3014</td>\n",
       "      <td>21.0</td>\n",
       "      <td>6.238137</td>\n",
       "      <td>0.971880</td>\n",
       "      <td>2401.0</td>\n",
       "      <td>2.109842</td>\n",
       "      <td>37.86</td>\n",
       "      <td>-122.22</td>\n",
       "      <td>3.585</td>\n",
       "    </tr>\n",
       "    <tr>\n",
       "      <th>2</th>\n",
       "      <td>7.2574</td>\n",
       "      <td>52.0</td>\n",
       "      <td>8.288136</td>\n",
       "      <td>1.073446</td>\n",
       "      <td>496.0</td>\n",
       "      <td>2.802260</td>\n",
       "      <td>37.85</td>\n",
       "      <td>-122.24</td>\n",
       "      <td>3.521</td>\n",
       "    </tr>\n",
       "    <tr>\n",
       "      <th>3</th>\n",
       "      <td>5.6431</td>\n",
       "      <td>52.0</td>\n",
       "      <td>5.817352</td>\n",
       "      <td>1.073059</td>\n",
       "      <td>558.0</td>\n",
       "      <td>2.547945</td>\n",
       "      <td>37.85</td>\n",
       "      <td>-122.25</td>\n",
       "      <td>3.413</td>\n",
       "    </tr>\n",
       "    <tr>\n",
       "      <th>4</th>\n",
       "      <td>3.8462</td>\n",
       "      <td>52.0</td>\n",
       "      <td>6.281853</td>\n",
       "      <td>1.081081</td>\n",
       "      <td>565.0</td>\n",
       "      <td>2.181467</td>\n",
       "      <td>37.85</td>\n",
       "      <td>-122.25</td>\n",
       "      <td>3.422</td>\n",
       "    </tr>\n",
       "  </tbody>\n",
       "</table>\n",
       "</div>"
      ],
      "text/plain": [
       "   MedInc  HouseAge  AveRooms  AveBedrms  Population  AveOccup  Latitude  \\\n",
       "0  8.3252      41.0  6.984127   1.023810       322.0  2.555556     37.88   \n",
       "1  8.3014      21.0  6.238137   0.971880      2401.0  2.109842     37.86   \n",
       "2  7.2574      52.0  8.288136   1.073446       496.0  2.802260     37.85   \n",
       "3  5.6431      52.0  5.817352   1.073059       558.0  2.547945     37.85   \n",
       "4  3.8462      52.0  6.281853   1.081081       565.0  2.181467     37.85   \n",
       "\n",
       "   Longitude  target  \n",
       "0    -122.23   4.526  \n",
       "1    -122.22   3.585  \n",
       "2    -122.24   3.521  \n",
       "3    -122.25   3.413  \n",
       "4    -122.25   3.422  "
      ]
     },
     "execution_count": 38,
     "metadata": {},
     "output_type": "execute_result"
    }
   ],
   "source": [
    "from sklearn.datasets import fetch_california_housing #built in dataset\n",
    "housing = fetch_california_housing()\n",
    "housing ;\n",
    "df_housing = pd.DataFrame(housing['data'],columns=housing['feature_names'])\n",
    "df_housing['target'] = pd.Series(housing['target'])\n",
    "df_housing.head()"
   ]
  },
  {
   "cell_type": "code",
   "execution_count": 39,
   "id": "3a9e8b41-be20-494a-ae27-a9d5530312b7",
   "metadata": {},
   "outputs": [
    {
     "data": {
      "text/plain": [
       "20640"
      ]
     },
     "execution_count": 39,
     "metadata": {},
     "output_type": "execute_result"
    }
   ],
   "source": [
    "len(df_housing )"
   ]
  },
  {
   "cell_type": "code",
   "execution_count": 40,
   "id": "1bef1865-8bae-432c-b096-ac371d40631c",
   "metadata": {},
   "outputs": [
    {
     "data": {
      "text/plain": [
       "0.5965957761160752"
      ]
     },
     "execution_count": 40,
     "metadata": {},
     "output_type": "execute_result"
    }
   ],
   "source": [
    "#Ridge Model \n",
    "from sklearn.linear_model import Ridge\n",
    "from sklearn.model_selection import train_test_split\n",
    "import numpy as np\n",
    "np.random.seed(1)\n",
    "xhousing = df_housing.drop('target',axis = 1)\n",
    "yhousing = df_housing['target']\n",
    "x_train3,x_test3,y_train3,y_test3 = train_test_split(xhousing,yhousing,test_size = 0.2)\n",
    "reg = Ridge()\n",
    "reg.fit(x_train3,y_train3)\n",
    "reg.score(x_test3,y_test3)"
   ]
  },
  {
   "cell_type": "code",
   "execution_count": 41,
   "id": "94124285-37b2-4986-9b10-88d61cd41226",
   "metadata": {},
   "outputs": [
    {
     "data": {
      "text/plain": [
       "0.8070687053407989"
      ]
     },
     "execution_count": 41,
     "metadata": {},
     "output_type": "execute_result"
    }
   ],
   "source": [
    "#Improved Model\n",
    "from sklearn.ensemble import RandomForestRegressor\n",
    "from sklearn.model_selection import train_test_split\n",
    "import numpy as np\n",
    "np.random.seed(1)\n",
    "rfg = RandomForestRegressor()\n",
    "xhousing1 = df_housing.drop('target',axis = 1)\n",
    "yhousing1 = df_housing['target']\n",
    "x_train3,x_test3,y_train3,y_test3 = train_test_split(xhousing1,yhousing1,test_size = 0.2)\n",
    "rfg.fit(x_train3,y_train3)\n",
    "rfg.score(x_test3,y_test3)"
   ]
  },
  {
   "cell_type": "code",
   "execution_count": 42,
   "id": "4fcb74dc-d30e-4d0f-8675-4dca86a85258",
   "metadata": {},
   "outputs": [
    {
     "name": "stdout",
     "output_type": "stream",
     "text": [
      "First Model For regression :  0.5965957761160752  ,  Improved Model :  0.8070687053407989\n"
     ]
    }
   ],
   "source": [
    "print('First Model For regression : ', reg.score(x_test3,y_test3) , ' ,  Improved Model : ' , rfg.score(x_test3,y_test3) )"
   ]
  },
  {
   "cell_type": "markdown",
   "id": "994a4276-6c43-420f-81e7-c7788f6423fb",
   "metadata": {},
   "source": [
    "#### Classification Problem"
   ]
  },
  {
   "cell_type": "code",
   "execution_count": 43,
   "id": "d16a35a9-18ee-4f33-962a-7c71d0fd379a",
   "metadata": {},
   "outputs": [
    {
     "name": "stderr",
     "output_type": "stream",
     "text": [
      "C:\\Users\\Idea Tech\\Desktop\\ml_project\\venv\\Lib\\site-packages\\sklearn\\svm\\_classes.py:31: FutureWarning: The default value of `dual` will change from `True` to `'auto'` in 1.5. Set the value of `dual` explicitly to suppress the warning.\n",
      "  warnings.warn(\n",
      "C:\\Users\\Idea Tech\\Desktop\\ml_project\\venv\\Lib\\site-packages\\sklearn\\svm\\_base.py:1237: ConvergenceWarning: Liblinear failed to converge, increase the number of iterations.\n",
      "  warnings.warn(\n"
     ]
    },
    {
     "data": {
      "text/plain": [
       "0.8166666666666667"
      ]
     },
     "execution_count": 43,
     "metadata": {},
     "output_type": "execute_result"
    }
   ],
   "source": [
    "#linearSVC model\n",
    "from sklearn.svm import LinearSVC\n",
    "from sklearn.model_selection import train_test_split\n",
    "import numpy as np\n",
    "np.random.seed(1)\n",
    "svc = LinearSVC()\n",
    "heart_disease = pd.read_csv('Heart disease data.csv')\n",
    "xheart1 = heart_disease.drop('condition',axis=1)\n",
    "yheart1 = heart_disease['condition']\n",
    "x_train1,x_test1,y_train1,y_test1 = train_test_split(xheart1,yheart1,test_size = 0.2)\n",
    "svc.fit(x_train1,y_train1)\n",
    "svc.score(x_test1,y_test1)"
   ]
  },
  {
   "cell_type": "code",
   "execution_count": 44,
   "id": "10eb0e0d-0111-42b0-91ab-ad3ae645399d",
   "metadata": {},
   "outputs": [
    {
     "data": {
      "text/plain": [
       "0.85"
      ]
     },
     "execution_count": 44,
     "metadata": {},
     "output_type": "execute_result"
    }
   ],
   "source": [
    "#Improveded Model\n",
    "from sklearn.ensemble import RandomForestClassifier\n",
    "from sklearn.model_selection import train_test_split\n",
    "import numpy as np\n",
    "np.random.seed(1)\n",
    "rfc = RandomForestClassifier()\n",
    "heart_disease = pd.read_csv('Heart disease data.csv')\n",
    "xheart2 = heart_disease.drop('condition',axis=1)\n",
    "yheart2 = heart_disease['condition']\n",
    "x_train1,x_test1,y_train1,y_test1 = train_test_split(xheart2,yheart2,test_size = 0.2)\n",
    "rfc.fit(x_train1,y_train1)\n",
    "rfc.score(x_test1,y_test1)"
   ]
  },
  {
   "cell_type": "code",
   "execution_count": 45,
   "id": "c6780d64-4dd9-4725-9c68-7991d0d1c471",
   "metadata": {},
   "outputs": [
    {
     "name": "stdout",
     "output_type": "stream",
     "text": [
      "First Model For Classification :  0.8166666666666667  ,  Improved Model :  0.85\n"
     ]
    }
   ],
   "source": [
    "print('First Model For Classification : ', svc.score(x_test1,y_test1) , ' ,  Improved Model : ' , rfc.score(x_test1,y_test1) )"
   ]
  },
  {
   "cell_type": "markdown",
   "id": "b6a15adb-8803-4797-812f-a2e0e79cb61e",
   "metadata": {
    "jp-MarkdownHeadingCollapsed": true
   },
   "source": [
    "### Step 3 Fitting Model \n",
    "### Two Stages :\n",
    "### 1. Training \n",
    "### 2. Testing or Prediction"
   ]
  },
  {
   "cell_type": "markdown",
   "id": "87fc2394-d042-4a07-a1cd-f49fa9487f13",
   "metadata": {},
   "source": [
    "#### Classification problem"
   ]
  },
  {
   "cell_type": "code",
   "execution_count": 46,
   "id": "c1967f4d-f8da-4df1-99c3-b7bd2a6a1e8e",
   "metadata": {},
   "outputs": [
    {
     "data": {
      "text/plain": [
       "array([0, 1, 0, 0, 1, 1, 0, 0, 0, 0, 0, 0, 0, 1, 1, 1, 1, 0, 1, 0, 1, 0,\n",
       "       0, 1, 0, 1, 1, 1, 1, 0, 1, 1, 0, 1, 1, 1, 1, 0, 1, 1, 0, 0, 1, 1,\n",
       "       0, 1, 0, 1, 0, 1, 1, 0, 1, 0, 1, 1, 1, 0, 0, 1], dtype=int64)"
      ]
     },
     "execution_count": 46,
     "metadata": {},
     "output_type": "execute_result"
    }
   ],
   "source": [
    "# Classification problem\n",
    "#stage 1\n",
    "rfc.fit(x_train1,y_train1)\n",
    "#stage 2 \n",
    "# 2 methods for prediction 'predict()' and 'predict_proba()'\n",
    "#predict()\n",
    "prediction1 = rfc.predict(x_test1)\n",
    "prediction1 #predicted values "
   ]
  },
  {
   "cell_type": "code",
   "execution_count": 47,
   "id": "4e148421-2adb-448b-8cb1-8fb05659511a",
   "metadata": {},
   "outputs": [
    {
     "data": {
      "text/plain": [
       "array([0, 0, 0, 1, 1, 1, 0, 0, 0, 0, 0, 0, 1, 1, 0, 1, 1, 0, 1, 0, 0, 1,\n",
       "       0, 1, 0, 1, 1, 1, 1, 0, 1, 1, 0, 0, 0, 1, 1, 0, 0, 1, 0, 0, 0, 1,\n",
       "       0, 0, 0, 1, 0, 1, 1, 0, 1, 0, 1, 1, 1, 0, 0, 1], dtype=int64)"
      ]
     },
     "execution_count": 47,
     "metadata": {},
     "output_type": "execute_result"
    }
   ],
   "source": [
    "np.array(y_test1) #actual values "
   ]
  },
  {
   "cell_type": "code",
   "execution_count": 48,
   "id": "7e118ee6-c0dc-4075-b687-493c88793efe",
   "metadata": {},
   "outputs": [
    {
     "name": "stdout",
     "output_type": "stream",
     "text": [
      "0.8166666666666667\n",
      "0.8166666666666667\n",
      "0.8166666666666667\n"
     ]
    }
   ],
   "source": [
    "#evaluating\n",
    "# 3 methods to check accuracy \n",
    "from sklearn.metrics import accuracy_score\n",
    "print(np.mean(prediction1==y_test1)) #Method 1 \n",
    "print(rfc.score(x_test1,y_test1)) #Method 2 \n",
    "print(accuracy_score(prediction1,y_test1)) #Method 3"
   ]
  },
  {
   "cell_type": "code",
   "execution_count": 49,
   "id": "aa9fe0d6-ef5e-4554-8a4d-29595ebbf76b",
   "metadata": {},
   "outputs": [
    {
     "name": "stdout",
     "output_type": "stream",
     "text": [
      "[0 1 0 0 1] \n",
      "\n",
      "[[0.75 0.25]\n",
      " [0.44 0.56]\n",
      " [0.98 0.02]\n",
      " [0.53 0.47]\n",
      " [0.34 0.66]]\n"
     ]
    }
   ],
   "source": [
    "#predict_proba()\n",
    "prediction2 = rfc.predict_proba(x_test1)\n",
    "#tells the accuracy of individual result\n",
    "print(prediction1[:5],'\\n')\n",
    "print(prediction2[:5])"
   ]
  },
  {
   "cell_type": "markdown",
   "id": "d2f3967d-049a-49c8-9799-e24d8a712d62",
   "metadata": {},
   "source": [
    "#### Regression Problem"
   ]
  },
  {
   "cell_type": "code",
   "execution_count": 50,
   "id": "ab1d8db9-7851-4406-b726-0729ceb50cc4",
   "metadata": {},
   "outputs": [
    {
     "name": "stdout",
     "output_type": "stream",
     "text": [
      "[3.6497013 0.63482   2.37387   1.3215701 2.84164  ] \n",
      "\n",
      "[3.55  0.707 2.294 1.125 2.254]\n"
     ]
    }
   ],
   "source": [
    "#Regression Problem\n",
    "#stage 1 \n",
    "rfg.fit(x_train3,y_train3)\n",
    "#stage 2 \n",
    "pred = rfg.predict(x_test3)\n",
    "print(pred[:5],'\\n')\n",
    "print(np.array(y_test3[:5]))"
   ]
  },
  {
   "cell_type": "code",
   "execution_count": 51,
   "id": "5c44ed2b-c1f4-49f9-9cd4-64aabc1cc23d",
   "metadata": {},
   "outputs": [
    {
     "data": {
      "text/plain": [
       "array([3.6497013, 0.63482  , 2.37387  , ..., 2.63335  , 2.20288  ,\n",
       "       1.1680601])"
      ]
     },
     "execution_count": 51,
     "metadata": {},
     "output_type": "execute_result"
    }
   ],
   "source": [
    "pred"
   ]
  },
  {
   "cell_type": "code",
   "execution_count": 52,
   "id": "8330b0f0-ca50-4179-9550-50fda846ddeb",
   "metadata": {},
   "outputs": [
    {
     "data": {
      "text/plain": [
       "0.32509394893410865"
      ]
     },
     "execution_count": 52,
     "metadata": {},
     "output_type": "execute_result"
    }
   ],
   "source": [
    "#calculating mean absolue error to check the difference between predicted and original data\n",
    "from sklearn.metrics import mean_absolute_error\n",
    "mean_absolute_error(y_test3,pred)"
   ]
  },
  {
   "cell_type": "markdown",
   "id": "a706296c-4ce8-45a3-b5c5-54d1080c9eec",
   "metadata": {
    "jp-MarkdownHeadingCollapsed": true
   },
   "source": [
    "### Step 4 Evaluaing The Model"
   ]
  },
  {
   "cell_type": "code",
   "execution_count": 53,
   "id": "5a6cee58-f3b8-4c9b-9d88-e47771d77f8d",
   "metadata": {},
   "outputs": [],
   "source": [
    "# 3 Methods to evaluate sklearn Models / Estimators \n",
    "# score methods\n",
    "# scoring parameters\n",
    "# problem specific matric function"
   ]
  },
  {
   "cell_type": "markdown",
   "id": "4b8fc30f-ad17-42eb-818f-b3883dd5e1ba",
   "metadata": {},
   "source": [
    "#### Classification Model Evaluation\n",
    "#### 1. Accuracy \n",
    "#### 2. Area Under the Curve \n",
    "#### 3. Confusion Matrix\n",
    "#### 4. Classification Report"
   ]
  },
  {
   "cell_type": "markdown",
   "id": "21d80f48-7142-4be4-b61f-bced13f85680",
   "metadata": {},
   "source": [
    "##### 1.  Accuracy"
   ]
  },
  {
   "cell_type": "code",
   "execution_count": 11,
   "id": "9b6f5bd0-cb78-4fd3-ae09-cd134063e787",
   "metadata": {},
   "outputs": [
    {
     "name": "stdout",
     "output_type": "stream",
     "text": [
      "[0.56666667 0.78333333 0.81355932 0.88135593 0.62711864]\n",
      "\n",
      " Heart Disease Cross Validation Accuracy :  72.40677966101694 %\n"
     ]
    }
   ],
   "source": [
    "from sklearn.model_selection import train_test_split\n",
    "from sklearn.model_selection import cross_val_score\n",
    "from sklearn.ensemble import RandomForestClassifier\n",
    "np.random.seed(4)\n",
    "x = heart_disease.drop('condition', axis=1)\n",
    "y = heart_disease['condition']\n",
    "x_train,x_test,y_train,y_test = train_test_split(x,y,test_size=0.2)\n",
    "heart_model = RandomForestClassifier().fit(x_train,y_train)\n",
    "print(cross_val_score(heart_model,x,y,cv=5,scoring= None))\n",
    "print('\\n Heart Disease Cross Validation Accuracy : ',np.mean(cross_val_score(heart_model,x,y,cv=5,scoring= None))*100,'%')"
   ]
  },
  {
   "cell_type": "markdown",
   "id": "2c8e74bb-bc7d-4ed9-8669-82f032f364e2",
   "metadata": {},
   "source": [
    "##### 2. Area Under the Curve (AUC)    \n",
    "#####           OR    \n",
    "##### Reciever Operating Characteristics Curve (ROC)"
   ]
  },
  {
   "cell_type": "code",
   "execution_count": 12,
   "id": "f0c374b5-bcf4-4b0c-b4e2-bbca14427a48",
   "metadata": {},
   "outputs": [
    {
     "data": {
      "text/plain": [
       "array([[0.13, 0.87],\n",
       "       [1.  , 0.  ],\n",
       "       [1.  , 0.  ],\n",
       "       [0.65, 0.35],\n",
       "       [0.99, 0.01]])"
      ]
     },
     "execution_count": 12,
     "metadata": {},
     "output_type": "execute_result"
    }
   ],
   "source": [
    "from sklearn.metrics import roc_curve\n",
    "# 4 cases of predict_proba()\n",
    "# Case 1 : True Positive : Truth = 1 , Model Prediction = 1\n",
    "# Case 2 : Flase Positive : Truth = 0 , Model Prediction = 1\n",
    "# Case 3 : True Negative : Truth = 0 , Model Prediction = 0\n",
    "# Case 4 : Flase Negative : Truth = 1 , Model Prediction = 0\n",
    "y_proba = heart_model.predict_proba(x_test)\n",
    "y_proba[:5]"
   ]
  },
  {
   "cell_type": "code",
   "execution_count": 13,
   "id": "b707d8c9-2771-4020-869a-dd849ea5f004",
   "metadata": {},
   "outputs": [
    {
     "name": "stdout",
     "output_type": "stream",
     "text": [
      "[0.         0.         0.         0.         0.         0.\n",
      " 0.         0.03030303 0.03030303 0.03030303 0.03030303 0.06060606\n",
      " 0.12121212 0.21212121 0.24242424 0.3030303  0.33333333 0.33333333\n",
      " 0.36363636 0.36363636 0.39393939 0.42424242 0.45454545 0.48484848\n",
      " 0.48484848 0.66666667 0.72727273 0.81818182 0.87878788 1.        ] \n",
      "\n",
      "\n",
      "[0.         0.03703704 0.11111111 0.25925926 0.33333333 0.40740741\n",
      " 0.44444444 0.44444444 0.51851852 0.59259259 0.66666667 0.66666667\n",
      " 0.66666667 0.66666667 0.7037037  0.7037037  0.74074074 0.77777778\n",
      " 0.77777778 0.81481481 0.81481481 0.85185185 0.85185185 0.88888889\n",
      " 1.         1.         1.         1.         1.         1.        ] \n",
      "\n",
      "\n",
      "[ inf 1.   0.94 0.92 0.88 0.87 0.85 0.81 0.69 0.68 0.62 0.57 0.53 0.46\n",
      " 0.45 0.43 0.42 0.39 0.37 0.36 0.35 0.34 0.33 0.32 0.26 0.08 0.04 0.03\n",
      " 0.01 0.  ]\n"
     ]
    }
   ],
   "source": [
    "# Calculate Flase Positive Rate (fpr) , True Positive Rate (tpr) and threshold\n",
    "y_proba_positive = y_proba[:, 1] # for 'condition = 1' column\n",
    "fpr,tpr,threshold = roc_curve(y_test,y_proba_positive)\n",
    "print(fpr,'\\n\\n')\n",
    "print(tpr,'\\n\\n')\n",
    "print(threshold)"
   ]
  },
  {
   "cell_type": "code",
   "execution_count": 14,
   "id": "4722a848-ce74-481c-ade9-5f8772021e54",
   "metadata": {},
   "outputs": [
    {
     "data": {
      "image/png": "[encoded data removed]",
      "text/plain": [
       "<Figure size 640x480 with 1 Axes>"
      ]
     },
     "metadata": {},
     "output_type": "display_data"
    }
   ],
   "source": [
    "#function to plot roc \n",
    "import matplotlib.pyplot as plt \n",
    "def plot_roc(fpr,tpr):\n",
    "    plt.plot(fpr,tpr,color='red',label = 'AUC')\n",
    "    plt.title('Area Under The ROC Curve')\n",
    "    plt.xlabel('False Positive Rate')\n",
    "    plt.ylabel('True Positive Rate')\n",
    "    plt.legend()\n",
    "    plt.show()\n",
    "plot_roc(fpr,tpr)"
   ]
  },
  {
   "cell_type": "code",
   "execution_count": 15,
   "id": "a8eb5dc8-4770-4cda-b73d-98c7189764b2",
   "metadata": {},
   "outputs": [
    {
     "data": {
      "text/plain": [
       "0.8608305274971942"
      ]
     },
     "execution_count": 15,
     "metadata": {},
     "output_type": "execute_result"
    }
   ],
   "source": [
    "# value of ROC\n",
    "from sklearn.metrics import roc_auc_score\n",
    "roc_auc_score(y_test,y_proba_positive)"
   ]
  },
  {
   "cell_type": "code",
   "execution_count": 16,
   "id": "6a66c16e-bc8b-4c53-a667-c7c78c60bba4",
   "metadata": {},
   "outputs": [
    {
     "data": {
      "image/png": "[encoded data removed]",
      "text/plain": [
       "<Figure size 640x480 with 1 Axes>"
      ]
     },
     "metadata": {},
     "output_type": "display_data"
    }
   ],
   "source": [
    "# Ideal Curve \n",
    "#Ideal AUC = 1 \n",
    "fpr,tpr,threshold = roc_curve(y_test,y_test)\n",
    "plot_roc(fpr,tpr)"
   ]
  },
  {
   "cell_type": "markdown",
   "id": "2af9c564-3863-46b4-be1e-169f4573b9d1",
   "metadata": {},
   "source": [
    "##### 3. Confusion Matrix"
   ]
  },
  {
   "cell_type": "code",
   "execution_count": 28,
   "id": "983a32e7-8ae4-4b27-8f55-0a0fc1a6d698",
   "metadata": {},
   "outputs": [
    {
     "ename": "TypeError",
     "evalue": "crosstab() missing 2 required positional arguments: 'index' and 'columns'",
     "output_type": "error",
     "traceback": [
      "\u001b[1;31m---------------------------------------------------------------------------\u001b[0m",
      "\u001b[1;31mTypeError\u001b[0m                                 Traceback (most recent call last)",
      "Cell \u001b[1;32mIn[28], line 7\u001b[0m\n\u001b[0;32m      5\u001b[0m pd\u001b[38;5;241m.\u001b[39mcrosstab(y_test,y_predicted,rownames \u001b[38;5;241m=\u001b[39m [\u001b[38;5;124m'\u001b[39m\u001b[38;5;124mTruth\u001b[39m\u001b[38;5;124m'\u001b[39m],colnames \u001b[38;5;241m=\u001b[39m [\u001b[38;5;124m'\u001b[39m\u001b[38;5;124mPredicted\u001b[39m\u001b[38;5;124m'\u001b[39m])\n\u001b[0;32m      6\u001b[0m \u001b[38;5;66;03m#y_test,y_predicted\u001b[39;00m\n\u001b[1;32m----> 7\u001b[0m \u001b[43mpd\u001b[49m\u001b[38;5;241;43m.\u001b[39;49m\u001b[43mcrosstab\u001b[49m\u001b[43m(\u001b[49m\u001b[43m)\u001b[49m\n",
      "\u001b[1;31mTypeError\u001b[0m: crosstab() missing 2 required positional arguments: 'index' and 'columns'"
     ]
    }
   ],
   "source": [
    "from sklearn.metrics import confusion_matrix \n",
    "y_predicted = heart_model.predict(x_test)\n",
    "conf_mat = confusion_matrix(y_test,y_predicted)\n",
    "conf_mat\n",
    "pd.crosstab(y_test,y_predicted,rownames = ['Truth'],colnames = ['Predicted'])\n",
    "#y_test,y_predicted\n",
    "pd.crosstab()"
   ]
  },
  {
   "cell_type": "code",
   "execution_count": 69,
   "id": "e826aa15-271b-4e13-9f14-9ee1cc5ceb81",
   "metadata": {},
   "outputs": [
    {
     "data": {
      "text/plain": [
       "60"
      ]
     },
     "execution_count": 69,
     "metadata": {},
     "output_type": "execute_result"
    }
   ],
   "source": [
    "len(y_test)"
   ]
  },
  {
   "cell_type": "code",
   "execution_count": 114,
   "id": "c1e3b905-5f7a-487a-95ff-05c79eaa79ad",
   "metadata": {},
   "outputs": [
    {
     "name": "stdout",
     "output_type": "stream",
     "text": [
      "\n",
      "Confusion Matrix  : \n",
      " [[29  4]\n",
      " [ 9 18]]\n",
      "\n",
      "total 1s in data :  22\n",
      "\n",
      "total 0s in data :  38\n",
      "\n",
      "true_positive :  18\n",
      "\n",
      "false_positive :  9\n",
      "\n",
      "true_negative :  29\n",
      "\n",
      "false_negative :  4\n"
     ]
    }
   ],
   "source": [
    "#total 1s in data \n",
    "ones = 18+4\n",
    "#total 0s in data \n",
    "zeros = 29+9\n",
    "# predicted values \n",
    "true_positive = conf_mat[1][1]\n",
    "false_positive = conf_mat[1][0]\n",
    "true_negative = conf_mat[0][0]\n",
    "false_negative = conf_mat[0][1]\n",
    "print('\\nConfusion Matrix  : \\n' ,conf_mat)\n",
    "print('\\ntotal 1s in data : ' ,ones)\n",
    "print('\\ntotal 0s in data : ',zeros)\n",
    "print('\\ntrue_positive : ',true_positive)\n",
    "print('\\nfalse_positive : ',false_positive)\n",
    "print('\\ntrue_negative : ',true_negative)\n",
    "print('\\nfalse_negative : ',false_negative)"
   ]
  },
  {
   "cell_type": "code",
   "execution_count": 108,
   "id": "69f89b9a-b486-4f7e-bc47-67e3a4c40440",
   "metadata": {},
   "outputs": [
    {
     "name": "stdout",
     "output_type": "stream",
     "text": [
      "Channels:\n",
      " - defaults\n",
      "Platform: win-64\n",
      "Collecting package metadata (repodata.json): ...working... done\n",
      "Solving environment: ...working... done\n",
      "\n",
      "## Package Plan ##\n",
      "\n",
      "  environment location: C:\\Users\\Idea Tech\\Desktop\\ml_project\\venv\n",
      "\n",
      "  added / updated specs:\n",
      "    - seaborn\n",
      "\n",
      "\n",
      "The following packages will be downloaded:\n",
      "\n",
      "    package                    |            build\n",
      "    ---------------------------|-----------------\n",
      "    openssl-3.0.13             |       h2bbff1b_2         7.5 MB\n",
      "    seaborn-0.12.2             |  py312haa95532_0         556 KB\n",
      "    ------------------------------------------------------------\n",
      "                                           Total:         8.0 MB\n",
      "\n",
      "The following NEW packages will be INSTALLED:\n",
      "\n",
      "  seaborn            pkgs/main/win-64::seaborn-0.12.2-py312haa95532_0 \n",
      "\n",
      "The following packages will be UPDATED:\n",
      "\n",
      "  openssl                                 3.0.13-h2bbff1b_1 --> 3.0.13-h2bbff1b_2 \n",
      "\n",
      "\n",
      "\n",
      "Downloading and Extracting Packages: ...working... done\n",
      "Preparing transaction: ...working... done\n",
      "Verifying transaction: ...working... done\n",
      "Executing transaction: ...working... done\n"
     ]
    }
   ],
   "source": [
    "#to plot Confusion Matrix \n",
    "import sys\n",
    "!conda install --yes --prefix \"C:\\Users\\Idea Tech\\Desktop\\ml_project\\venv\" seaborn"
   ]
  },
  {
   "cell_type": "code",
   "execution_count": 130,
   "id": "2a6cb2a8-70c6-49da-ac4b-1fb8e2bab2b6",
   "metadata": {},
   "outputs": [
    {
     "name": "stdout",
     "output_type": "stream",
     "text": [
      "Collecting seaborn==0.13.0\n",
      "  Downloading seaborn-0.13.0-py3-none-any.whl.metadata (5.3 kB)\n",
      "Requirement already satisfied: numpy!=1.24.0,>=1.20 in c:\\users\\idea tech\\desktop\\ml_project\\venv\\lib\\site-packages (from seaborn==0.13.0) (1.26.4)\n",
      "Requirement already satisfied: pandas>=1.2 in c:\\users\\idea tech\\desktop\\ml_project\\venv\\lib\\site-packages (from seaborn==0.13.0) (2.2.1)\n",
      "Requirement already satisfied: matplotlib!=3.6.1,>=3.3 in c:\\users\\idea tech\\desktop\\ml_project\\venv\\lib\\site-packages (from seaborn==0.13.0) (3.8.4)\n",
      "Requirement already satisfied: contourpy>=1.0.1 in c:\\users\\idea tech\\desktop\\ml_project\\venv\\lib\\site-packages (from matplotlib!=3.6.1,>=3.3->seaborn==0.13.0) (1.2.0)\n",
      "Requirement already satisfied: cycler>=0.10 in c:\\users\\idea tech\\desktop\\ml_project\\venv\\lib\\site-packages (from matplotlib!=3.6.1,>=3.3->seaborn==0.13.0) (0.11.0)\n",
      "Requirement already satisfied: fonttools>=4.22.0 in c:\\users\\idea tech\\desktop\\ml_project\\venv\\lib\\site-packages (from matplotlib!=3.6.1,>=3.3->seaborn==0.13.0) (4.51.0)\n",
      "Requirement already satisfied: kiwisolver>=1.3.1 in c:\\users\\idea tech\\desktop\\ml_project\\venv\\lib\\site-packages (from matplotlib!=3.6.1,>=3.3->seaborn==0.13.0) (1.4.4)\n",
      "Requirement already satisfied: packaging>=20.0 in c:\\users\\idea tech\\desktop\\ml_project\\venv\\lib\\site-packages (from matplotlib!=3.6.1,>=3.3->seaborn==0.13.0) (23.2)\n",
      "Requirement already satisfied: pillow>=8 in c:\\users\\idea tech\\desktop\\ml_project\\venv\\lib\\site-packages (from matplotlib!=3.6.1,>=3.3->seaborn==0.13.0) (10.3.0)\n",
      "Requirement already satisfied: pyparsing>=2.3.1 in c:\\users\\idea tech\\desktop\\ml_project\\venv\\lib\\site-packages (from matplotlib!=3.6.1,>=3.3->seaborn==0.13.0) (3.0.9)\n",
      "Requirement already satisfied: python-dateutil>=2.7 in c:\\users\\idea tech\\appdata\\roaming\\python\\python312\\site-packages (from matplotlib!=3.6.1,>=3.3->seaborn==0.13.0) (2.9.0.post0)\n",
      "Requirement already satisfied: pytz>=2020.1 in c:\\users\\idea tech\\desktop\\ml_project\\venv\\lib\\site-packages (from pandas>=1.2->seaborn==0.13.0) (2024.1)\n",
      "Requirement already satisfied: tzdata>=2022.7 in c:\\users\\idea tech\\desktop\\ml_project\\venv\\lib\\site-packages (from pandas>=1.2->seaborn==0.13.0) (2023.3)\n",
      "Requirement already satisfied: six>=1.5 in c:\\users\\idea tech\\appdata\\roaming\\python\\python312\\site-packages (from python-dateutil>=2.7->matplotlib!=3.6.1,>=3.3->seaborn==0.13.0) (1.16.0)\n",
      "Downloading seaborn-0.13.0-py3-none-any.whl (294 kB)\n",
      "   ---------------------------------------- 0.0/294.6 kB ? eta -:--:--\n",
      "   - -------------------------------------- 10.2/294.6 kB ? eta -:--:--\n",
      "   - -------------------------------------- 10.2/294.6 kB ? eta -:--:--\n",
      "   - -------------------------------------- 10.2/294.6 kB ? eta -:--:--\n",
      "   - -------------------------------------- 10.2/294.6 kB ? eta -:--:--\n",
      "   ---- ---------------------------------- 30.7/294.6 kB 100.9 kB/s eta 0:00:03\n",
      "   ---- ---------------------------------- 30.7/294.6 kB 100.9 kB/s eta 0:00:03\n",
      "   ---- ---------------------------------- 30.7/294.6 kB 100.9 kB/s eta 0:00:03\n",
      "   ---- ---------------------------------- 30.7/294.6 kB 100.9 kB/s eta 0:00:03\n",
      "   ----- ---------------------------------- 41.0/294.6 kB 73.0 kB/s eta 0:00:04\n",
      "   -------- ------------------------------ 61.4/294.6 kB 113.0 kB/s eta 0:00:03\n",
      "   -------- ------------------------------ 61.4/294.6 kB 113.0 kB/s eta 0:00:03\n",
      "   -------- ------------------------------ 61.4/294.6 kB 113.0 kB/s eta 0:00:03\n",
      "   -------- ------------------------------ 61.4/294.6 kB 113.0 kB/s eta 0:00:03\n",
      "   -------- ------------------------------ 61.4/294.6 kB 113.0 kB/s eta 0:00:03\n",
      "   -------- ------------------------------ 61.4/294.6 kB 113.0 kB/s eta 0:00:03\n",
      "   ----------- ---------------------------- 81.9/294.6 kB 97.7 kB/s eta 0:00:03\n",
      "   ------------ -------------------------- 92.2/294.6 kB 102.9 kB/s eta 0:00:02\n",
      "   ------------ -------------------------- 92.2/294.6 kB 102.9 kB/s eta 0:00:02\n",
      "   ------------ -------------------------- 92.2/294.6 kB 102.9 kB/s eta 0:00:02\n",
      "   ------------ -------------------------- 92.2/294.6 kB 102.9 kB/s eta 0:00:02\n",
      "   -------------- ----------------------- 112.6/294.6 kB 107.5 kB/s eta 0:00:02\n",
      "   -------------- ----------------------- 112.6/294.6 kB 107.5 kB/s eta 0:00:02\n",
      "   --------------- ---------------------- 122.9/294.6 kB 106.1 kB/s eta 0:00:02\n",
      "   --------------- ---------------------- 122.9/294.6 kB 106.1 kB/s eta 0:00:02\n",
      "   --------------- ---------------------- 122.9/294.6 kB 106.1 kB/s eta 0:00:02\n",
      "   --------------- ---------------------- 122.9/294.6 kB 106.1 kB/s eta 0:00:02\n",
      "   --------------- ---------------------- 122.9/294.6 kB 106.1 kB/s eta 0:00:02\n",
      "   --------------- ---------------------- 122.9/294.6 kB 106.1 kB/s eta 0:00:02\n",
      "   ------------------ -------------------- 143.4/294.6 kB 98.0 kB/s eta 0:00:02\n",
      "   ------------------ -------------------- 143.4/294.6 kB 98.0 kB/s eta 0:00:02\n",
      "   ------------------ -------------------- 143.4/294.6 kB 98.0 kB/s eta 0:00:02\n",
      "   ------------------ -------------------- 143.4/294.6 kB 98.0 kB/s eta 0:00:02\n",
      "   ------------------ -------------------- 143.4/294.6 kB 98.0 kB/s eta 0:00:02\n",
      "   ------------------ -------------------- 143.4/294.6 kB 98.0 kB/s eta 0:00:02\n",
      "   ------------------ -------------------- 143.4/294.6 kB 98.0 kB/s eta 0:00:02\n",
      "   ------------------ -------------------- 143.4/294.6 kB 98.0 kB/s eta 0:00:02\n",
      "   ------------------ -------------------- 143.4/294.6 kB 98.0 kB/s eta 0:00:02\n",
      "   ------------------ -------------------- 143.4/294.6 kB 98.0 kB/s eta 0:00:02\n",
      "   ------------------ -------------------- 143.4/294.6 kB 98.0 kB/s eta 0:00:02\n",
      "   ------------------ -------------------- 143.4/294.6 kB 98.0 kB/s eta 0:00:02\n",
      "   ------------------ -------------------- 143.4/294.6 kB 98.0 kB/s eta 0:00:02\n",
      "   ------------------ -------------------- 143.4/294.6 kB 98.0 kB/s eta 0:00:02\n",
      "   --------------------- ----------------- 163.8/294.6 kB 75.1 kB/s eta 0:00:02\n",
      "   --------------------- ----------------- 163.8/294.6 kB 75.1 kB/s eta 0:00:02\n",
      "   --------------------- ----------------- 163.8/294.6 kB 75.1 kB/s eta 0:00:02\n",
      "   --------------------- ----------------- 163.8/294.6 kB 75.1 kB/s eta 0:00:02\n",
      "   ----------------------- --------------- 174.1/294.6 kB 72.8 kB/s eta 0:00:02\n",
      "   ----------------------- --------------- 174.1/294.6 kB 72.8 kB/s eta 0:00:02\n",
      "   ----------------------- --------------- 174.1/294.6 kB 72.8 kB/s eta 0:00:02\n",
      "   ----------------------- --------------- 174.1/294.6 kB 72.8 kB/s eta 0:00:02\n",
      "   ----------------------- --------------- 174.1/294.6 kB 72.8 kB/s eta 0:00:02\n",
      "   ----------------------- --------------- 174.1/294.6 kB 72.8 kB/s eta 0:00:02\n",
      "   ----------------------- --------------- 174.1/294.6 kB 72.8 kB/s eta 0:00:02\n",
      "   ----------------------- --------------- 174.1/294.6 kB 72.8 kB/s eta 0:00:02\n",
      "   ----------------------- --------------- 174.1/294.6 kB 72.8 kB/s eta 0:00:02\n",
      "   ----------------------- --------------- 174.1/294.6 kB 72.8 kB/s eta 0:00:02\n",
      "   ----------------------- --------------- 174.1/294.6 kB 72.8 kB/s eta 0:00:02\n",
      "   ----------------------- --------------- 174.1/294.6 kB 72.8 kB/s eta 0:00:02\n",
      "   ----------------------- --------------- 174.1/294.6 kB 72.8 kB/s eta 0:00:02\n",
      "   ----------------------- --------------- 174.1/294.6 kB 72.8 kB/s eta 0:00:02\n",
      "   ----------------------- --------------- 174.1/294.6 kB 72.8 kB/s eta 0:00:02\n",
      "   ------------------------- ------------- 194.6/294.6 kB 62.1 kB/s eta 0:00:02\n",
      "   ------------------------- ------------- 194.6/294.6 kB 62.1 kB/s eta 0:00:02\n",
      "   ------------------------- ------------- 194.6/294.6 kB 62.1 kB/s eta 0:00:02\n",
      "   ------------------------- ------------- 194.6/294.6 kB 62.1 kB/s eta 0:00:02\n",
      "   ------------------------- ------------- 194.6/294.6 kB 62.1 kB/s eta 0:00:02\n",
      "   ------------------------- ------------- 194.6/294.6 kB 62.1 kB/s eta 0:00:02\n",
      "   ------------------------- ------------- 194.6/294.6 kB 62.1 kB/s eta 0:00:02\n",
      "   ------------------------- ------------- 194.6/294.6 kB 62.1 kB/s eta 0:00:02\n",
      "   ------------------------- ------------- 194.6/294.6 kB 62.1 kB/s eta 0:00:02\n",
      "   ------------------------- ------------- 194.6/294.6 kB 62.1 kB/s eta 0:00:02\n",
      "   ------------------------- ------------- 194.6/294.6 kB 62.1 kB/s eta 0:00:02\n",
      "   ------------------------- ------------- 194.6/294.6 kB 62.1 kB/s eta 0:00:02\n",
      "   ------------------------- ------------- 194.6/294.6 kB 62.1 kB/s eta 0:00:02\n",
      "   ------------------------- ------------- 194.6/294.6 kB 62.1 kB/s eta 0:00:02\n",
      "   ------------------------- ------------- 194.6/294.6 kB 62.1 kB/s eta 0:00:02\n",
      "   --------------------------- ----------- 204.8/294.6 kB 52.5 kB/s eta 0:00:02\n",
      "   --------------------------- ----------- 204.8/294.6 kB 52.5 kB/s eta 0:00:02\n",
      "   --------------------------- ----------- 204.8/294.6 kB 52.5 kB/s eta 0:00:02\n",
      "   --------------------------- ----------- 204.8/294.6 kB 52.5 kB/s eta 0:00:02\n",
      "   --------------------------- ----------- 204.8/294.6 kB 52.5 kB/s eta 0:00:02\n",
      "   --------------------------- ----------- 204.8/294.6 kB 52.5 kB/s eta 0:00:02\n",
      "   --------------------------- ----------- 204.8/294.6 kB 52.5 kB/s eta 0:00:02\n",
      "   --------------------------- ----------- 204.8/294.6 kB 52.5 kB/s eta 0:00:02\n",
      "   --------------------------- ----------- 204.8/294.6 kB 52.5 kB/s eta 0:00:02\n",
      "   --------------------------- ----------- 204.8/294.6 kB 52.5 kB/s eta 0:00:02\n",
      "   --------------------------- ----------- 204.8/294.6 kB 52.5 kB/s eta 0:00:02\n",
      "   ----------------------------- --------- 225.3/294.6 kB 51.2 kB/s eta 0:00:02\n",
      "   ----------------------------- --------- 225.3/294.6 kB 51.2 kB/s eta 0:00:02\n",
      "   ----------------------------- --------- 225.3/294.6 kB 51.2 kB/s eta 0:00:02\n",
      "   ----------------------------- --------- 225.3/294.6 kB 51.2 kB/s eta 0:00:02\n",
      "   ----------------------------- --------- 225.3/294.6 kB 51.2 kB/s eta 0:00:02\n",
      "   -------------------------------- ------ 245.8/294.6 kB 52.9 kB/s eta 0:00:01\n",
      "   -------------------------------- ------ 245.8/294.6 kB 52.9 kB/s eta 0:00:01\n",
      "   -------------------------------- ------ 245.8/294.6 kB 52.9 kB/s eta 0:00:01\n",
      "   --------------------------------- ----- 256.0/294.6 kB 53.1 kB/s eta 0:00:01\n",
      "   --------------------------------- ----- 256.0/294.6 kB 53.1 kB/s eta 0:00:01\n",
      "   --------------------------------- ----- 256.0/294.6 kB 53.1 kB/s eta 0:00:01\n",
      "   --------------------------------- ----- 256.0/294.6 kB 53.1 kB/s eta 0:00:01\n",
      "   --------------------------------- ----- 256.0/294.6 kB 53.1 kB/s eta 0:00:01\n",
      "   --------------------------------- ----- 256.0/294.6 kB 53.1 kB/s eta 0:00:01\n",
      "   --------------------------------- ----- 256.0/294.6 kB 53.1 kB/s eta 0:00:01\n",
      "   --------------------------------- ----- 256.0/294.6 kB 53.1 kB/s eta 0:00:01\n",
      "   --------------------------------- ----- 256.0/294.6 kB 53.1 kB/s eta 0:00:01\n",
      "   --------------------------------- ----- 256.0/294.6 kB 53.1 kB/s eta 0:00:01\n",
      "   ------------------------------------ -- 276.5/294.6 kB 51.9 kB/s eta 0:00:01\n",
      "   ------------------------------------ -- 276.5/294.6 kB 51.9 kB/s eta 0:00:01\n",
      "   ------------------------------------ -- 276.5/294.6 kB 51.9 kB/s eta 0:00:01\n",
      "   ------------------------------------ -- 276.5/294.6 kB 51.9 kB/s eta 0:00:01\n",
      "   ------------------------------------- - 286.7/294.6 kB 51.9 kB/s eta 0:00:01\n",
      "   --------------------------------------- 294.6/294.6 kB 53.1 kB/s eta 0:00:00\n",
      "Installing collected packages: seaborn\n",
      "  Attempting uninstall: seaborn\n",
      "    Found existing installation: seaborn 0.12.2\n",
      "    Uninstalling seaborn-0.12.2:\n",
      "      Successfully uninstalled seaborn-0.12.2\n",
      "Successfully installed seaborn-0.13.0\n",
      "Note: you may need to restart the kernel to use updated packages.\n"
     ]
    }
   ],
   "source": [
    "pip install --upgrade seaborn==0.13.0"
   ]
  },
  {
   "cell_type": "code",
   "execution_count": 131,
   "id": "44914b27-0df0-4e33-b65e-fc20ba6e84e1",
   "metadata": {},
   "outputs": [
    {
     "data": {
      "image/png": "[encoded data removed]",
      "text/plain": [
       "<Figure size 600x400 with 1 Axes>"
      ]
     },
     "metadata": {},
     "output_type": "display_data"
    }
   ],
   "source": [
    "import seaborn as sns \n",
    "def plot_conf_matrix(conf_mat):\n",
    "    \"\"\" This Function plots confusion matrix \n",
    "    \"\"\"\n",
    "    fig , ax = plt.subplots(figsize=(6,4))\n",
    "    ax = sns.heatmap(conf_mat,annot= True ,fmt=\"d\", cmap=\"Blues\", cbar = False,annot_kws={\"fontsize\":10})\n",
    "    plt.xlabel('Truth')\n",
    "    plt.ylabel('Predicted')\n",
    "    plt.style.use('dark_background')\n",
    "    plt.show()\n",
    "plot_conf_matrix(conf_mat)"
   ]
  },
  {
   "cell_type": "markdown",
   "id": "b06f083a-3c2b-49f3-9da2-6a98655d2aff",
   "metadata": {},
   "source": [
    "##### 4. Classification Report"
   ]
  },
  {
   "cell_type": "code",
   "execution_count": 88,
   "id": "52365996-9912-451f-9ca4-96b0f5306ab8",
   "metadata": {},
   "outputs": [
    {
     "name": "stdout",
     "output_type": "stream",
     "text": [
      "classification_report :\n",
      "               precision    recall  f1-score   support\n",
      "\n",
      "           0       0.76      0.88      0.82        33\n",
      "           1       0.82      0.67      0.73        27\n",
      "\n",
      "    accuracy                           0.78        60\n",
      "   macro avg       0.79      0.77      0.78        60\n",
      "weighted avg       0.79      0.78      0.78        60\n",
      "\n"
     ]
    }
   ],
   "source": [
    "from sklearn.metrics import classification_report\n",
    "print('classification_report :\\n' , classification_report(y_test,y_predicted))"
   ]
  },
  {
   "cell_type": "markdown",
   "id": "967aadb3-2e9b-44a5-87bf-aa56db71189a",
   "metadata": {},
   "source": [
    "#### Regression Model Evaluation\n",
    "#### 1. R^2 \n",
    "#### 2. Mean Absolute Error\n",
    "#### 3. Mean Squared Error "
   ]
  },
  {
   "cell_type": "markdown",
   "id": "b94a242c-b93b-42cd-89a5-80acfc19fd56",
   "metadata": {},
   "source": [
    "##### 1. R^2"
   ]
  },
  {
   "cell_type": "code",
   "execution_count": 90,
   "id": "f6303ef2-ae71-4ffb-ae9a-1ce8c431cf8f",
   "metadata": {},
   "outputs": [
    {
     "data": {
      "text/plain": [
       "0.8078930423121855"
      ]
     },
     "execution_count": 90,
     "metadata": {},
     "output_type": "execute_result"
    }
   ],
   "source": [
    "#compares model prediction to the mean of your target\n",
    "rfg.score(x_test3,y_test3)"
   ]
  },
  {
   "cell_type": "markdown",
   "id": "420096a4-7a1d-498f-bd15-64eabbb12167",
   "metadata": {},
   "source": [
    "##### 2. Mean Absolute Error"
   ]
  },
  {
   "cell_type": "code",
   "execution_count": 144,
   "id": "9dae864a-255f-4d20-a5a2-27f7b5c65aed",
   "metadata": {},
   "outputs": [
    {
     "data": {
      "text/plain": [
       "0.3263185694282948"
      ]
     },
     "execution_count": 144,
     "metadata": {},
     "output_type": "execute_result"
    }
   ],
   "source": [
    "from sklearn.metrics import mean_absolute_error\n",
    "from sklearn.ensemble import RandomForestRegressor\n",
    "from sklearn.model_selection import train_test_split\n",
    "import numpy as np\n",
    "np.random.seed(1)\n",
    "rfg = RandomForestRegressor()\n",
    "xhousing1 = df_housing.drop('target',axis = 1)\n",
    "yhousing1 = df_housing['target']\n",
    "x_train3,x_test3,y_train3,y_test3 = train_test_split(xhousing1,yhousing1,test_size = 0.2)\n",
    "rfg.fit(x_train3,y_train3)\n",
    "rfg.score(x_test3,y_test3)\n",
    "pred = rfg.predict(x_test3)\n",
    "mean_absolute_error(y_test3,pred)"
   ]
  },
  {
   "cell_type": "code",
   "execution_count": 145,
   "id": "fbb14e40-2f50-4cce-a848-1ea4610223f8",
   "metadata": {
    "scrolled": true
   },
   "outputs": [
    {
     "data": {
      "text/plain": [
       "0.3263185694282948"
      ]
     },
     "execution_count": 145,
     "metadata": {},
     "output_type": "execute_result"
    }
   ],
   "source": [
    "df = pd.DataFrame(data = {'actual values': y_test3, 'predicted values' : pred})\n",
    "df['difference'] = df['actual values'] - df['predicted values']\n",
    "df\n",
    "mae_manual = np.abs(df['difference'] )\n",
    "mae_manual.mean()"
   ]
  },
  {
   "cell_type": "markdown",
   "id": "250958b4-dbfb-48ed-afb3-77e385441823",
   "metadata": {},
   "source": [
    "##### 3. Mean Squared Error"
   ]
  },
  {
   "cell_type": "code",
   "execution_count": 147,
   "id": "83316c5b-628d-4e54-9ddf-40df552a30fa",
   "metadata": {},
   "outputs": [
    {
     "data": {
      "text/plain": [
       "0.2530662126409951"
      ]
     },
     "execution_count": 147,
     "metadata": {},
     "output_type": "execute_result"
    }
   ],
   "source": [
    "from sklearn.metrics import mean_squared_error\n",
    "mean_squared_error(y_test3,pred)"
   ]
  },
  {
   "cell_type": "code",
   "execution_count": 148,
   "id": "4d172c41-57dd-4b83-81ea-280f14c93981",
   "metadata": {},
   "outputs": [
    {
     "data": {
      "text/plain": [
       "0.2530662126409951"
      ]
     },
     "execution_count": 148,
     "metadata": {},
     "output_type": "execute_result"
    }
   ],
   "source": [
    "mse_manual = np.square(df['difference'] )\n",
    "mse_manual.mean()"
   ]
  },
  {
   "cell_type": "markdown",
   "id": "a8f65add-0be1-48b0-8065-34c18ced4afa",
   "metadata": {},
   "source": [
    "#### Scrong Parameters for Classification"
   ]
  },
  {
   "cell_type": "code",
   "execution_count": 150,
   "id": "e9e809cd-4434-43a9-a790-643b3070c057",
   "metadata": {},
   "outputs": [
    {
     "name": "stdout",
     "output_type": "stream",
     "text": [
      "[0.56666667 0.78333333 0.81355932 0.88135593 0.62711864]\n",
      "[0.58333333 0.81666667 0.81355932 0.84745763 0.55932203]\n",
      "[0.66666667 0.95454545 0.79310345 0.80645161 0.52083333]\n",
      "[0.07142857 0.64285714 0.85185185 0.96296296 0.92592593]\n",
      "[0.13333333 0.75       0.80701754 0.9        0.67567568]\n"
     ]
    }
   ],
   "source": [
    "from sklearn.model_selection import train_test_split\n",
    "from sklearn.model_selection import cross_val_score\n",
    "from sklearn.ensemble import RandomForestClassifier\n",
    "np.random.seed(4)\n",
    "x = heart_disease.drop('condition', axis=1)\n",
    "y = heart_disease['condition']\n",
    "x_train,x_test,y_train,y_test = train_test_split(x,y,test_size=0.2)\n",
    "heart_model = RandomForestClassifier().fit(x_train,y_train)\n",
    "print(cross_val_score(heart_model,x,y,cv=5,scoring= None))\n",
    "print(cross_val_score(heart_model,x,y,cv=5,scoring='accuracy'))\n",
    "print( cross_val_score(heart_model,x,y,cv=5,scoring='precision'))\n",
    "print( cross_val_score(heart_model,x,y,cv=5,scoring='recall'))\n",
    "print( cross_val_score(heart_model,x,y,cv=5,scoring='f1'))\n",
    "cross_val_score()"
   ]
  },
  {
   "cell_type": "markdown",
   "id": "18d7e90c-42b2-4bae-9459-63aaa6d0a629",
   "metadata": {},
   "source": [
    "#### Scrong Parameters for Regression"
   ]
  },
  {
   "cell_type": "code",
   "execution_count": 152,
   "id": "ecb6f8b2-dce0-4bc9-a815-55ef7a6fc4fe",
   "metadata": {},
   "outputs": [
    {
     "name": "stdout",
     "output_type": "stream",
     "text": [
      "[ 0.02909091  0.23676268  0.41204799 -0.0391822   0.33516077]\n",
      "[ 0.01802841  0.13257283  0.3919599  -0.01466591  0.33809564]\n",
      "[-0.18571167 -0.13308833 -0.13829831 -0.14981864 -0.14782373]\n"
     ]
    }
   ],
   "source": [
    "from sklearn.ensemble import RandomForestRegressor\n",
    "from sklearn.model_selection import train_test_split\n",
    "import numpy as np\n",
    "np.random.seed(1)\n",
    "rfg = RandomForestRegressor()\n",
    "xhousing1 = df_housing.drop('target',axis = 1)\n",
    "yhousing1 = df_housing['target']\n",
    "x_train3,x_test3,y_train3,y_test3 = train_test_split(xhousing1,yhousing1,test_size = 0.2)\n",
    "rfg = RandomForestRegressor().fit(x_train3,y_train3)\n",
    "print(cross_val_score(rfg,x,y,cv=5,scoring=None))\n",
    "print(cross_val_score(rfg,x,y,cv=5,scoring='r2'))\n",
    "print(cross_val_score(rfg,x,y,cv=5,scoring='neg_mean_squared_error'))"
   ]
  },
  {
   "cell_type": "markdown",
   "id": "b6a52795-3ab8-4574-985d-d199d702a62f",
   "metadata": {},
   "source": [
    "#### Using Different Evaluation Matrics As sklearn Functions "
   ]
  },
  {
   "cell_type": "code",
   "execution_count": 1,
   "id": "f6383dd0-d34a-46a4-8398-7622b41f51a2",
   "metadata": {},
   "outputs": [
    {
     "name": "stdout",
     "output_type": "stream",
     "text": [
      "Accuracy :  0.7833333333333333\n",
      "Precision :  0.8181818181818182\n",
      "Recall :  0.6666666666666666\n",
      "F1 :  0.7346938775510204\n"
     ]
    }
   ],
   "source": [
    "#Classification \n",
    "from sklearn.metrics import accuracy_score,precision_score,recall_score,f1_score\n",
    "from sklearn.ensemble import RandomForestClassifier \n",
    "from sklearn.model_selection import train_test_split \n",
    "import numpy as np \n",
    "import pandas as pd\n",
    "np.random.seed(4)\n",
    "heart_disease = pd.read_csv('Heart disease data.csv')\n",
    "x = heart_disease.drop('condition',axis=1)\n",
    "y =  heart_disease['condition']\n",
    "x_train,x_test,y_train,y_test = train_test_split(x,y,test_size=0.2)\n",
    "clf = RandomForestClassifier().fit(x_train,y_train,)\n",
    "y_prdicted = clf.predict(x_test)\n",
    "print('Accuracy : ',accuracy_score(y_test,y_prdicted))\n",
    "print('Precision : ',precision_score(y_test,y_prdicted))\n",
    "print('Recall : ',recall_score(y_test,y_prdicted))\n",
    "print('F1 : ',f1_score(y_test,y_prdicted))"
   ]
  },
  {
   "cell_type": "code",
   "execution_count": 9,
   "id": "e1229aff-1493-4811-80fa-058b9c413d50",
   "metadata": {},
   "outputs": [
    {
     "name": "stdout",
     "output_type": "stream",
     "text": [
      "r2_score :  0.8030809389906093\n",
      "mean_absolute_error :  0.3316348288759691\n",
      "mean_squared_error :  0.2561571713653193\n"
     ]
    }
   ],
   "source": [
    "#Regression \n",
    "from sklearn.metrics import r2_score,mean_squared_error,mean_absolute_error\n",
    "from sklearn.ensemble import RandomForestRegressor\n",
    "from sklearn.model_selection import train_test_split \n",
    "from sklearn.datasets import fetch_california_housing \n",
    "import numpy as np \n",
    "import pandas as pd\n",
    "np.random.seed(4)\n",
    "housing = fetch_california_housing()\n",
    "housing_df = pd.DataFrame(housing['data'],columns = housing['feature_names'])\n",
    "housing_df['target'] = pd.Series(housing['target'])\n",
    "x = housing_df.drop('target',axis=1)\n",
    "y =  housing_df['target']\n",
    "x_train,x_test,y_train,y_test = train_test_split(x,y,test_size=0.2)\n",
    "housing_model = RandomForestRegressor().fit(x_train,y_train,)\n",
    "y_prdicted = housing_model.predict(x_test)\n",
    "print('r2_score : ',r2_score(y_test,y_prdicted))\n",
    "print('mean_absolute_error : ',mean_absolute_error(y_test,y_prdicted))\n",
    "print('mean_squared_error : ',mean_squared_error(y_test,y_prdicted))"
   ]
  },
  {
   "cell_type": "markdown",
   "id": "02a69d99-6125-4bca-aa08-d2b10b63d01f",
   "metadata": {
    "jp-MarkdownHeadingCollapsed": true
   },
   "source": [
    "### Step 5 Improviing The Model"
   ]
  },
  {
   "cell_type": "code",
   "execution_count": 1,
   "id": "2b5c00df-f437-4855-8fd8-7d71bf6f49ce",
   "metadata": {},
   "outputs": [],
   "source": [
    "#3 ways to improve model\n",
    "#1 improve quality and quantity of data \n",
    "#2 change model ---> Done\n",
    "#3 improve the model using hyperparameters"
   ]
  },
  {
   "cell_type": "markdown",
   "id": "965ae2fb-683b-4062-b54b-6f0c54fef54e",
   "metadata": {},
   "source": [
    "#### Improving model using hyperparametrs\n",
    "#### 3 Ways : \n",
    "#### Manually \n",
    "#### Randomly \n",
    "#### Exhaustively"
   ]
  },
  {
   "cell_type": "markdown",
   "id": "1e809a7a-b15e-4376-a87e-57e70bd9a6a0",
   "metadata": {},
   "source": [
    "##### -Initial Code "
   ]
  },
  {
   "cell_type": "code",
   "execution_count": 53,
   "id": "d1ee2270-4788-4a8b-b05e-3ee89f4a8319",
   "metadata": {},
   "outputs": [
    {
     "name": "stdout",
     "output_type": "stream",
     "text": [
      "******EVALUATION******\n",
      "\n",
      "ACCURACY :  0.867\n",
      "\n",
      "PRECISION :  0.842\n",
      "\n",
      "RECALL :  0.842\n",
      "\n",
      "F1 :  0.842\n"
     ]
    }
   ],
   "source": [
    "from sklearn.ensemble import RandomForestClassifier\n",
    "from sklearn.metrics import accuracy_score,precision_score,recall_score,f1_score\n",
    "import numpy as np \n",
    "import pandas as pd \n",
    "#split data into features and  label\n",
    "heart_disease = pd.read_csv('Heart disease data.csv')\n",
    "heart_disease = heart_disease.sample(frac=1)\n",
    "x = heart_disease.drop(['condition'], axis=1)\n",
    "y = heart_disease['condition']\n",
    "#split data into train,validate,test = 70,15,15\n",
    "train_percentage = round(.7*len(heart_disease))\n",
    "valid_percentage = round(train_percentage+ 0.15*len(heart_disease))\n",
    "x_train,y_train = x[:train_percentage],y[:train_percentage]\n",
    "x_valid,y_valid = x[train_percentage:valid_percentage],y[train_percentage:valid_percentage]\n",
    "x_test,y_test = x[valid_percentage:],y[valid_percentage:]\n",
    "#First Model \n",
    "clf = RandomForestClassifier().fit(x_train,y_train)\n",
    "#Baseline Prediction (Default Setting, Not changing hyperparametrs)\n",
    "y_predicted = clf.predict(x_valid)\n",
    "#Evaluating Model \n",
    "#Function for evaluation metrics \n",
    "def hyper(true,predicted):\n",
    "    accuracy = accuracy_score(true,predicted)\n",
    "    precision = precision_score(true,predicted)\n",
    "    recall = recall_score(true,predicted)\n",
    "    f1 = f1_score(true,predicted)\n",
    "    \"\"\" This Function returns the evaluation metrics \"\"\"\n",
    "    metrics_dict = {'Accuracy':accuracy,'Precision':precision,'Recall':recall,'f1':f1}\n",
    "    return metrics_dict\n",
    "first_result = hyper(y_valid,y_predicted)\n",
    "print('******EVALUATION******')\n",
    "print('\\nACCURACY : ',round(first_result['Accuracy'],3))\n",
    "print('\\nPRECISION : ',round(first_result['Precision'],3))\n",
    "print('\\nRECALL : ',round(first_result['Recall'],3))\n",
    "print('\\nF1 : ',round(first_result['f1'],3))\n"
   ]
  },
  {
   "cell_type": "markdown",
   "id": "5468ff8c-4a44-44d5-91fe-3a757047e5dd",
   "metadata": {},
   "source": [
    "##### -Changing Hyperparametrs Manually"
   ]
  },
  {
   "cell_type": "code",
   "execution_count": 54,
   "id": "2fbcf4f6-af8d-4a84-b0f1-a6adb2995002",
   "metadata": {},
   "outputs": [
    {
     "name": "stdout",
     "output_type": "stream",
     "text": [
      "******EVALUATION******\n",
      "\n",
      "ACCURACY :  0.867\n",
      "\n",
      "PRECISION :  0.842\n",
      "\n",
      "RECALL :  0.842\n",
      "\n",
      "F1 :  0.842\n"
     ]
    }
   ],
   "source": [
    "#2nd Model \n",
    "clf2 = RandomForestClassifier(n_estimators=100).fit(x_train,y_train)\n",
    "y_predicted2 = clf2.predict(x_valid)\n",
    "second_result = hyper(y_valid,y_predicted2)\n",
    "print('******EVALUATION******')\n",
    "print('\\nACCURACY : ',round(second_result['Accuracy'],3))\n",
    "print('\\nPRECISION : ',round(second_result['Precision'],3))\n",
    "print('\\nRECALL : ',round(second_result['Recall'],3))\n",
    "print('\\nF1 : ',round(second_result['f1'],3))"
   ]
  },
  {
   "cell_type": "code",
   "execution_count": 55,
   "id": "11d270ff-05ee-47ac-8110-44a37ae8ae75",
   "metadata": {},
   "outputs": [
    {
     "name": "stdout",
     "output_type": "stream",
     "text": [
      "******EVALUATION******\n",
      "\n",
      "ACCURACY :  0.8\n",
      "\n",
      "PRECISION :  0.812\n",
      "\n",
      "RECALL :  0.684\n",
      "\n",
      "F1 :  0.743\n"
     ]
    }
   ],
   "source": [
    "#3rd Model \n",
    "#2nd Model \n",
    "clf3 = RandomForestClassifier(n_estimators=10,max_depth=10).fit(x_train,y_train)\n",
    "y_predicted3 = clf3.predict(x_valid)\n",
    "third_result = hyper(y_valid,y_predicted3)\n",
    "print('******EVALUATION******')\n",
    "print('\\nACCURACY : ',round(third_result['Accuracy'],3))\n",
    "print('\\nPRECISION : ',round(third_result['Precision'],3))\n",
    "print('\\nRECALL : ',round(third_result['Recall'],3))\n",
    "print('\\nF1 : ',round(third_result['f1'],3))"
   ]
  },
  {
   "cell_type": "markdown",
   "id": "26e6a10f-c184-47aa-82d0-cd7354fe9b88",
   "metadata": {},
   "source": [
    "##### -Changig hyperparametrs through RSCV \n",
    "#####               -OR-\n",
    "##### Tuning Hyperparameters using Randomized Search Cross Validation (RSCV)"
   ]
  },
  {
   "cell_type": "code",
   "execution_count": 52,
   "id": "686d4de4-ddf4-4985-9516-bfbf04aefde1",
   "metadata": {},
   "outputs": [
    {
     "data": {
      "text/plain": [
       "{'bootstrap': True,\n",
       " 'ccp_alpha': 0.0,\n",
       " 'class_weight': None,\n",
       " 'criterion': 'gini',\n",
       " 'max_depth': None,\n",
       " 'max_features': 'sqrt',\n",
       " 'max_leaf_nodes': None,\n",
       " 'max_samples': None,\n",
       " 'min_impurity_decrease': 0.0,\n",
       " 'min_samples_leaf': 1,\n",
       " 'min_samples_split': 2,\n",
       " 'min_weight_fraction_leaf': 0.0,\n",
       " 'monotonic_cst': None,\n",
       " 'n_estimators': 100,\n",
       " 'n_jobs': None,\n",
       " 'oob_score': False,\n",
       " 'random_state': None,\n",
       " 'verbose': 0,\n",
       " 'warm_start': False}"
      ]
     },
     "execution_count": 52,
     "metadata": {},
     "output_type": "execute_result"
    }
   ],
   "source": [
    "clf.get_params()"
   ]
  },
  {
   "cell_type": "code",
   "execution_count": 74,
   "id": "63ae1059-1a06-4539-b766-e8d947180028",
   "metadata": {},
   "outputs": [
    {
     "name": "stdout",
     "output_type": "stream",
     "text": [
      "Fitting 5 folds for each of 10 candidates, totalling 50 fits\n",
      "[CV] END max_depth=10, max_features=log2, min_samples_leaf=2, min_samples_split=6, n_estimators=500; total time=   1.5s\n",
      "[CV] END max_depth=10, max_features=log2, min_samples_leaf=2, min_samples_split=6, n_estimators=500; total time=   1.9s\n",
      "[CV] END max_depth=10, max_features=log2, min_samples_leaf=2, min_samples_split=6, n_estimators=500; total time=   2.3s\n",
      "[CV] END max_depth=10, max_features=log2, min_samples_leaf=2, min_samples_split=6, n_estimators=500; total time=   1.8s\n",
      "[CV] END max_depth=10, max_features=log2, min_samples_leaf=2, min_samples_split=6, n_estimators=500; total time=   1.5s\n",
      "[CV] END max_depth=None, max_features=log2, min_samples_leaf=2, min_samples_split=6, n_estimators=500; total time=   1.5s\n",
      "[CV] END max_depth=None, max_features=log2, min_samples_leaf=2, min_samples_split=6, n_estimators=500; total time=   1.5s\n",
      "[CV] END max_depth=None, max_features=log2, min_samples_leaf=2, min_samples_split=6, n_estimators=500; total time=   1.6s\n",
      "[CV] END max_depth=None, max_features=log2, min_samples_leaf=2, min_samples_split=6, n_estimators=500; total time=   1.4s\n",
      "[CV] END max_depth=None, max_features=log2, min_samples_leaf=2, min_samples_split=6, n_estimators=500; total time=   1.5s\n",
      "[CV] END max_depth=30, max_features=log2, min_samples_leaf=2, min_samples_split=4, n_estimators=100; total time=   0.2s\n",
      "[CV] END max_depth=30, max_features=log2, min_samples_leaf=2, min_samples_split=4, n_estimators=100; total time=   0.2s\n",
      "[CV] END max_depth=30, max_features=log2, min_samples_leaf=2, min_samples_split=4, n_estimators=100; total time=   0.2s\n",
      "[CV] END max_depth=30, max_features=log2, min_samples_leaf=2, min_samples_split=4, n_estimators=100; total time=   0.2s\n",
      "[CV] END max_depth=30, max_features=log2, min_samples_leaf=2, min_samples_split=4, n_estimators=100; total time=   0.3s\n",
      "[CV] END max_depth=30, max_features=sqrt, min_samples_leaf=2, min_samples_split=6, n_estimators=2000; total time=   6.2s\n",
      "[CV] END max_depth=30, max_features=sqrt, min_samples_leaf=2, min_samples_split=6, n_estimators=2000; total time=   6.1s\n",
      "[CV] END max_depth=30, max_features=sqrt, min_samples_leaf=2, min_samples_split=6, n_estimators=2000; total time=   6.1s\n",
      "[CV] END max_depth=30, max_features=sqrt, min_samples_leaf=2, min_samples_split=6, n_estimators=2000; total time=   6.2s\n",
      "[CV] END max_depth=30, max_features=sqrt, min_samples_leaf=2, min_samples_split=6, n_estimators=2000; total time=   6.1s\n",
      "[CV] END max_depth=None, max_features=log2, min_samples_leaf=2, min_samples_split=6, n_estimators=200; total time=   0.5s\n",
      "[CV] END max_depth=None, max_features=log2, min_samples_leaf=2, min_samples_split=6, n_estimators=200; total time=   0.5s\n",
      "[CV] END max_depth=None, max_features=log2, min_samples_leaf=2, min_samples_split=6, n_estimators=200; total time=   0.5s\n",
      "[CV] END max_depth=None, max_features=log2, min_samples_leaf=2, min_samples_split=6, n_estimators=200; total time=   0.5s\n",
      "[CV] END max_depth=None, max_features=log2, min_samples_leaf=2, min_samples_split=6, n_estimators=200; total time=   0.5s\n",
      "[CV] END max_depth=10, max_features=log2, min_samples_leaf=4, min_samples_split=6, n_estimators=100; total time=   0.2s\n",
      "[CV] END max_depth=10, max_features=log2, min_samples_leaf=4, min_samples_split=6, n_estimators=100; total time=   0.2s\n",
      "[CV] END max_depth=10, max_features=log2, min_samples_leaf=4, min_samples_split=6, n_estimators=100; total time=   0.2s\n",
      "[CV] END max_depth=10, max_features=log2, min_samples_leaf=4, min_samples_split=6, n_estimators=100; total time=   0.2s\n",
      "[CV] END max_depth=10, max_features=log2, min_samples_leaf=4, min_samples_split=6, n_estimators=100; total time=   0.2s\n",
      "[CV] END max_depth=20, max_features=sqrt, min_samples_leaf=4, min_samples_split=2, n_estimators=1000; total time=   3.0s\n",
      "[CV] END max_depth=20, max_features=sqrt, min_samples_leaf=4, min_samples_split=2, n_estimators=1000; total time=   3.0s\n",
      "[CV] END max_depth=20, max_features=sqrt, min_samples_leaf=4, min_samples_split=2, n_estimators=1000; total time=   3.0s\n",
      "[CV] END max_depth=20, max_features=sqrt, min_samples_leaf=4, min_samples_split=2, n_estimators=1000; total time=   2.9s\n",
      "[CV] END max_depth=20, max_features=sqrt, min_samples_leaf=4, min_samples_split=2, n_estimators=1000; total time=   3.0s\n",
      "[CV] END max_depth=None, max_features=log2, min_samples_leaf=4, min_samples_split=2, n_estimators=500; total time=   1.5s\n",
      "[CV] END max_depth=None, max_features=log2, min_samples_leaf=4, min_samples_split=2, n_estimators=500; total time=   1.4s\n",
      "[CV] END max_depth=None, max_features=log2, min_samples_leaf=4, min_samples_split=2, n_estimators=500; total time=   1.4s\n",
      "[CV] END max_depth=None, max_features=log2, min_samples_leaf=4, min_samples_split=2, n_estimators=500; total time=   1.5s\n",
      "[CV] END max_depth=None, max_features=log2, min_samples_leaf=4, min_samples_split=2, n_estimators=500; total time=   1.4s\n",
      "[CV] END max_depth=None, max_features=sqrt, min_samples_leaf=4, min_samples_split=2, n_estimators=200; total time=   0.6s\n",
      "[CV] END max_depth=None, max_features=sqrt, min_samples_leaf=4, min_samples_split=2, n_estimators=200; total time=   0.5s\n",
      "[CV] END max_depth=None, max_features=sqrt, min_samples_leaf=4, min_samples_split=2, n_estimators=200; total time=   0.5s\n",
      "[CV] END max_depth=None, max_features=sqrt, min_samples_leaf=4, min_samples_split=2, n_estimators=200; total time=   0.5s\n",
      "[CV] END max_depth=None, max_features=sqrt, min_samples_leaf=4, min_samples_split=2, n_estimators=200; total time=   0.5s\n",
      "[CV] END max_depth=10, max_features=sqrt, min_samples_leaf=1, min_samples_split=4, n_estimators=100; total time=   0.2s\n",
      "[CV] END max_depth=10, max_features=sqrt, min_samples_leaf=1, min_samples_split=4, n_estimators=100; total time=   0.2s\n",
      "[CV] END max_depth=10, max_features=sqrt, min_samples_leaf=1, min_samples_split=4, n_estimators=100; total time=   0.2s\n",
      "[CV] END max_depth=10, max_features=sqrt, min_samples_leaf=1, min_samples_split=4, n_estimators=100; total time=   0.2s\n",
      "[CV] END max_depth=10, max_features=sqrt, min_samples_leaf=1, min_samples_split=4, n_estimators=100; total time=   0.2s\n",
      "******EVALUATION******\n",
      "\n",
      "ACCURACY :  0.795\n",
      "\n",
      "PRECISION :  0.895\n",
      "\n",
      "RECALL :  0.708\n",
      "\n",
      "F1 :  0.791\n"
     ]
    }
   ],
   "source": [
    "from sklearn.model_selection import RandomizedSearchCV\n",
    "hparams = {'max_depth':[None,5,10,20,30], 'n_estimators': [10,100,100,200,500,1000,2000],'min_samples_split':[2,4,6],\n",
    "           'min_samples_leaf': [1,2,4],'max_features':['sqrt','log2']}\n",
    "clf = RandomForestClassifier(n_jobs = 1)\n",
    "rscv_clf = RandomizedSearchCV(estimator = clf, param_distributions = hparams, n_iter = 10, cv = 5, verbose = 2 )\n",
    "rscv_clf.fit(x_train,y_train)\n",
    "rscv_y_predicted = rscv_clf.predict(x_test)\n",
    "fourth_result = hyper(y_test,rscv_y_predicted)\n",
    "print('******EVALUATION******')\n",
    "print('\\nACCURACY : ',round(fourth_result['Accuracy'],3))\n",
    "print('\\nPRECISION : ',round(fourth_result['Precision'],3))\n",
    "print('\\nRECALL : ',round(fourth_result['Recall'],3))\n",
    "print('\\nF1 : ',round(fourth_result['f1'],3))"
   ]
  },
  {
   "cell_type": "code",
   "execution_count": 76,
   "id": "0c8be5c6-8183-45ff-b560-469c16960027",
   "metadata": {},
   "outputs": [
    {
     "data": {
      "text/plain": [
       "{'n_estimators': 100,\n",
       " 'min_samples_split': 4,\n",
       " 'min_samples_leaf': 1,\n",
       " 'max_features': 'sqrt',\n",
       " 'max_depth': 10}"
      ]
     },
     "execution_count": 76,
     "metadata": {},
     "output_type": "execute_result"
    }
   ],
   "source": [
    "rscv_clf.best_params_"
   ]
  },
  {
   "cell_type": "markdown",
   "id": "bf5ca553-4014-43f0-848c-e92abebbcfa9",
   "metadata": {},
   "source": [
    "##### -Changig hyperparametrs through GSCV\n",
    "#####               -OR-\n",
    "##### Tuning Hyperparameters using Grid Search Cross Validation (GSCV)"
   ]
  },
  {
   "cell_type": "code",
   "execution_count": 80,
   "id": "7775a2a2-2ed5-4742-aaad-5389834cdde8",
   "metadata": {},
   "outputs": [
    {
     "name": "stdout",
     "output_type": "stream",
     "text": [
      "Fitting 5 folds for each of 72 candidates, totalling 360 fits\n",
      "[CV] END max_depth=5, max_features=sqrt, min_samples_leaf=1, min_samples_split=2, n_estimators=10; total time=   0.0s\n",
      "[CV] END max_depth=5, max_features=sqrt, min_samples_leaf=1, min_samples_split=2, n_estimators=10; total time=   0.0s\n",
      "[CV] END max_depth=5, max_features=sqrt, min_samples_leaf=1, min_samples_split=2, n_estimators=10; total time=   0.0s\n",
      "[CV] END max_depth=5, max_features=sqrt, min_samples_leaf=1, min_samples_split=2, n_estimators=10; total time=   0.0s\n",
      "[CV] END max_depth=5, max_features=sqrt, min_samples_leaf=1, min_samples_split=2, n_estimators=10; total time=   0.0s\n",
      "[CV] END max_depth=5, max_features=sqrt, min_samples_leaf=1, min_samples_split=2, n_estimators=100; total time=   0.2s\n",
      "[CV] END max_depth=5, max_features=sqrt, min_samples_leaf=1, min_samples_split=2, n_estimators=100; total time=   0.2s\n",
      "[CV] END max_depth=5, max_features=sqrt, min_samples_leaf=1, min_samples_split=2, n_estimators=100; total time=   0.2s\n",
      "[CV] END max_depth=5, max_features=sqrt, min_samples_leaf=1, min_samples_split=2, n_estimators=100; total time=   0.3s\n",
      "[CV] END max_depth=5, max_features=sqrt, min_samples_leaf=1, min_samples_split=2, n_estimators=100; total time=   0.2s\n",
      "[CV] END max_depth=5, max_features=sqrt, min_samples_leaf=1, min_samples_split=2, n_estimators=200; total time=   0.5s\n",
      "[CV] END max_depth=5, max_features=sqrt, min_samples_leaf=1, min_samples_split=2, n_estimators=200; total time=   0.5s\n",
      "[CV] END max_depth=5, max_features=sqrt, min_samples_leaf=1, min_samples_split=2, n_estimators=200; total time=   0.5s\n",
      "[CV] END max_depth=5, max_features=sqrt, min_samples_leaf=1, min_samples_split=2, n_estimators=200; total time=   0.5s\n",
      "[CV] END max_depth=5, max_features=sqrt, min_samples_leaf=1, min_samples_split=2, n_estimators=200; total time=   0.6s\n",
      "[CV] END max_depth=5, max_features=sqrt, min_samples_leaf=1, min_samples_split=4, n_estimators=10; total time=   0.0s\n",
      "[CV] END max_depth=5, max_features=sqrt, min_samples_leaf=1, min_samples_split=4, n_estimators=10; total time=   0.0s\n",
      "[CV] END max_depth=5, max_features=sqrt, min_samples_leaf=1, min_samples_split=4, n_estimators=10; total time=   0.0s\n",
      "[CV] END max_depth=5, max_features=sqrt, min_samples_leaf=1, min_samples_split=4, n_estimators=10; total time=   0.0s\n",
      "[CV] END max_depth=5, max_features=sqrt, min_samples_leaf=1, min_samples_split=4, n_estimators=10; total time=   0.0s\n",
      "[CV] END max_depth=5, max_features=sqrt, min_samples_leaf=1, min_samples_split=4, n_estimators=100; total time=   0.2s\n",
      "[CV] END max_depth=5, max_features=sqrt, min_samples_leaf=1, min_samples_split=4, n_estimators=100; total time=   0.2s\n",
      "[CV] END max_depth=5, max_features=sqrt, min_samples_leaf=1, min_samples_split=4, n_estimators=100; total time=   0.2s\n",
      "[CV] END max_depth=5, max_features=sqrt, min_samples_leaf=1, min_samples_split=4, n_estimators=100; total time=   0.3s\n",
      "[CV] END max_depth=5, max_features=sqrt, min_samples_leaf=1, min_samples_split=4, n_estimators=100; total time=   0.2s\n",
      "[CV] END max_depth=5, max_features=sqrt, min_samples_leaf=1, min_samples_split=4, n_estimators=200; total time=   0.6s\n",
      "[CV] END max_depth=5, max_features=sqrt, min_samples_leaf=1, min_samples_split=4, n_estimators=200; total time=   0.6s\n",
      "[CV] END max_depth=5, max_features=sqrt, min_samples_leaf=1, min_samples_split=4, n_estimators=200; total time=   0.5s\n",
      "[CV] END max_depth=5, max_features=sqrt, min_samples_leaf=1, min_samples_split=4, n_estimators=200; total time=   0.5s\n",
      "[CV] END max_depth=5, max_features=sqrt, min_samples_leaf=1, min_samples_split=4, n_estimators=200; total time=   0.6s\n",
      "[CV] END max_depth=5, max_features=sqrt, min_samples_leaf=2, min_samples_split=2, n_estimators=10; total time=   0.0s\n",
      "[CV] END max_depth=5, max_features=sqrt, min_samples_leaf=2, min_samples_split=2, n_estimators=10; total time=   0.0s\n",
      "[CV] END max_depth=5, max_features=sqrt, min_samples_leaf=2, min_samples_split=2, n_estimators=10; total time=   0.0s\n",
      "[CV] END max_depth=5, max_features=sqrt, min_samples_leaf=2, min_samples_split=2, n_estimators=10; total time=   0.0s\n",
      "[CV] END max_depth=5, max_features=sqrt, min_samples_leaf=2, min_samples_split=2, n_estimators=10; total time=   0.0s\n",
      "[CV] END max_depth=5, max_features=sqrt, min_samples_leaf=2, min_samples_split=2, n_estimators=100; total time=   0.2s\n",
      "[CV] END max_depth=5, max_features=sqrt, min_samples_leaf=2, min_samples_split=2, n_estimators=100; total time=   0.2s\n",
      "[CV] END max_depth=5, max_features=sqrt, min_samples_leaf=2, min_samples_split=2, n_estimators=100; total time=   0.2s\n",
      "[CV] END max_depth=5, max_features=sqrt, min_samples_leaf=2, min_samples_split=2, n_estimators=100; total time=   0.2s\n",
      "[CV] END max_depth=5, max_features=sqrt, min_samples_leaf=2, min_samples_split=2, n_estimators=100; total time=   0.2s\n",
      "[CV] END max_depth=5, max_features=sqrt, min_samples_leaf=2, min_samples_split=2, n_estimators=200; total time=   0.5s\n",
      "[CV] END max_depth=5, max_features=sqrt, min_samples_leaf=2, min_samples_split=2, n_estimators=200; total time=   0.5s\n",
      "[CV] END max_depth=5, max_features=sqrt, min_samples_leaf=2, min_samples_split=2, n_estimators=200; total time=   0.5s\n",
      "[CV] END max_depth=5, max_features=sqrt, min_samples_leaf=2, min_samples_split=2, n_estimators=200; total time=   0.6s\n",
      "[CV] END max_depth=5, max_features=sqrt, min_samples_leaf=2, min_samples_split=2, n_estimators=200; total time=   0.5s\n",
      "[CV] END max_depth=5, max_features=sqrt, min_samples_leaf=2, min_samples_split=4, n_estimators=10; total time=   0.0s\n",
      "[CV] END max_depth=5, max_features=sqrt, min_samples_leaf=2, min_samples_split=4, n_estimators=10; total time=   0.0s\n",
      "[CV] END max_depth=5, max_features=sqrt, min_samples_leaf=2, min_samples_split=4, n_estimators=10; total time=   0.0s\n",
      "[CV] END max_depth=5, max_features=sqrt, min_samples_leaf=2, min_samples_split=4, n_estimators=10; total time=   0.0s\n",
      "[CV] END max_depth=5, max_features=sqrt, min_samples_leaf=2, min_samples_split=4, n_estimators=10; total time=   0.0s\n",
      "[CV] END max_depth=5, max_features=sqrt, min_samples_leaf=2, min_samples_split=4, n_estimators=100; total time=   0.2s\n",
      "[CV] END max_depth=5, max_features=sqrt, min_samples_leaf=2, min_samples_split=4, n_estimators=100; total time=   0.2s\n",
      "[CV] END max_depth=5, max_features=sqrt, min_samples_leaf=2, min_samples_split=4, n_estimators=100; total time=   0.2s\n",
      "[CV] END max_depth=5, max_features=sqrt, min_samples_leaf=2, min_samples_split=4, n_estimators=100; total time=   0.2s\n",
      "[CV] END max_depth=5, max_features=sqrt, min_samples_leaf=2, min_samples_split=4, n_estimators=100; total time=   0.2s\n",
      "[CV] END max_depth=5, max_features=sqrt, min_samples_leaf=2, min_samples_split=4, n_estimators=200; total time=   0.5s\n",
      "[CV] END max_depth=5, max_features=sqrt, min_samples_leaf=2, min_samples_split=4, n_estimators=200; total time=   0.5s\n",
      "[CV] END max_depth=5, max_features=sqrt, min_samples_leaf=2, min_samples_split=4, n_estimators=200; total time=   0.6s\n",
      "[CV] END max_depth=5, max_features=sqrt, min_samples_leaf=2, min_samples_split=4, n_estimators=200; total time=   0.5s\n",
      "[CV] END max_depth=5, max_features=sqrt, min_samples_leaf=2, min_samples_split=4, n_estimators=200; total time=   0.6s\n",
      "[CV] END max_depth=5, max_features=log2, min_samples_leaf=1, min_samples_split=2, n_estimators=10; total time=   0.0s\n",
      "[CV] END max_depth=5, max_features=log2, min_samples_leaf=1, min_samples_split=2, n_estimators=10; total time=   0.0s\n",
      "[CV] END max_depth=5, max_features=log2, min_samples_leaf=1, min_samples_split=2, n_estimators=10; total time=   0.0s\n",
      "[CV] END max_depth=5, max_features=log2, min_samples_leaf=1, min_samples_split=2, n_estimators=10; total time=   0.0s\n",
      "[CV] END max_depth=5, max_features=log2, min_samples_leaf=1, min_samples_split=2, n_estimators=10; total time=   0.0s\n",
      "[CV] END max_depth=5, max_features=log2, min_samples_leaf=1, min_samples_split=2, n_estimators=100; total time=   0.2s\n",
      "[CV] END max_depth=5, max_features=log2, min_samples_leaf=1, min_samples_split=2, n_estimators=100; total time=   0.2s\n",
      "[CV] END max_depth=5, max_features=log2, min_samples_leaf=1, min_samples_split=2, n_estimators=100; total time=   0.3s\n",
      "[CV] END max_depth=5, max_features=log2, min_samples_leaf=1, min_samples_split=2, n_estimators=100; total time=   0.2s\n",
      "[CV] END max_depth=5, max_features=log2, min_samples_leaf=1, min_samples_split=2, n_estimators=100; total time=   0.2s\n",
      "[CV] END max_depth=5, max_features=log2, min_samples_leaf=1, min_samples_split=2, n_estimators=200; total time=   0.6s\n",
      "[CV] END max_depth=5, max_features=log2, min_samples_leaf=1, min_samples_split=2, n_estimators=200; total time=   0.5s\n",
      "[CV] END max_depth=5, max_features=log2, min_samples_leaf=1, min_samples_split=2, n_estimators=200; total time=   0.5s\n",
      "[CV] END max_depth=5, max_features=log2, min_samples_leaf=1, min_samples_split=2, n_estimators=200; total time=   0.6s\n",
      "[CV] END max_depth=5, max_features=log2, min_samples_leaf=1, min_samples_split=2, n_estimators=200; total time=   0.5s\n",
      "[CV] END max_depth=5, max_features=log2, min_samples_leaf=1, min_samples_split=4, n_estimators=10; total time=   0.0s\n",
      "[CV] END max_depth=5, max_features=log2, min_samples_leaf=1, min_samples_split=4, n_estimators=10; total time=   0.0s\n",
      "[CV] END max_depth=5, max_features=log2, min_samples_leaf=1, min_samples_split=4, n_estimators=10; total time=   0.0s\n",
      "[CV] END max_depth=5, max_features=log2, min_samples_leaf=1, min_samples_split=4, n_estimators=10; total time=   0.0s\n",
      "[CV] END max_depth=5, max_features=log2, min_samples_leaf=1, min_samples_split=4, n_estimators=10; total time=   0.0s\n",
      "[CV] END max_depth=5, max_features=log2, min_samples_leaf=1, min_samples_split=4, n_estimators=100; total time=   0.2s\n",
      "[CV] END max_depth=5, max_features=log2, min_samples_leaf=1, min_samples_split=4, n_estimators=100; total time=   0.2s\n",
      "[CV] END max_depth=5, max_features=log2, min_samples_leaf=1, min_samples_split=4, n_estimators=100; total time=   0.2s\n",
      "[CV] END max_depth=5, max_features=log2, min_samples_leaf=1, min_samples_split=4, n_estimators=100; total time=   0.2s\n",
      "[CV] END max_depth=5, max_features=log2, min_samples_leaf=1, min_samples_split=4, n_estimators=100; total time=   0.2s\n",
      "[CV] END max_depth=5, max_features=log2, min_samples_leaf=1, min_samples_split=4, n_estimators=200; total time=   0.5s\n",
      "[CV] END max_depth=5, max_features=log2, min_samples_leaf=1, min_samples_split=4, n_estimators=200; total time=   0.5s\n",
      "[CV] END max_depth=5, max_features=log2, min_samples_leaf=1, min_samples_split=4, n_estimators=200; total time=   0.5s\n",
      "[CV] END max_depth=5, max_features=log2, min_samples_leaf=1, min_samples_split=4, n_estimators=200; total time=   0.5s\n",
      "[CV] END max_depth=5, max_features=log2, min_samples_leaf=1, min_samples_split=4, n_estimators=200; total time=   0.5s\n",
      "[CV] END max_depth=5, max_features=log2, min_samples_leaf=2, min_samples_split=2, n_estimators=10; total time=   0.0s\n",
      "[CV] END max_depth=5, max_features=log2, min_samples_leaf=2, min_samples_split=2, n_estimators=10; total time=   0.0s\n",
      "[CV] END max_depth=5, max_features=log2, min_samples_leaf=2, min_samples_split=2, n_estimators=10; total time=   0.0s\n",
      "[CV] END max_depth=5, max_features=log2, min_samples_leaf=2, min_samples_split=2, n_estimators=10; total time=   0.0s\n",
      "[CV] END max_depth=5, max_features=log2, min_samples_leaf=2, min_samples_split=2, n_estimators=10; total time=   0.0s\n",
      "[CV] END max_depth=5, max_features=log2, min_samples_leaf=2, min_samples_split=2, n_estimators=100; total time=   0.2s\n",
      "[CV] END max_depth=5, max_features=log2, min_samples_leaf=2, min_samples_split=2, n_estimators=100; total time=   0.2s\n",
      "[CV] END max_depth=5, max_features=log2, min_samples_leaf=2, min_samples_split=2, n_estimators=100; total time=   0.2s\n",
      "[CV] END max_depth=5, max_features=log2, min_samples_leaf=2, min_samples_split=2, n_estimators=100; total time=   0.2s\n",
      "[CV] END max_depth=5, max_features=log2, min_samples_leaf=2, min_samples_split=2, n_estimators=100; total time=   0.2s\n",
      "[CV] END max_depth=5, max_features=log2, min_samples_leaf=2, min_samples_split=2, n_estimators=200; total time=   0.5s\n",
      "[CV] END max_depth=5, max_features=log2, min_samples_leaf=2, min_samples_split=2, n_estimators=200; total time=   0.5s\n",
      "[CV] END max_depth=5, max_features=log2, min_samples_leaf=2, min_samples_split=2, n_estimators=200; total time=   0.5s\n",
      "[CV] END max_depth=5, max_features=log2, min_samples_leaf=2, min_samples_split=2, n_estimators=200; total time=   0.5s\n",
      "[CV] END max_depth=5, max_features=log2, min_samples_leaf=2, min_samples_split=2, n_estimators=200; total time=   0.5s\n",
      "[CV] END max_depth=5, max_features=log2, min_samples_leaf=2, min_samples_split=4, n_estimators=10; total time=   0.0s\n",
      "[CV] END max_depth=5, max_features=log2, min_samples_leaf=2, min_samples_split=4, n_estimators=10; total time=   0.0s\n",
      "[CV] END max_depth=5, max_features=log2, min_samples_leaf=2, min_samples_split=4, n_estimators=10; total time=   0.0s\n",
      "[CV] END max_depth=5, max_features=log2, min_samples_leaf=2, min_samples_split=4, n_estimators=10; total time=   0.0s\n",
      "[CV] END max_depth=5, max_features=log2, min_samples_leaf=2, min_samples_split=4, n_estimators=10; total time=   0.0s\n",
      "[CV] END max_depth=5, max_features=log2, min_samples_leaf=2, min_samples_split=4, n_estimators=100; total time=   0.2s\n",
      "[CV] END max_depth=5, max_features=log2, min_samples_leaf=2, min_samples_split=4, n_estimators=100; total time=   0.2s\n",
      "[CV] END max_depth=5, max_features=log2, min_samples_leaf=2, min_samples_split=4, n_estimators=100; total time=   0.2s\n",
      "[CV] END max_depth=5, max_features=log2, min_samples_leaf=2, min_samples_split=4, n_estimators=100; total time=   0.2s\n",
      "[CV] END max_depth=5, max_features=log2, min_samples_leaf=2, min_samples_split=4, n_estimators=100; total time=   0.2s\n",
      "[CV] END max_depth=5, max_features=log2, min_samples_leaf=2, min_samples_split=4, n_estimators=200; total time=   0.5s\n",
      "[CV] END max_depth=5, max_features=log2, min_samples_leaf=2, min_samples_split=4, n_estimators=200; total time=   0.5s\n",
      "[CV] END max_depth=5, max_features=log2, min_samples_leaf=2, min_samples_split=4, n_estimators=200; total time=   0.5s\n",
      "[CV] END max_depth=5, max_features=log2, min_samples_leaf=2, min_samples_split=4, n_estimators=200; total time=   0.5s\n",
      "[CV] END max_depth=5, max_features=log2, min_samples_leaf=2, min_samples_split=4, n_estimators=200; total time=   0.5s\n",
      "[CV] END max_depth=10, max_features=sqrt, min_samples_leaf=1, min_samples_split=2, n_estimators=10; total time=   0.0s\n",
      "[CV] END max_depth=10, max_features=sqrt, min_samples_leaf=1, min_samples_split=2, n_estimators=10; total time=   0.0s\n",
      "[CV] END max_depth=10, max_features=sqrt, min_samples_leaf=1, min_samples_split=2, n_estimators=10; total time=   0.0s\n",
      "[CV] END max_depth=10, max_features=sqrt, min_samples_leaf=1, min_samples_split=2, n_estimators=10; total time=   0.0s\n",
      "[CV] END max_depth=10, max_features=sqrt, min_samples_leaf=1, min_samples_split=2, n_estimators=10; total time=   0.0s\n",
      "[CV] END max_depth=10, max_features=sqrt, min_samples_leaf=1, min_samples_split=2, n_estimators=100; total time=   0.3s\n",
      "[CV] END max_depth=10, max_features=sqrt, min_samples_leaf=1, min_samples_split=2, n_estimators=100; total time=   0.2s\n",
      "[CV] END max_depth=10, max_features=sqrt, min_samples_leaf=1, min_samples_split=2, n_estimators=100; total time=   0.2s\n",
      "[CV] END max_depth=10, max_features=sqrt, min_samples_leaf=1, min_samples_split=2, n_estimators=100; total time=   0.2s\n",
      "[CV] END max_depth=10, max_features=sqrt, min_samples_leaf=1, min_samples_split=2, n_estimators=100; total time=   0.2s\n",
      "[CV] END max_depth=10, max_features=sqrt, min_samples_leaf=1, min_samples_split=2, n_estimators=200; total time=   0.5s\n",
      "[CV] END max_depth=10, max_features=sqrt, min_samples_leaf=1, min_samples_split=2, n_estimators=200; total time=   0.6s\n",
      "[CV] END max_depth=10, max_features=sqrt, min_samples_leaf=1, min_samples_split=2, n_estimators=200; total time=   0.5s\n",
      "[CV] END max_depth=10, max_features=sqrt, min_samples_leaf=1, min_samples_split=2, n_estimators=200; total time=   0.5s\n",
      "[CV] END max_depth=10, max_features=sqrt, min_samples_leaf=1, min_samples_split=2, n_estimators=200; total time=   0.5s\n",
      "[CV] END max_depth=10, max_features=sqrt, min_samples_leaf=1, min_samples_split=4, n_estimators=10; total time=   0.0s\n",
      "[CV] END max_depth=10, max_features=sqrt, min_samples_leaf=1, min_samples_split=4, n_estimators=10; total time=   0.0s\n",
      "[CV] END max_depth=10, max_features=sqrt, min_samples_leaf=1, min_samples_split=4, n_estimators=10; total time=   0.0s\n",
      "[CV] END max_depth=10, max_features=sqrt, min_samples_leaf=1, min_samples_split=4, n_estimators=10; total time=   0.0s\n",
      "[CV] END max_depth=10, max_features=sqrt, min_samples_leaf=1, min_samples_split=4, n_estimators=10; total time=   0.0s\n",
      "[CV] END max_depth=10, max_features=sqrt, min_samples_leaf=1, min_samples_split=4, n_estimators=100; total time=   0.2s\n",
      "[CV] END max_depth=10, max_features=sqrt, min_samples_leaf=1, min_samples_split=4, n_estimators=100; total time=   0.2s\n",
      "[CV] END max_depth=10, max_features=sqrt, min_samples_leaf=1, min_samples_split=4, n_estimators=100; total time=   0.2s\n",
      "[CV] END max_depth=10, max_features=sqrt, min_samples_leaf=1, min_samples_split=4, n_estimators=100; total time=   0.2s\n",
      "[CV] END max_depth=10, max_features=sqrt, min_samples_leaf=1, min_samples_split=4, n_estimators=100; total time=   0.2s\n",
      "[CV] END max_depth=10, max_features=sqrt, min_samples_leaf=1, min_samples_split=4, n_estimators=200; total time=   0.5s\n",
      "[CV] END max_depth=10, max_features=sqrt, min_samples_leaf=1, min_samples_split=4, n_estimators=200; total time=   0.6s\n",
      "[CV] END max_depth=10, max_features=sqrt, min_samples_leaf=1, min_samples_split=4, n_estimators=200; total time=   0.5s\n",
      "[CV] END max_depth=10, max_features=sqrt, min_samples_leaf=1, min_samples_split=4, n_estimators=200; total time=   0.5s\n",
      "[CV] END max_depth=10, max_features=sqrt, min_samples_leaf=1, min_samples_split=4, n_estimators=200; total time=   0.5s\n",
      "[CV] END max_depth=10, max_features=sqrt, min_samples_leaf=2, min_samples_split=2, n_estimators=10; total time=   0.0s\n",
      "[CV] END max_depth=10, max_features=sqrt, min_samples_leaf=2, min_samples_split=2, n_estimators=10; total time=   0.0s\n",
      "[CV] END max_depth=10, max_features=sqrt, min_samples_leaf=2, min_samples_split=2, n_estimators=10; total time=   0.0s\n",
      "[CV] END max_depth=10, max_features=sqrt, min_samples_leaf=2, min_samples_split=2, n_estimators=10; total time=   0.0s\n",
      "[CV] END max_depth=10, max_features=sqrt, min_samples_leaf=2, min_samples_split=2, n_estimators=10; total time=   0.0s\n",
      "[CV] END max_depth=10, max_features=sqrt, min_samples_leaf=2, min_samples_split=2, n_estimators=100; total time=   0.2s\n",
      "[CV] END max_depth=10, max_features=sqrt, min_samples_leaf=2, min_samples_split=2, n_estimators=100; total time=   0.2s\n",
      "[CV] END max_depth=10, max_features=sqrt, min_samples_leaf=2, min_samples_split=2, n_estimators=100; total time=   0.3s\n",
      "[CV] END max_depth=10, max_features=sqrt, min_samples_leaf=2, min_samples_split=2, n_estimators=100; total time=   0.2s\n",
      "[CV] END max_depth=10, max_features=sqrt, min_samples_leaf=2, min_samples_split=2, n_estimators=100; total time=   0.2s\n",
      "[CV] END max_depth=10, max_features=sqrt, min_samples_leaf=2, min_samples_split=2, n_estimators=200; total time=   0.5s\n",
      "[CV] END max_depth=10, max_features=sqrt, min_samples_leaf=2, min_samples_split=2, n_estimators=200; total time=   0.5s\n",
      "[CV] END max_depth=10, max_features=sqrt, min_samples_leaf=2, min_samples_split=2, n_estimators=200; total time=   0.5s\n",
      "[CV] END max_depth=10, max_features=sqrt, min_samples_leaf=2, min_samples_split=2, n_estimators=200; total time=   0.5s\n",
      "[CV] END max_depth=10, max_features=sqrt, min_samples_leaf=2, min_samples_split=2, n_estimators=200; total time=   0.5s\n",
      "[CV] END max_depth=10, max_features=sqrt, min_samples_leaf=2, min_samples_split=4, n_estimators=10; total time=   0.0s\n",
      "[CV] END max_depth=10, max_features=sqrt, min_samples_leaf=2, min_samples_split=4, n_estimators=10; total time=   0.0s\n",
      "[CV] END max_depth=10, max_features=sqrt, min_samples_leaf=2, min_samples_split=4, n_estimators=10; total time=   0.0s\n",
      "[CV] END max_depth=10, max_features=sqrt, min_samples_leaf=2, min_samples_split=4, n_estimators=10; total time=   0.0s\n",
      "[CV] END max_depth=10, max_features=sqrt, min_samples_leaf=2, min_samples_split=4, n_estimators=10; total time=   0.0s\n",
      "[CV] END max_depth=10, max_features=sqrt, min_samples_leaf=2, min_samples_split=4, n_estimators=100; total time=   0.2s\n",
      "[CV] END max_depth=10, max_features=sqrt, min_samples_leaf=2, min_samples_split=4, n_estimators=100; total time=   0.3s\n",
      "[CV] END max_depth=10, max_features=sqrt, min_samples_leaf=2, min_samples_split=4, n_estimators=100; total time=   0.2s\n",
      "[CV] END max_depth=10, max_features=sqrt, min_samples_leaf=2, min_samples_split=4, n_estimators=100; total time=   0.2s\n",
      "[CV] END max_depth=10, max_features=sqrt, min_samples_leaf=2, min_samples_split=4, n_estimators=100; total time=   0.2s\n",
      "[CV] END max_depth=10, max_features=sqrt, min_samples_leaf=2, min_samples_split=4, n_estimators=200; total time=   0.5s\n",
      "[CV] END max_depth=10, max_features=sqrt, min_samples_leaf=2, min_samples_split=4, n_estimators=200; total time=   0.5s\n",
      "[CV] END max_depth=10, max_features=sqrt, min_samples_leaf=2, min_samples_split=4, n_estimators=200; total time=   0.5s\n",
      "[CV] END max_depth=10, max_features=sqrt, min_samples_leaf=2, min_samples_split=4, n_estimators=200; total time=   0.5s\n",
      "[CV] END max_depth=10, max_features=sqrt, min_samples_leaf=2, min_samples_split=4, n_estimators=200; total time=   0.5s\n",
      "[CV] END max_depth=10, max_features=log2, min_samples_leaf=1, min_samples_split=2, n_estimators=10; total time=   0.0s\n",
      "[CV] END max_depth=10, max_features=log2, min_samples_leaf=1, min_samples_split=2, n_estimators=10; total time=   0.0s\n",
      "[CV] END max_depth=10, max_features=log2, min_samples_leaf=1, min_samples_split=2, n_estimators=10; total time=   0.0s\n",
      "[CV] END max_depth=10, max_features=log2, min_samples_leaf=1, min_samples_split=2, n_estimators=10; total time=   0.0s\n",
      "[CV] END max_depth=10, max_features=log2, min_samples_leaf=1, min_samples_split=2, n_estimators=10; total time=   0.0s\n",
      "[CV] END max_depth=10, max_features=log2, min_samples_leaf=1, min_samples_split=2, n_estimators=100; total time=   0.2s\n",
      "[CV] END max_depth=10, max_features=log2, min_samples_leaf=1, min_samples_split=2, n_estimators=100; total time=   0.2s\n",
      "[CV] END max_depth=10, max_features=log2, min_samples_leaf=1, min_samples_split=2, n_estimators=100; total time=   0.3s\n",
      "[CV] END max_depth=10, max_features=log2, min_samples_leaf=1, min_samples_split=2, n_estimators=100; total time=   0.2s\n",
      "[CV] END max_depth=10, max_features=log2, min_samples_leaf=1, min_samples_split=2, n_estimators=100; total time=   0.2s\n",
      "[CV] END max_depth=10, max_features=log2, min_samples_leaf=1, min_samples_split=2, n_estimators=200; total time=   0.5s\n",
      "[CV] END max_depth=10, max_features=log2, min_samples_leaf=1, min_samples_split=2, n_estimators=200; total time=   0.5s\n",
      "[CV] END max_depth=10, max_features=log2, min_samples_leaf=1, min_samples_split=2, n_estimators=200; total time=   0.7s\n",
      "[CV] END max_depth=10, max_features=log2, min_samples_leaf=1, min_samples_split=2, n_estimators=200; total time=   0.9s\n",
      "[CV] END max_depth=10, max_features=log2, min_samples_leaf=1, min_samples_split=2, n_estimators=200; total time=   0.9s\n",
      "[CV] END max_depth=10, max_features=log2, min_samples_leaf=1, min_samples_split=4, n_estimators=10; total time=   0.0s\n",
      "[CV] END max_depth=10, max_features=log2, min_samples_leaf=1, min_samples_split=4, n_estimators=10; total time=   0.0s\n",
      "[CV] END max_depth=10, max_features=log2, min_samples_leaf=1, min_samples_split=4, n_estimators=10; total time=   0.0s\n",
      "[CV] END max_depth=10, max_features=log2, min_samples_leaf=1, min_samples_split=4, n_estimators=10; total time=   0.0s\n",
      "[CV] END max_depth=10, max_features=log2, min_samples_leaf=1, min_samples_split=4, n_estimators=10; total time=   0.0s\n",
      "[CV] END max_depth=10, max_features=log2, min_samples_leaf=1, min_samples_split=4, n_estimators=100; total time=   0.3s\n",
      "[CV] END max_depth=10, max_features=log2, min_samples_leaf=1, min_samples_split=4, n_estimators=100; total time=   0.2s\n",
      "[CV] END max_depth=10, max_features=log2, min_samples_leaf=1, min_samples_split=4, n_estimators=100; total time=   0.3s\n",
      "[CV] END max_depth=10, max_features=log2, min_samples_leaf=1, min_samples_split=4, n_estimators=100; total time=   0.3s\n",
      "[CV] END max_depth=10, max_features=log2, min_samples_leaf=1, min_samples_split=4, n_estimators=100; total time=   0.2s\n",
      "[CV] END max_depth=10, max_features=log2, min_samples_leaf=1, min_samples_split=4, n_estimators=200; total time=   0.5s\n",
      "[CV] END max_depth=10, max_features=log2, min_samples_leaf=1, min_samples_split=4, n_estimators=200; total time=   0.5s\n",
      "[CV] END max_depth=10, max_features=log2, min_samples_leaf=1, min_samples_split=4, n_estimators=200; total time=   0.5s\n",
      "[CV] END max_depth=10, max_features=log2, min_samples_leaf=1, min_samples_split=4, n_estimators=200; total time=   0.7s\n",
      "[CV] END max_depth=10, max_features=log2, min_samples_leaf=1, min_samples_split=4, n_estimators=200; total time=   0.6s\n",
      "[CV] END max_depth=10, max_features=log2, min_samples_leaf=2, min_samples_split=2, n_estimators=10; total time=   0.0s\n",
      "[CV] END max_depth=10, max_features=log2, min_samples_leaf=2, min_samples_split=2, n_estimators=10; total time=   0.0s\n",
      "[CV] END max_depth=10, max_features=log2, min_samples_leaf=2, min_samples_split=2, n_estimators=10; total time=   0.0s\n",
      "[CV] END max_depth=10, max_features=log2, min_samples_leaf=2, min_samples_split=2, n_estimators=10; total time=   0.0s\n",
      "[CV] END max_depth=10, max_features=log2, min_samples_leaf=2, min_samples_split=2, n_estimators=10; total time=   0.0s\n",
      "[CV] END max_depth=10, max_features=log2, min_samples_leaf=2, min_samples_split=2, n_estimators=100; total time=   0.2s\n",
      "[CV] END max_depth=10, max_features=log2, min_samples_leaf=2, min_samples_split=2, n_estimators=100; total time=   0.2s\n",
      "[CV] END max_depth=10, max_features=log2, min_samples_leaf=2, min_samples_split=2, n_estimators=100; total time=   0.2s\n",
      "[CV] END max_depth=10, max_features=log2, min_samples_leaf=2, min_samples_split=2, n_estimators=100; total time=   0.2s\n",
      "[CV] END max_depth=10, max_features=log2, min_samples_leaf=2, min_samples_split=2, n_estimators=100; total time=   0.2s\n",
      "[CV] END max_depth=10, max_features=log2, min_samples_leaf=2, min_samples_split=2, n_estimators=200; total time=   0.5s\n",
      "[CV] END max_depth=10, max_features=log2, min_samples_leaf=2, min_samples_split=2, n_estimators=200; total time=   0.5s\n",
      "[CV] END max_depth=10, max_features=log2, min_samples_leaf=2, min_samples_split=2, n_estimators=200; total time=   0.5s\n",
      "[CV] END max_depth=10, max_features=log2, min_samples_leaf=2, min_samples_split=2, n_estimators=200; total time=   0.5s\n",
      "[CV] END max_depth=10, max_features=log2, min_samples_leaf=2, min_samples_split=2, n_estimators=200; total time=   0.5s\n",
      "[CV] END max_depth=10, max_features=log2, min_samples_leaf=2, min_samples_split=4, n_estimators=10; total time=   0.0s\n",
      "[CV] END max_depth=10, max_features=log2, min_samples_leaf=2, min_samples_split=4, n_estimators=10; total time=   0.0s\n",
      "[CV] END max_depth=10, max_features=log2, min_samples_leaf=2, min_samples_split=4, n_estimators=10; total time=   0.0s\n",
      "[CV] END max_depth=10, max_features=log2, min_samples_leaf=2, min_samples_split=4, n_estimators=10; total time=   0.0s\n",
      "[CV] END max_depth=10, max_features=log2, min_samples_leaf=2, min_samples_split=4, n_estimators=10; total time=   0.0s\n",
      "[CV] END max_depth=10, max_features=log2, min_samples_leaf=2, min_samples_split=4, n_estimators=100; total time=   0.2s\n",
      "[CV] END max_depth=10, max_features=log2, min_samples_leaf=2, min_samples_split=4, n_estimators=100; total time=   0.2s\n",
      "[CV] END max_depth=10, max_features=log2, min_samples_leaf=2, min_samples_split=4, n_estimators=100; total time=   0.2s\n",
      "[CV] END max_depth=10, max_features=log2, min_samples_leaf=2, min_samples_split=4, n_estimators=100; total time=   0.2s\n",
      "[CV] END max_depth=10, max_features=log2, min_samples_leaf=2, min_samples_split=4, n_estimators=100; total time=   0.2s\n",
      "[CV] END max_depth=10, max_features=log2, min_samples_leaf=2, min_samples_split=4, n_estimators=200; total time=   0.5s\n",
      "[CV] END max_depth=10, max_features=log2, min_samples_leaf=2, min_samples_split=4, n_estimators=200; total time=   0.5s\n",
      "[CV] END max_depth=10, max_features=log2, min_samples_leaf=2, min_samples_split=4, n_estimators=200; total time=   0.5s\n",
      "[CV] END max_depth=10, max_features=log2, min_samples_leaf=2, min_samples_split=4, n_estimators=200; total time=   0.5s\n",
      "[CV] END max_depth=10, max_features=log2, min_samples_leaf=2, min_samples_split=4, n_estimators=200; total time=   0.5s\n",
      "[CV] END max_depth=20, max_features=sqrt, min_samples_leaf=1, min_samples_split=2, n_estimators=10; total time=   0.0s\n",
      "[CV] END max_depth=20, max_features=sqrt, min_samples_leaf=1, min_samples_split=2, n_estimators=10; total time=   0.0s\n",
      "[CV] END max_depth=20, max_features=sqrt, min_samples_leaf=1, min_samples_split=2, n_estimators=10; total time=   0.0s\n",
      "[CV] END max_depth=20, max_features=sqrt, min_samples_leaf=1, min_samples_split=2, n_estimators=10; total time=   0.0s\n",
      "[CV] END max_depth=20, max_features=sqrt, min_samples_leaf=1, min_samples_split=2, n_estimators=10; total time=   0.0s\n",
      "[CV] END max_depth=20, max_features=sqrt, min_samples_leaf=1, min_samples_split=2, n_estimators=100; total time=   0.2s\n",
      "[CV] END max_depth=20, max_features=sqrt, min_samples_leaf=1, min_samples_split=2, n_estimators=100; total time=   0.2s\n",
      "[CV] END max_depth=20, max_features=sqrt, min_samples_leaf=1, min_samples_split=2, n_estimators=100; total time=   0.2s\n",
      "[CV] END max_depth=20, max_features=sqrt, min_samples_leaf=1, min_samples_split=2, n_estimators=100; total time=   0.2s\n",
      "[CV] END max_depth=20, max_features=sqrt, min_samples_leaf=1, min_samples_split=2, n_estimators=100; total time=   0.2s\n",
      "[CV] END max_depth=20, max_features=sqrt, min_samples_leaf=1, min_samples_split=2, n_estimators=200; total time=   0.5s\n",
      "[CV] END max_depth=20, max_features=sqrt, min_samples_leaf=1, min_samples_split=2, n_estimators=200; total time=   0.5s\n",
      "[CV] END max_depth=20, max_features=sqrt, min_samples_leaf=1, min_samples_split=2, n_estimators=200; total time=   0.5s\n",
      "[CV] END max_depth=20, max_features=sqrt, min_samples_leaf=1, min_samples_split=2, n_estimators=200; total time=   0.5s\n",
      "[CV] END max_depth=20, max_features=sqrt, min_samples_leaf=1, min_samples_split=2, n_estimators=200; total time=   0.5s\n",
      "[CV] END max_depth=20, max_features=sqrt, min_samples_leaf=1, min_samples_split=4, n_estimators=10; total time=   0.0s\n",
      "[CV] END max_depth=20, max_features=sqrt, min_samples_leaf=1, min_samples_split=4, n_estimators=10; total time=   0.0s\n",
      "[CV] END max_depth=20, max_features=sqrt, min_samples_leaf=1, min_samples_split=4, n_estimators=10; total time=   0.0s\n",
      "[CV] END max_depth=20, max_features=sqrt, min_samples_leaf=1, min_samples_split=4, n_estimators=10; total time=   0.0s\n",
      "[CV] END max_depth=20, max_features=sqrt, min_samples_leaf=1, min_samples_split=4, n_estimators=10; total time=   0.0s\n",
      "[CV] END max_depth=20, max_features=sqrt, min_samples_leaf=1, min_samples_split=4, n_estimators=100; total time=   0.2s\n",
      "[CV] END max_depth=20, max_features=sqrt, min_samples_leaf=1, min_samples_split=4, n_estimators=100; total time=   0.2s\n",
      "[CV] END max_depth=20, max_features=sqrt, min_samples_leaf=1, min_samples_split=4, n_estimators=100; total time=   0.2s\n",
      "[CV] END max_depth=20, max_features=sqrt, min_samples_leaf=1, min_samples_split=4, n_estimators=100; total time=   0.2s\n",
      "[CV] END max_depth=20, max_features=sqrt, min_samples_leaf=1, min_samples_split=4, n_estimators=100; total time=   0.2s\n",
      "[CV] END max_depth=20, max_features=sqrt, min_samples_leaf=1, min_samples_split=4, n_estimators=200; total time=   0.5s\n",
      "[CV] END max_depth=20, max_features=sqrt, min_samples_leaf=1, min_samples_split=4, n_estimators=200; total time=   0.5s\n",
      "[CV] END max_depth=20, max_features=sqrt, min_samples_leaf=1, min_samples_split=4, n_estimators=200; total time=   0.5s\n",
      "[CV] END max_depth=20, max_features=sqrt, min_samples_leaf=1, min_samples_split=4, n_estimators=200; total time=   0.5s\n",
      "[CV] END max_depth=20, max_features=sqrt, min_samples_leaf=1, min_samples_split=4, n_estimators=200; total time=   0.5s\n",
      "[CV] END max_depth=20, max_features=sqrt, min_samples_leaf=2, min_samples_split=2, n_estimators=10; total time=   0.0s\n",
      "[CV] END max_depth=20, max_features=sqrt, min_samples_leaf=2, min_samples_split=2, n_estimators=10; total time=   0.0s\n",
      "[CV] END max_depth=20, max_features=sqrt, min_samples_leaf=2, min_samples_split=2, n_estimators=10; total time=   0.0s\n",
      "[CV] END max_depth=20, max_features=sqrt, min_samples_leaf=2, min_samples_split=2, n_estimators=10; total time=   0.0s\n",
      "[CV] END max_depth=20, max_features=sqrt, min_samples_leaf=2, min_samples_split=2, n_estimators=10; total time=   0.0s\n",
      "[CV] END max_depth=20, max_features=sqrt, min_samples_leaf=2, min_samples_split=2, n_estimators=100; total time=   0.3s\n",
      "[CV] END max_depth=20, max_features=sqrt, min_samples_leaf=2, min_samples_split=2, n_estimators=100; total time=   0.2s\n",
      "[CV] END max_depth=20, max_features=sqrt, min_samples_leaf=2, min_samples_split=2, n_estimators=100; total time=   0.2s\n",
      "[CV] END max_depth=20, max_features=sqrt, min_samples_leaf=2, min_samples_split=2, n_estimators=100; total time=   0.2s\n",
      "[CV] END max_depth=20, max_features=sqrt, min_samples_leaf=2, min_samples_split=2, n_estimators=100; total time=   0.2s\n",
      "[CV] END max_depth=20, max_features=sqrt, min_samples_leaf=2, min_samples_split=2, n_estimators=200; total time=   0.5s\n",
      "[CV] END max_depth=20, max_features=sqrt, min_samples_leaf=2, min_samples_split=2, n_estimators=200; total time=   0.5s\n",
      "[CV] END max_depth=20, max_features=sqrt, min_samples_leaf=2, min_samples_split=2, n_estimators=200; total time=   0.5s\n",
      "[CV] END max_depth=20, max_features=sqrt, min_samples_leaf=2, min_samples_split=2, n_estimators=200; total time=   0.5s\n",
      "[CV] END max_depth=20, max_features=sqrt, min_samples_leaf=2, min_samples_split=2, n_estimators=200; total time=   0.5s\n",
      "[CV] END max_depth=20, max_features=sqrt, min_samples_leaf=2, min_samples_split=4, n_estimators=10; total time=   0.0s\n",
      "[CV] END max_depth=20, max_features=sqrt, min_samples_leaf=2, min_samples_split=4, n_estimators=10; total time=   0.0s\n",
      "[CV] END max_depth=20, max_features=sqrt, min_samples_leaf=2, min_samples_split=4, n_estimators=10; total time=   0.0s\n",
      "[CV] END max_depth=20, max_features=sqrt, min_samples_leaf=2, min_samples_split=4, n_estimators=10; total time=   0.0s\n",
      "[CV] END max_depth=20, max_features=sqrt, min_samples_leaf=2, min_samples_split=4, n_estimators=10; total time=   0.0s\n",
      "[CV] END max_depth=20, max_features=sqrt, min_samples_leaf=2, min_samples_split=4, n_estimators=100; total time=   0.2s\n",
      "[CV] END max_depth=20, max_features=sqrt, min_samples_leaf=2, min_samples_split=4, n_estimators=100; total time=   0.2s\n",
      "[CV] END max_depth=20, max_features=sqrt, min_samples_leaf=2, min_samples_split=4, n_estimators=100; total time=   0.2s\n",
      "[CV] END max_depth=20, max_features=sqrt, min_samples_leaf=2, min_samples_split=4, n_estimators=100; total time=   0.2s\n",
      "[CV] END max_depth=20, max_features=sqrt, min_samples_leaf=2, min_samples_split=4, n_estimators=100; total time=   0.2s\n",
      "[CV] END max_depth=20, max_features=sqrt, min_samples_leaf=2, min_samples_split=4, n_estimators=200; total time=   0.5s\n",
      "[CV] END max_depth=20, max_features=sqrt, min_samples_leaf=2, min_samples_split=4, n_estimators=200; total time=   0.5s\n",
      "[CV] END max_depth=20, max_features=sqrt, min_samples_leaf=2, min_samples_split=4, n_estimators=200; total time=   0.5s\n",
      "[CV] END max_depth=20, max_features=sqrt, min_samples_leaf=2, min_samples_split=4, n_estimators=200; total time=   0.5s\n",
      "[CV] END max_depth=20, max_features=sqrt, min_samples_leaf=2, min_samples_split=4, n_estimators=200; total time=   0.5s\n",
      "[CV] END max_depth=20, max_features=log2, min_samples_leaf=1, min_samples_split=2, n_estimators=10; total time=   0.0s\n",
      "[CV] END max_depth=20, max_features=log2, min_samples_leaf=1, min_samples_split=2, n_estimators=10; total time=   0.0s\n",
      "[CV] END max_depth=20, max_features=log2, min_samples_leaf=1, min_samples_split=2, n_estimators=10; total time=   0.0s\n",
      "[CV] END max_depth=20, max_features=log2, min_samples_leaf=1, min_samples_split=2, n_estimators=10; total time=   0.0s\n",
      "[CV] END max_depth=20, max_features=log2, min_samples_leaf=1, min_samples_split=2, n_estimators=10; total time=   0.0s\n",
      "[CV] END max_depth=20, max_features=log2, min_samples_leaf=1, min_samples_split=2, n_estimators=100; total time=   0.2s\n",
      "[CV] END max_depth=20, max_features=log2, min_samples_leaf=1, min_samples_split=2, n_estimators=100; total time=   0.3s\n",
      "[CV] END max_depth=20, max_features=log2, min_samples_leaf=1, min_samples_split=2, n_estimators=100; total time=   0.3s\n",
      "[CV] END max_depth=20, max_features=log2, min_samples_leaf=1, min_samples_split=2, n_estimators=100; total time=   0.2s\n",
      "[CV] END max_depth=20, max_features=log2, min_samples_leaf=1, min_samples_split=2, n_estimators=100; total time=   0.2s\n",
      "[CV] END max_depth=20, max_features=log2, min_samples_leaf=1, min_samples_split=2, n_estimators=200; total time=   0.5s\n",
      "[CV] END max_depth=20, max_features=log2, min_samples_leaf=1, min_samples_split=2, n_estimators=200; total time=   0.5s\n",
      "[CV] END max_depth=20, max_features=log2, min_samples_leaf=1, min_samples_split=2, n_estimators=200; total time=   0.6s\n",
      "[CV] END max_depth=20, max_features=log2, min_samples_leaf=1, min_samples_split=2, n_estimators=200; total time=   0.6s\n",
      "[CV] END max_depth=20, max_features=log2, min_samples_leaf=1, min_samples_split=2, n_estimators=200; total time=   0.5s\n",
      "[CV] END max_depth=20, max_features=log2, min_samples_leaf=1, min_samples_split=4, n_estimators=10; total time=   0.0s\n",
      "[CV] END max_depth=20, max_features=log2, min_samples_leaf=1, min_samples_split=4, n_estimators=10; total time=   0.0s\n",
      "[CV] END max_depth=20, max_features=log2, min_samples_leaf=1, min_samples_split=4, n_estimators=10; total time=   0.0s\n",
      "[CV] END max_depth=20, max_features=log2, min_samples_leaf=1, min_samples_split=4, n_estimators=10; total time=   0.0s\n",
      "[CV] END max_depth=20, max_features=log2, min_samples_leaf=1, min_samples_split=4, n_estimators=10; total time=   0.0s\n",
      "[CV] END max_depth=20, max_features=log2, min_samples_leaf=1, min_samples_split=4, n_estimators=100; total time=   0.3s\n",
      "[CV] END max_depth=20, max_features=log2, min_samples_leaf=1, min_samples_split=4, n_estimators=100; total time=   0.2s\n",
      "[CV] END max_depth=20, max_features=log2, min_samples_leaf=1, min_samples_split=4, n_estimators=100; total time=   0.2s\n",
      "[CV] END max_depth=20, max_features=log2, min_samples_leaf=1, min_samples_split=4, n_estimators=100; total time=   0.2s\n",
      "[CV] END max_depth=20, max_features=log2, min_samples_leaf=1, min_samples_split=4, n_estimators=100; total time=   0.2s\n",
      "[CV] END max_depth=20, max_features=log2, min_samples_leaf=1, min_samples_split=4, n_estimators=200; total time=   0.5s\n",
      "[CV] END max_depth=20, max_features=log2, min_samples_leaf=1, min_samples_split=4, n_estimators=200; total time=   0.5s\n",
      "[CV] END max_depth=20, max_features=log2, min_samples_leaf=1, min_samples_split=4, n_estimators=200; total time=   0.5s\n",
      "[CV] END max_depth=20, max_features=log2, min_samples_leaf=1, min_samples_split=4, n_estimators=200; total time=   0.5s\n",
      "[CV] END max_depth=20, max_features=log2, min_samples_leaf=1, min_samples_split=4, n_estimators=200; total time=   0.6s\n",
      "[CV] END max_depth=20, max_features=log2, min_samples_leaf=2, min_samples_split=2, n_estimators=10; total time=   0.0s\n",
      "[CV] END max_depth=20, max_features=log2, min_samples_leaf=2, min_samples_split=2, n_estimators=10; total time=   0.0s\n",
      "[CV] END max_depth=20, max_features=log2, min_samples_leaf=2, min_samples_split=2, n_estimators=10; total time=   0.0s\n",
      "[CV] END max_depth=20, max_features=log2, min_samples_leaf=2, min_samples_split=2, n_estimators=10; total time=   0.0s\n",
      "[CV] END max_depth=20, max_features=log2, min_samples_leaf=2, min_samples_split=2, n_estimators=10; total time=   0.0s\n",
      "[CV] END max_depth=20, max_features=log2, min_samples_leaf=2, min_samples_split=2, n_estimators=100; total time=   0.3s\n",
      "[CV] END max_depth=20, max_features=log2, min_samples_leaf=2, min_samples_split=2, n_estimators=100; total time=   0.3s\n",
      "[CV] END max_depth=20, max_features=log2, min_samples_leaf=2, min_samples_split=2, n_estimators=100; total time=   0.2s\n",
      "[CV] END max_depth=20, max_features=log2, min_samples_leaf=2, min_samples_split=2, n_estimators=100; total time=   0.2s\n",
      "[CV] END max_depth=20, max_features=log2, min_samples_leaf=2, min_samples_split=2, n_estimators=100; total time=   0.2s\n",
      "[CV] END max_depth=20, max_features=log2, min_samples_leaf=2, min_samples_split=2, n_estimators=200; total time=   0.5s\n",
      "[CV] END max_depth=20, max_features=log2, min_samples_leaf=2, min_samples_split=2, n_estimators=200; total time=   0.5s\n",
      "[CV] END max_depth=20, max_features=log2, min_samples_leaf=2, min_samples_split=2, n_estimators=200; total time=   0.5s\n",
      "[CV] END max_depth=20, max_features=log2, min_samples_leaf=2, min_samples_split=2, n_estimators=200; total time=   0.5s\n",
      "[CV] END max_depth=20, max_features=log2, min_samples_leaf=2, min_samples_split=2, n_estimators=200; total time=   0.5s\n",
      "[CV] END max_depth=20, max_features=log2, min_samples_leaf=2, min_samples_split=4, n_estimators=10; total time=   0.0s\n",
      "[CV] END max_depth=20, max_features=log2, min_samples_leaf=2, min_samples_split=4, n_estimators=10; total time=   0.0s\n",
      "[CV] END max_depth=20, max_features=log2, min_samples_leaf=2, min_samples_split=4, n_estimators=10; total time=   0.0s\n",
      "[CV] END max_depth=20, max_features=log2, min_samples_leaf=2, min_samples_split=4, n_estimators=10; total time=   0.0s\n",
      "[CV] END max_depth=20, max_features=log2, min_samples_leaf=2, min_samples_split=4, n_estimators=10; total time=   0.0s\n",
      "[CV] END max_depth=20, max_features=log2, min_samples_leaf=2, min_samples_split=4, n_estimators=100; total time=   0.2s\n",
      "[CV] END max_depth=20, max_features=log2, min_samples_leaf=2, min_samples_split=4, n_estimators=100; total time=   0.2s\n",
      "[CV] END max_depth=20, max_features=log2, min_samples_leaf=2, min_samples_split=4, n_estimators=100; total time=   0.2s\n",
      "[CV] END max_depth=20, max_features=log2, min_samples_leaf=2, min_samples_split=4, n_estimators=100; total time=   0.2s\n",
      "[CV] END max_depth=20, max_features=log2, min_samples_leaf=2, min_samples_split=4, n_estimators=100; total time=   0.2s\n",
      "[CV] END max_depth=20, max_features=log2, min_samples_leaf=2, min_samples_split=4, n_estimators=200; total time=   0.5s\n",
      "[CV] END max_depth=20, max_features=log2, min_samples_leaf=2, min_samples_split=4, n_estimators=200; total time=   0.5s\n",
      "[CV] END max_depth=20, max_features=log2, min_samples_leaf=2, min_samples_split=4, n_estimators=200; total time=   0.5s\n",
      "[CV] END max_depth=20, max_features=log2, min_samples_leaf=2, min_samples_split=4, n_estimators=200; total time=   0.6s\n",
      "[CV] END max_depth=20, max_features=log2, min_samples_leaf=2, min_samples_split=4, n_estimators=200; total time=   0.6s\n",
      "******EVALUATION******\n",
      "\n",
      "ACCURACY :  0.818\n",
      "\n",
      "PRECISION :  0.9\n",
      "\n",
      "RECALL :  0.75\n",
      "\n",
      "F1 :  0.818\n"
     ]
    }
   ],
   "source": [
    "from sklearn.model_selection import GridSearchCV\n",
    "hparamsg = {'max_depth':[5,10,20], 'n_estimators': [10,100,200],'min_samples_split':[2,4],\n",
    "           'min_samples_leaf': [1,2],'max_features':['sqrt','log2']}\n",
    "clf = RandomForestClassifier(n_jobs = 1)\n",
    "gscv_clf = GridSearchCV(estimator = clf, param_grid = hparamsg, cv = 5, verbose = 2 )\n",
    "gscv_clf.fit(x_train,y_train)\n",
    "gscv_y_predicted = gscv_clf.predict(x_test)\n",
    "fifth_result = hyper(y_test,gscv_y_predicted)\n",
    "print('******EVALUATION******')\n",
    "print('\\nACCURACY : ',round(fifth_result['Accuracy'],3))\n",
    "print('\\nPRECISION : ',round(fifth_result['Precision'],3))\n",
    "print('\\nRECALL : ',round(fifth_result['Recall'],3))\n",
    "print('\\nF1 : ',round(fifth_result['f1'],3))"
   ]
  },
  {
   "cell_type": "code",
   "execution_count": 81,
   "id": "7a785ada-7714-4376-9260-d6f7d8906e67",
   "metadata": {},
   "outputs": [
    {
     "data": {
      "text/plain": [
       "{'max_depth': 5,\n",
       " 'max_features': 'sqrt',\n",
       " 'min_samples_leaf': 2,\n",
       " 'min_samples_split': 4,\n",
       " 'n_estimators': 10}"
      ]
     },
     "execution_count": 81,
     "metadata": {},
     "output_type": "execute_result"
    }
   ],
   "source": [
    "gscv_clf.best_params_"
   ]
  },
  {
   "cell_type": "markdown",
   "id": "dcc365ed-9dfa-41f5-bc4e-648635268314",
   "metadata": {},
   "source": [
    "##### ALL RESULTS COMPARISION"
   ]
  },
  {
   "cell_type": "code",
   "execution_count": 92,
   "id": "96b8da7a-f2f8-42c7-8520-48d287d9df85",
   "metadata": {},
   "outputs": [
    {
     "data": {
      "text/plain": [
       "<Axes: >"
      ]
     },
     "execution_count": 92,
     "metadata": {},
     "output_type": "execute_result"
    },
    {
     "data": {
      "image/png": "[encoded data removed]",
      "text/plain": [
       "<Figure size 800x500 with 1 Axes>"
      ]
     },
     "metadata": {},
     "output_type": "display_data"
    }
   ],
   "source": [
    "compariosion = pd.DataFrame({'Baseline':first_result,'Manual_1':second_result,'Manual_2':third_result,'RSCV':fourth_result ,'GSCV':fifth_result})\n",
    "compariosion.plot.bar(figsize = (8,5))"
   ]
  },
  {
   "cell_type": "markdown",
   "id": "df9768a9-6e40-4a45-906d-3ffdf6eab34b",
   "metadata": {
    "jp-MarkdownHeadingCollapsed": true
   },
   "source": [
    "### Step 6 Save Model \n",
    "### Method 1 : Pickle \n",
    "### Method 2 : Joblib "
   ]
  },
  {
   "cell_type": "code",
   "execution_count": 86,
   "id": "68e2b306-b403-4784-8e2a-9d6b9e73083c",
   "metadata": {},
   "outputs": [
    {
     "data": {
      "text/plain": [
       "{'Accuracy': 0.8181818181818182,\n",
       " 'Precision': 0.9,\n",
       " 'Recall': 0.75,\n",
       " 'f1': 0.8181818181818182}"
      ]
     },
     "execution_count": 86,
     "metadata": {},
     "output_type": "execute_result"
    }
   ],
   "source": [
    "#pickle \n",
    "import pickle \n",
    "#saving\n",
    "pickle.dump(gscv_clf,open('GSCV_CLF.pkl','wb'))\n",
    "#loading \n",
    "picled_model = pickle.load(open('GSCV_CLF.pkl','rb'))\n",
    "#making predictions\n",
    "predict = picled_model.predict(x_test)\n",
    "hyper(y_test,predict)"
   ]
  },
  {
   "cell_type": "code",
   "execution_count": 87,
   "id": "824db022-2f33-410f-bebb-923510a65eeb",
   "metadata": {},
   "outputs": [
    {
     "data": {
      "text/plain": [
       "{'Accuracy': 0.8181818181818182,\n",
       " 'Precision': 0.9,\n",
       " 'Recall': 0.75,\n",
       " 'f1': 0.8181818181818182}"
      ]
     },
     "execution_count": 87,
     "metadata": {},
     "output_type": "execute_result"
    }
   ],
   "source": [
    "#joblib\n",
    "import joblib \n",
    "#saving\n",
    "joblib.dump(gscv_clf,filename='GSCV_CLF_Joblib.joblib')\n",
    "#loading \n",
    "joblib_model = joblib.load(filename='GSCV_CLF_Joblib.joblib')\n",
    "#making predictions\n",
    "predict = picled_model.predict(x_test)\n",
    "hyper(y_test,predict)"
   ]
  },
  {
   "cell_type": "code",
   "execution_count": null,
   "id": "7e8677c3-1d37-4b3a-9286-97895d157f8f",
   "metadata": {},
   "outputs": [],
   "source": []
  }
 ],
 "metadata": {
  "kernelspec": {
   "display_name": "Python 3 (ipykernel)",
   "language": "python",
   "name": "python3"
  },
  "language_info": {
   "codemirror_mode": {
    "name": "ipython",
    "version": 3
   },
   "file_extension": ".py",
   "mimetype": "text/x-python",
   "name": "python",
   "nbconvert_exporter": "python",
   "pygments_lexer": "ipython3",
   "version": "3.12.3"
  }
 },
 "nbformat": 4,
 "nbformat_minor": 5
}
