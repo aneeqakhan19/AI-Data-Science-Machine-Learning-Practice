{
 "cells": [
  {
   "cell_type": "markdown",
   "id": "c4ba240b-3197-4673-8a76-1c4bafc0e28d",
   "metadata": {},
   "source": [
    "# NUMPY "
   ]
  },
  {
   "cell_type": "markdown",
   "id": "292bc8fd-7226-480d-a60c-d585316d9ecf",
   "metadata": {
    "jp-MarkdownHeadingCollapsed": true
   },
   "source": [
    "## Numpy Array"
   ]
  },
  {
   "cell_type": "code",
   "execution_count": 2,
   "id": "589ed66d-b5c4-441e-99c8-2c7bcb55d0ab",
   "metadata": {},
   "outputs": [],
   "source": [
    "import numpy as np"
   ]
  },
  {
   "cell_type": "code",
   "execution_count": 5,
   "id": "24e5b86a-aafb-4f2c-b1a5-dfefaf1836e7",
   "metadata": {},
   "outputs": [],
   "source": [
    "#dimensions of data \n",
    "a1d = np.array([1,2,3]) # 1D-array / Vector\n",
    "a2d = np.array([[1,0,3],[4,5,6]]) # 2D-array / Matrix\n",
    "a3d = np.array([[[1,2,3],[4,5,6]],[[7,8,9],[5,6,4]]]) # 3D-array / Matriz  "
   ]
  },
  {
   "cell_type": "code",
   "execution_count": 10,
   "id": "fb61985c-090f-488d-9ca1-71450ab53ef8",
   "metadata": {},
   "outputs": [
    {
     "name": "stdout",
     "output_type": "stream",
     "text": [
      "Array 1 :  [1 2 3]\n",
      "\n",
      "Array 2 : \n",
      " [[1 0 3]\n",
      " [4 5 6]]\n",
      "\n",
      "Array 3 : \n",
      " [[[1 2 3]\n",
      "  [4 5 6]]\n",
      "\n",
      " [[7 8 9]\n",
      "  [5 6 4]]]\n"
     ]
    }
   ],
   "source": [
    "print( \"Array 1 : \" , a1d )\n",
    "print( \"\\nArray 2 : \\n\" , a2d )\n",
    "print( \"\\nArray 3 : \\n\" , a3d )"
   ]
  },
  {
   "cell_type": "code",
   "execution_count": 13,
   "id": "3a822980-45f1-4735-beb5-c8b00cffb603",
   "metadata": {},
   "outputs": [
    {
     "name": "stdout",
     "output_type": "stream",
     "text": [
      "Shape of Array 1 :  (3,)\n",
      "Shape of Array 2 :  (2, 3)\n",
      "Shape of Array 3 :  (2, 2, 3)\n"
     ]
    }
   ],
   "source": [
    "#shapes of array \n",
    "print( \"Shape of Array 1 : \" , a1d.shape )\n",
    "print( \"Shape of Array 2 : \" , a2d.shape )\n",
    "print( \"Shape of Array 3 : \" , a3d.shape )"
   ]
  },
  {
   "cell_type": "code",
   "execution_count": 14,
   "id": "2ede3c75-cc24-41b9-9499-e7bbcb7a8843",
   "metadata": {},
   "outputs": [
    {
     "name": "stdout",
     "output_type": "stream",
     "text": [
      "Dimension of Array 1 :  1\n",
      "Dimension of Array 2 :  2\n",
      "Dimenension of Array 3 :  3\n"
     ]
    }
   ],
   "source": [
    "#dimension of array\n",
    "print( \"Dimension of Array 1 : \" , a1d.ndim )\n",
    "print( \"Dimension of Array 2 : \" , a2d.ndim )\n",
    "print( \"Dimenension of Array 3 : \" , a3d.ndim )"
   ]
  },
  {
   "cell_type": "code",
   "execution_count": 15,
   "id": "df913caa-aef7-43f2-ae75-26cc3d9fa852",
   "metadata": {},
   "outputs": [
    {
     "data": {
      "text/plain": [
       "dtype('int32')"
      ]
     },
     "execution_count": 15,
     "metadata": {},
     "output_type": "execute_result"
    }
   ],
   "source": [
    "a3d.dtype"
   ]
  },
  {
   "cell_type": "code",
   "execution_count": 16,
   "id": "c3041d01-81cd-4538-9de6-f866d4782e09",
   "metadata": {},
   "outputs": [
    {
     "data": {
      "text/plain": [
       "12"
      ]
     },
     "execution_count": 16,
     "metadata": {},
     "output_type": "execute_result"
    }
   ],
   "source": [
    "a3d.size #tells no. of entries/elements in an array "
   ]
  },
  {
   "cell_type": "code",
   "execution_count": 19,
   "id": "814a8133-52a9-49b6-8e41-cc03c2c05a18",
   "metadata": {},
   "outputs": [
    {
     "data": {
      "text/html": [
       "<div>\n",
       "<style scoped>\n",
       "    .dataframe tbody tr th:only-of-type {\n",
       "        vertical-align: middle;\n",
       "    }\n",
       "\n",
       "    .dataframe tbody tr th {\n",
       "        vertical-align: top;\n",
       "    }\n",
       "\n",
       "    .dataframe thead th {\n",
       "        text-align: right;\n",
       "    }\n",
       "</style>\n",
       "<table border=\"1\" class=\"dataframe\">\n",
       "  <thead>\n",
       "    <tr style=\"text-align: right;\">\n",
       "      <th></th>\n",
       "      <th>0</th>\n",
       "      <th>1</th>\n",
       "      <th>2</th>\n",
       "    </tr>\n",
       "  </thead>\n",
       "  <tbody>\n",
       "    <tr>\n",
       "      <th>0</th>\n",
       "      <td>1</td>\n",
       "      <td>0</td>\n",
       "      <td>3</td>\n",
       "    </tr>\n",
       "    <tr>\n",
       "      <th>1</th>\n",
       "      <td>4</td>\n",
       "      <td>5</td>\n",
       "      <td>6</td>\n",
       "    </tr>\n",
       "  </tbody>\n",
       "</table>\n",
       "</div>"
      ],
      "text/plain": [
       "   0  1  2\n",
       "0  1  0  3\n",
       "1  4  5  6"
      ]
     },
     "execution_count": 19,
     "metadata": {},
     "output_type": "execute_result"
    }
   ],
   "source": [
    "#we can create dataframe out of  numpy bcz pandas is written in numpy\n",
    "import pandas as pd\n",
    "df = pd.DataFrame(a2d)\n",
    "df"
   ]
  },
  {
   "cell_type": "markdown",
   "id": "12b7707a-a1c2-4611-bb9a-ae108530159e",
   "metadata": {
    "jp-MarkdownHeadingCollapsed": true
   },
   "source": [
    "## Creating numpy Arrays (using functions)"
   ]
  },
  {
   "cell_type": "code",
   "execution_count": 20,
   "id": "631de067-bd4d-4cac-8f8c-23697a6b0048",
   "metadata": {},
   "outputs": [],
   "source": [
    "# 3 types of functions \n",
    "# zeros, ones, random"
   ]
  },
  {
   "cell_type": "code",
   "execution_count": 6,
   "id": "11984daa-8100-4ad0-a78d-ba6071922d19",
   "metadata": {},
   "outputs": [
    {
     "name": "stdout",
     "output_type": "stream",
     "text": [
      "Zeros\n",
      " [[0. 0.]\n",
      " [0. 0.]] \n",
      "\n",
      "Ones\n",
      " [[1. 1. 1.]\n",
      " [1. 1. 1.]]\n"
     ]
    }
   ],
   "source": [
    "zeros = np.zeros((2,2))\n",
    "ones = np.ones((2,3))\n",
    "print(\"Zeros\\n\",zeros,\"\\n\")\n",
    "print(\"Ones\\n\",ones )"
   ]
  },
  {
   "cell_type": "code",
   "execution_count": 27,
   "id": "6bb5250c-76f6-4db4-9035-433f70a33680",
   "metadata": {},
   "outputs": [
    {
     "data": {
      "text/plain": [
       "array([0, 2, 4, 6, 8])"
      ]
     },
     "execution_count": 27,
     "metadata": {},
     "output_type": "execute_result"
    }
   ],
   "source": [
    "range_arr = np.arange(0,10,2)\n",
    "range_arr"
   ]
  },
  {
   "cell_type": "code",
   "execution_count": 29,
   "id": "d1eeda24-0abe-46d4-8d6e-a561bf95e655",
   "metadata": {},
   "outputs": [
    {
     "data": {
      "text/plain": [
       "array([[9, 7, 2],\n",
       "       [2, 5, 8]])"
      ]
     },
     "execution_count": 29,
     "metadata": {},
     "output_type": "execute_result"
    }
   ],
   "source": [
    "np.random.randint(0,10, size=(2,3))"
   ]
  },
  {
   "cell_type": "code",
   "execution_count": 32,
   "id": "c30792fd-2235-4a43-9a8c-203a84cb5edf",
   "metadata": {},
   "outputs": [
    {
     "data": {
      "text/plain": [
       "array([[0.36870152, 0.82977402, 0.77224261],\n",
       "       [0.64172843, 0.36773337, 0.92290724],\n",
       "       [0.54007519, 0.91984641, 0.26836452]])"
      ]
     },
     "execution_count": 32,
     "metadata": {},
     "output_type": "execute_result"
    }
   ],
   "source": [
    "np.random.rand(3,3) #auto range 0-1"
   ]
  },
  {
   "cell_type": "code",
   "execution_count": 34,
   "id": "c0c7eaa8-0024-40f6-a877-8800eb952c61",
   "metadata": {},
   "outputs": [
    {
     "data": {
      "text/plain": [
       "array([[0.5488135 , 0.71518937, 0.60276338, 0.54488318, 0.4236548 ],\n",
       "       [0.64589411, 0.43758721, 0.891773  , 0.96366276, 0.38344152],\n",
       "       [0.79172504, 0.52889492, 0.56804456, 0.92559664, 0.07103606]])"
      ]
     },
     "execution_count": 34,
     "metadata": {},
     "output_type": "execute_result"
    }
   ],
   "source": [
    "# to save the state of randomness\n",
    "np.random.seed(seed = 0)\n",
    "np.random.rand(3,5)"
   ]
  },
  {
   "cell_type": "markdown",
   "id": "e4bc8cf9-9fb3-4f20-970c-dfabaae907cf",
   "metadata": {
    "jp-MarkdownHeadingCollapsed": true
   },
   "source": [
    "## Accessing Elements of Array "
   ]
  },
  {
   "cell_type": "code",
   "execution_count": 35,
   "id": "afe8778e-9997-4d21-b5b6-3fe3def12086",
   "metadata": {},
   "outputs": [
    {
     "data": {
      "text/plain": [
       "array([[1, 0, 3],\n",
       "       [4, 5, 6]])"
      ]
     },
     "execution_count": 35,
     "metadata": {},
     "output_type": "execute_result"
    }
   ],
   "source": [
    "a2d"
   ]
  },
  {
   "cell_type": "code",
   "execution_count": 57,
   "id": "002917b7-e7d5-4625-ac66-b90d569f5844",
   "metadata": {},
   "outputs": [
    {
     "data": {
      "text/plain": [
       "array([1, 0, 3])"
      ]
     },
     "execution_count": 57,
     "metadata": {},
     "output_type": "execute_result"
    }
   ],
   "source": [
    "a2d[0]"
   ]
  },
  {
   "cell_type": "code",
   "execution_count": 58,
   "id": "6ab423b7-d5b6-4dbb-bb5a-3cf17fd108b2",
   "metadata": {},
   "outputs": [
    {
     "data": {
      "text/plain": [
       "3"
      ]
     },
     "execution_count": 58,
     "metadata": {},
     "output_type": "execute_result"
    }
   ],
   "source": [
    "a2d[0][2]"
   ]
  },
  {
   "cell_type": "code",
   "execution_count": 37,
   "id": "213708f7-1b39-4037-8d44-39f459d08b59",
   "metadata": {},
   "outputs": [
    {
     "data": {
      "text/plain": [
       "array([[[1, 2, 3],\n",
       "        [4, 5, 6]],\n",
       "\n",
       "       [[7, 8, 9],\n",
       "        [5, 6, 4]]])"
      ]
     },
     "execution_count": 37,
     "metadata": {},
     "output_type": "execute_result"
    }
   ],
   "source": [
    "a3d"
   ]
  },
  {
   "cell_type": "code",
   "execution_count": 56,
   "id": "d0b95c14-390f-4765-ad46-5939ac3b8fc2",
   "metadata": {},
   "outputs": [
    {
     "data": {
      "text/plain": [
       "array([[7, 8, 9],\n",
       "       [5, 6, 4]])"
      ]
     },
     "execution_count": 56,
     "metadata": {},
     "output_type": "execute_result"
    }
   ],
   "source": [
    "a3d[1]"
   ]
  },
  {
   "cell_type": "code",
   "execution_count": 55,
   "id": "e86eaad2-b644-47f6-a83b-1729f3333ef7",
   "metadata": {},
   "outputs": [
    {
     "data": {
      "text/plain": [
       "array([[[1, 2]]])"
      ]
     },
     "execution_count": 55,
     "metadata": {},
     "output_type": "execute_result"
    }
   ],
   "source": [
    "a3d[:1,:1,:2]"
   ]
  },
  {
   "cell_type": "code",
   "execution_count": 39,
   "id": "34529275-dc8c-4151-832d-3f602aa6862e",
   "metadata": {},
   "outputs": [
    {
     "data": {
      "text/plain": [
       "array([[[1, 2, 3],\n",
       "        [4, 5, 6]],\n",
       "\n",
       "       [[7, 8, 9],\n",
       "        [5, 6, 4]]])"
      ]
     },
     "execution_count": 39,
     "metadata": {},
     "output_type": "execute_result"
    }
   ],
   "source": [
    "a3d[:2]"
   ]
  },
  {
   "cell_type": "code",
   "execution_count": 42,
   "id": "30012bff-6790-4e2a-84f9-2ba0ac193d61",
   "metadata": {},
   "outputs": [
    {
     "data": {
      "text/plain": [
       "array([[[1, 2, 3]],\n",
       "\n",
       "       [[7, 8, 9]]])"
      ]
     },
     "execution_count": 42,
     "metadata": {},
     "output_type": "execute_result"
    }
   ],
   "source": [
    "a3d[0:2,:1]"
   ]
  },
  {
   "cell_type": "code",
   "execution_count": 45,
   "id": "9a4180e5-5d96-4483-9dde-085446744161",
   "metadata": {},
   "outputs": [
    {
     "data": {
      "text/plain": [
       "array([[[1, 2]],\n",
       "\n",
       "       [[7, 8]]])"
      ]
     },
     "execution_count": 45,
     "metadata": {},
     "output_type": "execute_result"
    }
   ],
   "source": [
    "a3d[0:2,:1,:2]"
   ]
  },
  {
   "cell_type": "code",
   "execution_count": 59,
   "id": "91818060-0a91-4663-8cd7-1bed7de76034",
   "metadata": {},
   "outputs": [
    {
     "data": {
      "text/plain": [
       "array([[9, 4],\n",
       "       [3, 0]])"
      ]
     },
     "execution_count": 59,
     "metadata": {},
     "output_type": "execute_result"
    }
   ],
   "source": [
    "arandom = np.random.randint(10, size = (2,2)) #2D\n",
    "arandom"
   ]
  },
  {
   "cell_type": "code",
   "execution_count": 60,
   "id": "c127a435-cd80-47dc-918b-5e1092f2c9a7",
   "metadata": {},
   "outputs": [
    {
     "data": {
      "text/plain": [
       "array([[[3, 5],\n",
       "        [0, 2]],\n",
       "\n",
       "       [[3, 8],\n",
       "        [1, 3]]])"
      ]
     },
     "execution_count": 60,
     "metadata": {},
     "output_type": "execute_result"
    }
   ],
   "source": [
    "arandom = np.random.randint(10, size = (2,2,2)) #3D\n",
    "arandom"
   ]
  },
  {
   "cell_type": "code",
   "execution_count": 61,
   "id": "e1ec0d00-6680-45a9-b0ac-dcaab2021f98",
   "metadata": {},
   "outputs": [
    {
     "data": {
      "text/plain": [
       "array([[[3, 3, 7],\n",
       "        [0, 1, 9],\n",
       "        [9, 0, 4]],\n",
       "\n",
       "       [[7, 3, 2],\n",
       "        [7, 2, 0],\n",
       "        [0, 4, 5]],\n",
       "\n",
       "       [[5, 6, 8],\n",
       "        [4, 1, 4],\n",
       "        [9, 8, 1]]])"
      ]
     },
     "execution_count": 61,
     "metadata": {},
     "output_type": "execute_result"
    }
   ],
   "source": [
    "arandom = np.random.randint(10, size = (3,3,3)) #3D\n",
    "arandom"
   ]
  },
  {
   "cell_type": "code",
   "execution_count": 3,
   "id": "19617ebf-249e-4c81-9ce0-507449e9ce65",
   "metadata": {},
   "outputs": [
    {
     "data": {
      "text/plain": [
       "array([[[[4, 0, 8, 9, 1],\n",
       "         [9, 7, 5, 1, 7],\n",
       "         [9, 3, 8, 9, 1],\n",
       "         [2, 1, 9, 7, 4]],\n",
       "\n",
       "        [[4, 2, 7, 4, 2],\n",
       "         [0, 4, 3, 0, 4],\n",
       "         [7, 7, 3, 3, 3],\n",
       "         [6, 9, 3, 0, 7]],\n",
       "\n",
       "        [[0, 0, 5, 9, 8],\n",
       "         [9, 1, 9, 1, 0],\n",
       "         [7, 0, 5, 8, 6],\n",
       "         [6, 6, 9, 0, 3]]],\n",
       "\n",
       "\n",
       "       [[[5, 1, 7, 9, 2],\n",
       "         [5, 8, 7, 7, 7],\n",
       "         [4, 9, 6, 3, 4],\n",
       "         [0, 1, 9, 3, 8]],\n",
       "\n",
       "        [[0, 7, 1, 7, 4],\n",
       "         [0, 7, 9, 6, 6],\n",
       "         [4, 7, 3, 9, 0],\n",
       "         [3, 7, 2, 1, 3]],\n",
       "\n",
       "        [[7, 6, 3, 3, 9],\n",
       "         [5, 7, 6, 1, 6],\n",
       "         [4, 4, 4, 6, 8],\n",
       "         [0, 9, 7, 9, 9]]]])"
      ]
     },
     "execution_count": 3,
     "metadata": {},
     "output_type": "execute_result"
    }
   ],
   "source": [
    "arandom = np.random.randint(10, size = (2,3,4,5)) #3D\n",
    "arandom"
   ]
  },
  {
   "cell_type": "code",
   "execution_count": 64,
   "id": "6efaa56e-4c58-471c-95c9-f9b9413a9fbb",
   "metadata": {},
   "outputs": [
    {
     "data": {
      "text/plain": [
       "array([[[[1]]],\n",
       "\n",
       "\n",
       "       [[[4]]]])"
      ]
     },
     "execution_count": 64,
     "metadata": {},
     "output_type": "execute_result"
    }
   ],
   "source": [
    "arandom[0:2,:1,:1,:1]"
   ]
  },
  {
   "cell_type": "code",
   "execution_count": 4,
   "id": "87607de8-53ad-4e84-a9e8-1596d6dfa052",
   "metadata": {},
   "outputs": [
    {
     "data": {
      "text/plain": [
       "array([[[[4, 0],\n",
       "         [9, 7]],\n",
       "\n",
       "        [[4, 2],\n",
       "         [0, 4]]]])"
      ]
     },
     "execution_count": 4,
     "metadata": {},
     "output_type": "execute_result"
    }
   ],
   "source": [
    "arandom[0:1,:2,:2,:2]"
   ]
  },
  {
   "cell_type": "markdown",
   "id": "aa0e2919-8f40-4008-8954-05c50fbae800",
   "metadata": {
    "jp-MarkdownHeadingCollapsed": true
   },
   "source": [
    "## Array Manipulation"
   ]
  },
  {
   "cell_type": "code",
   "execution_count": 8,
   "id": "335cd817-e823-4c85-8384-a5d0896f2665",
   "metadata": {},
   "outputs": [
    {
     "data": {
      "text/plain": [
       "array([1, 2, 3])"
      ]
     },
     "execution_count": 8,
     "metadata": {},
     "output_type": "execute_result"
    }
   ],
   "source": [
    "a1d"
   ]
  },
  {
   "cell_type": "code",
   "execution_count": 9,
   "id": "22f0d991-3904-4032-8986-903fbedf297d",
   "metadata": {},
   "outputs": [
    {
     "data": {
      "text/plain": [
       "array([[1., 1., 1.],\n",
       "       [1., 1., 1.]])"
      ]
     },
     "execution_count": 9,
     "metadata": {},
     "output_type": "execute_result"
    }
   ],
   "source": [
    "ones"
   ]
  },
  {
   "cell_type": "markdown",
   "id": "8a02c47c-6b8a-4d65-803a-ba97be414ab5",
   "metadata": {},
   "source": [
    "#### Broadcasting"
   ]
  },
  {
   "cell_type": "code",
   "execution_count": 10,
   "id": "1c6b2510-5ab9-4921-bd19-a202cd877709",
   "metadata": {},
   "outputs": [
    {
     "data": {
      "text/plain": [
       "array([[2., 3., 4.],\n",
       "       [2., 3., 4.]])"
      ]
     },
     "execution_count": 10,
     "metadata": {},
     "output_type": "execute_result"
    }
   ],
   "source": [
    "a1d+ones"
   ]
  },
  {
   "cell_type": "code",
   "execution_count": 11,
   "id": "65917eab-e199-4735-b73c-da3eafa2fd73",
   "metadata": {},
   "outputs": [
    {
     "data": {
      "text/plain": [
       "array([[1., 2., 3.],\n",
       "       [1., 2., 3.]])"
      ]
     },
     "execution_count": 11,
     "metadata": {},
     "output_type": "execute_result"
    }
   ],
   "source": [
    "a1d*ones"
   ]
  },
  {
   "cell_type": "code",
   "execution_count": 12,
   "id": "7efd1dee-52f0-4472-a6b1-6407dbd3f988",
   "metadata": {},
   "outputs": [
    {
     "data": {
      "text/plain": [
       "array([[1, 0, 3],\n",
       "       [4, 5, 6]])"
      ]
     },
     "execution_count": 12,
     "metadata": {},
     "output_type": "execute_result"
    }
   ],
   "source": [
    "a2d"
   ]
  },
  {
   "cell_type": "code",
   "execution_count": 15,
   "id": "d7a113f8-69fc-41ea-b915-90c08a969980",
   "metadata": {},
   "outputs": [
    {
     "data": {
      "text/plain": [
       "array([[[1, 2, 3, 4],\n",
       "        [4, 5, 6, 9]],\n",
       "\n",
       "       [[7, 8, 9, 5],\n",
       "        [5, 6, 4, 1]]])"
      ]
     },
     "execution_count": 15,
     "metadata": {},
     "output_type": "execute_result"
    }
   ],
   "source": [
    "a3d = np.array([[[1, 2, 3,4],[4, 5, 6,9]] , [[7, 8, 9,5],[5, 6, 4,1]]] )\n",
    "a3d"
   ]
  },
  {
   "cell_type": "code",
   "execution_count": 23,
   "id": "0f1c649d-bcad-4587-bb7b-af06c0b56957",
   "metadata": {},
   "outputs": [
    {
     "data": {
      "text/plain": [
       "array([[[1, 2, 3],\n",
       "        [4, 5, 6]],\n",
       "\n",
       "       [[7, 8, 9],\n",
       "        [5, 6, 4]]])"
      ]
     },
     "execution_count": 23,
     "metadata": {},
     "output_type": "execute_result"
    }
   ],
   "source": [
    "sliced_a3d = a3d[:2,:2,:3]\n",
    "sliced_a3d"
   ]
  },
  {
   "cell_type": "code",
   "execution_count": 24,
   "id": "2af8e996-94fd-48cd-aa18-8884b70a623e",
   "metadata": {},
   "outputs": [
    {
     "data": {
      "text/plain": [
       "array([[[ 1,  0,  9],\n",
       "        [16, 25, 36]],\n",
       "\n",
       "       [[ 7,  0, 27],\n",
       "        [20, 30, 24]]])"
      ]
     },
     "execution_count": 24,
     "metadata": {},
     "output_type": "execute_result"
    }
   ],
   "source": [
    "a2d*sliced_a3d"
   ]
  },
  {
   "cell_type": "code",
   "execution_count": 25,
   "id": "9115a77a-58e8-4058-a30b-b0ff084f88bb",
   "metadata": {},
   "outputs": [
    {
     "data": {
      "text/plain": [
       "array([[1., 2., 3.],\n",
       "       [1., 2., 3.]])"
      ]
     },
     "execution_count": 25,
     "metadata": {},
     "output_type": "execute_result"
    }
   ],
   "source": [
    "a1d/ones"
   ]
  },
  {
   "cell_type": "code",
   "execution_count": 28,
   "id": "3cc136c3-7501-40d0-9e5d-4745c65ff848",
   "metadata": {},
   "outputs": [
    {
     "data": {
      "text/plain": [
       "array([[1. , 0. , 1. ],\n",
       "       [4. , 2.5, 2. ]])"
      ]
     },
     "execution_count": 28,
     "metadata": {},
     "output_type": "execute_result"
    }
   ],
   "source": [
    "a2d/a1d"
   ]
  },
  {
   "cell_type": "code",
   "execution_count": 29,
   "id": "95088500-7d90-4362-b50b-e7f120d7952d",
   "metadata": {},
   "outputs": [
    {
     "data": {
      "text/plain": [
       "array([[1, 0, 1],\n",
       "       [4, 2, 2]])"
      ]
     },
     "execution_count": 29,
     "metadata": {},
     "output_type": "execute_result"
    }
   ],
   "source": [
    "a2d//a1d"
   ]
  },
  {
   "cell_type": "code",
   "execution_count": 30,
   "id": "8628f9e2-436f-4229-b86b-e43f1efa79cb",
   "metadata": {},
   "outputs": [
    {
     "data": {
      "text/plain": [
       "array([1, 4, 9])"
      ]
     },
     "execution_count": 30,
     "metadata": {},
     "output_type": "execute_result"
    }
   ],
   "source": [
    "a1d**2"
   ]
  },
  {
   "cell_type": "code",
   "execution_count": 31,
   "id": "7461d71a-801d-4ce5-ad90-2e93293d343e",
   "metadata": {},
   "outputs": [
    {
     "data": {
      "text/plain": [
       "array([[ 1,  0,  9],\n",
       "       [16, 25, 36]])"
      ]
     },
     "execution_count": 31,
     "metadata": {},
     "output_type": "execute_result"
    }
   ],
   "source": [
    "np.square(a2d)"
   ]
  },
  {
   "cell_type": "code",
   "execution_count": 34,
   "id": "7c490171-5210-45a1-a722-f719d1e2395c",
   "metadata": {},
   "outputs": [
    {
     "data": {
      "text/plain": [
       "array([[2., 3., 4.],\n",
       "       [2., 3., 4.]])"
      ]
     },
     "execution_count": 34,
     "metadata": {},
     "output_type": "execute_result"
    }
   ],
   "source": [
    "np.add(a1d,ones)"
   ]
  },
  {
   "cell_type": "code",
   "execution_count": 35,
   "id": "68921894-67f5-4c4c-85aa-afc81c2022be",
   "metadata": {},
   "outputs": [
    {
     "data": {
      "text/plain": [
       "array([[1, 0, 1],\n",
       "       [0, 1, 0]], dtype=int32)"
      ]
     },
     "execution_count": 35,
     "metadata": {},
     "output_type": "execute_result"
    }
   ],
   "source": [
    "a2d%2"
   ]
  },
  {
   "cell_type": "markdown",
   "id": "ca845945-7144-4464-94ce-07cfa6c4fcbe",
   "metadata": {
    "jp-MarkdownHeadingCollapsed": true
   },
   "source": [
    "## Agregations"
   ]
  },
  {
   "cell_type": "code",
   "execution_count": 36,
   "id": "a4241d48-8917-49b8-a39d-fc41a939be8a",
   "metadata": {},
   "outputs": [
    {
     "data": {
      "text/plain": [
       "array([1, 2, 3])"
      ]
     },
     "execution_count": 36,
     "metadata": {},
     "output_type": "execute_result"
    }
   ],
   "source": [
    "a1d"
   ]
  },
  {
   "cell_type": "code",
   "execution_count": 37,
   "id": "60fc4dfe-1f4a-4455-b7d3-1cb2b4828358",
   "metadata": {},
   "outputs": [
    {
     "data": {
      "text/plain": [
       "6"
      ]
     },
     "execution_count": 37,
     "metadata": {},
     "output_type": "execute_result"
    }
   ],
   "source": [
    "sum(a1d) #python method :: slower"
   ]
  },
  {
   "cell_type": "code",
   "execution_count": 38,
   "id": "ae253029-cee6-4432-a5ac-7ac11aace8a6",
   "metadata": {},
   "outputs": [
    {
     "data": {
      "text/plain": [
       "6"
      ]
     },
     "execution_count": 38,
     "metadata": {},
     "output_type": "execute_result"
    }
   ],
   "source": [
    "np.sum(a1d) #numpy method :: faster"
   ]
  },
  {
   "cell_type": "code",
   "execution_count": 40,
   "id": "d87748b7-7772-41c2-8872-4a801a44eceb",
   "metadata": {},
   "outputs": [],
   "source": [
    "large_arr=np.random.random(10000)"
   ]
  },
  {
   "cell_type": "code",
   "execution_count": 42,
   "id": "f0c857a9-3577-4225-abfc-22d65a6dc83e",
   "metadata": {},
   "outputs": [
    {
     "data": {
      "text/plain": [
       "array([0.28847325, 0.27855304, 0.12108584, 0.60782652, 0.56763639,\n",
       "       0.33905713, 0.16349045, 0.1216411 , 0.33030909, 0.15361116,\n",
       "       0.03063218, 0.9425765 , 0.49590887, 0.29781843, 0.99513396,\n",
       "       0.23747275, 0.56006197, 0.39925826, 0.16327208, 0.11440207])"
      ]
     },
     "execution_count": 42,
     "metadata": {},
     "output_type": "execute_result"
    }
   ],
   "source": [
    "large_arr[:20]"
   ]
  },
  {
   "cell_type": "code",
   "execution_count": 44,
   "id": "54d17e25-f0e7-461a-8781-2b7ecc184e29",
   "metadata": {},
   "outputs": [
    {
     "name": "stdout",
     "output_type": "stream",
     "text": [
      "2.11 ms ± 254 µs per loop (mean ± std. dev. of 7 runs, 100 loops each)\n"
     ]
    }
   ],
   "source": [
    "%timeit sum(large_arr) #python sum"
   ]
  },
  {
   "cell_type": "code",
   "execution_count": 45,
   "id": "c99419d3-5243-462c-b244-b8470bf86a99",
   "metadata": {},
   "outputs": [
    {
     "name": "stdout",
     "output_type": "stream",
     "text": [
      "16.7 µs ± 165 ns per loop (mean ± std. dev. of 7 runs, 10,000 loops each)\n"
     ]
    }
   ],
   "source": [
    "%timeit np.sum(large_arr) #numpy sum"
   ]
  },
  {
   "cell_type": "code",
   "execution_count": 46,
   "id": "b97d5c5a-4a37-4af1-b023-185661adb865",
   "metadata": {},
   "outputs": [
    {
     "data": {
      "text/plain": [
       "3"
      ]
     },
     "execution_count": 46,
     "metadata": {},
     "output_type": "execute_result"
    }
   ],
   "source": [
    "np.max(a1d)"
   ]
  },
  {
   "cell_type": "code",
   "execution_count": 47,
   "id": "cacb2474-1f96-4370-a461-9d8e14b5c047",
   "metadata": {},
   "outputs": [
    {
     "data": {
      "text/plain": [
       "1"
      ]
     },
     "execution_count": 47,
     "metadata": {},
     "output_type": "execute_result"
    }
   ],
   "source": [
    "np.min(a1d)"
   ]
  },
  {
   "cell_type": "markdown",
   "id": "b4e381d5-2f40-41f8-a5fc-8904a117c5da",
   "metadata": {},
   "source": [
    "#### mean, variance, std"
   ]
  },
  {
   "cell_type": "code",
   "execution_count": 49,
   "id": "d9048c15-5faa-434e-9093-4e1e3a35e9ce",
   "metadata": {},
   "outputs": [
    {
     "data": {
      "text/plain": [
       "2.0"
      ]
     },
     "execution_count": 49,
     "metadata": {},
     "output_type": "execute_result"
    }
   ],
   "source": [
    "np.mean(a1d)"
   ]
  },
  {
   "cell_type": "code",
   "execution_count": 50,
   "id": "32ba8c7e-e8ff-4bc3-85a8-bd207d31bd31",
   "metadata": {},
   "outputs": [
    {
     "data": {
      "text/plain": [
       "0.6666666666666666"
      ]
     },
     "execution_count": 50,
     "metadata": {},
     "output_type": "execute_result"
    }
   ],
   "source": [
    "np.var(a1d)"
   ]
  },
  {
   "cell_type": "code",
   "execution_count": 51,
   "id": "958e5d88-0a37-47a2-a64c-a67e4b20f40c",
   "metadata": {},
   "outputs": [
    {
     "data": {
      "text/plain": [
       "0.816496580927726"
      ]
     },
     "execution_count": 51,
     "metadata": {},
     "output_type": "execute_result"
    }
   ],
   "source": [
    "np.sqrt(np.var(a1d))"
   ]
  },
  {
   "cell_type": "code",
   "execution_count": 54,
   "id": "8175c814-6fde-4764-9c46-04cea625d5d4",
   "metadata": {},
   "outputs": [
    {
     "data": {
      "text/plain": [
       "0.816496580927726"
      ]
     },
     "execution_count": 54,
     "metadata": {},
     "output_type": "execute_result"
    }
   ],
   "source": [
    "np.std(a1d)"
   ]
  },
  {
   "cell_type": "markdown",
   "id": "578dfca1-5731-4f49-9d18-5b674e09f716",
   "metadata": {
    "jp-MarkdownHeadingCollapsed": true
   },
   "source": [
    "## Matrix Multiplication Vs Dot Product"
   ]
  },
  {
   "cell_type": "markdown",
   "id": "130e0f3b-1736-40bd-bda3-daf6a664f3a3",
   "metadata": {},
   "source": [
    "### Matrix Multiplication"
   ]
  },
  {
   "cell_type": "code",
   "execution_count": 73,
   "id": "d05bea46-a999-42b8-a155-d1f01fc76ce8",
   "metadata": {},
   "outputs": [
    {
     "data": {
      "text/plain": [
       "array([[0, 5, 8],\n",
       "       [5, 6, 6],\n",
       "       [6, 7, 1],\n",
       "       [2, 5, 4]])"
      ]
     },
     "execution_count": 73,
     "metadata": {},
     "output_type": "execute_result"
    }
   ],
   "source": [
    "matrix_1 = np.random.randint(10,size=(4,3))\n",
    "matrix_1"
   ]
  },
  {
   "cell_type": "code",
   "execution_count": 74,
   "id": "e1df96b6-21f5-4f4b-93d8-ea078e1c4328",
   "metadata": {},
   "outputs": [
    {
     "data": {
      "text/plain": [
       "array([[3, 7, 9],\n",
       "       [4, 9, 7],\n",
       "       [4, 8, 3],\n",
       "       [3, 4, 4]])"
      ]
     },
     "execution_count": 74,
     "metadata": {},
     "output_type": "execute_result"
    }
   ],
   "source": [
    "matrix_2 = np.random.randint(10,size=(4,3))\n",
    "matrix_2"
   ]
  },
  {
   "cell_type": "code",
   "execution_count": 75,
   "id": "06acc3a0-cffb-4b03-9333-74982165042f",
   "metadata": {},
   "outputs": [
    {
     "data": {
      "text/plain": [
       "array([[ 0, 35, 72],\n",
       "       [20, 54, 42],\n",
       "       [24, 56,  3],\n",
       "       [ 6, 20, 16]])"
      ]
     },
     "execution_count": 75,
     "metadata": {},
     "output_type": "execute_result"
    }
   ],
   "source": [
    "matrix_1*matrix_2 #element wise multiplication "
   ]
  },
  {
   "cell_type": "markdown",
   "id": "13cff0c5-f152-44b0-8966-cef8543b5491",
   "metadata": {},
   "source": [
    "### Dot Product"
   ]
  },
  {
   "cell_type": "code",
   "execution_count": 80,
   "id": "9d93cda4-c807-47b3-8554-98497240f425",
   "metadata": {},
   "outputs": [
    {
     "data": {
      "text/plain": [
       "array([[107, 101,  64,  52],\n",
       "       [111, 116,  86,  63],\n",
       "       [ 76,  94,  83,  50],\n",
       "       [ 77,  81,  60,  42]])"
      ]
     },
     "execution_count": 80,
     "metadata": {},
     "output_type": "execute_result"
    }
   ],
   "source": [
    "matrix_1.dot(matrix_2.T)"
   ]
  },
  {
   "cell_type": "markdown",
   "id": "bf531c92-6824-40a6-86cc-a17c4f21530a",
   "metadata": {},
   "source": [
    "##### reshape "
   ]
  },
  {
   "cell_type": "code",
   "execution_count": 81,
   "id": "8526e378-cafc-4611-b476-d6e8b7d0f882",
   "metadata": {},
   "outputs": [],
   "source": [
    "#intruduces artificial columns in matrix"
   ]
  },
  {
   "cell_type": "code",
   "execution_count": 82,
   "id": "06ffb573-959e-457d-9e6a-87b250165af6",
   "metadata": {},
   "outputs": [
    {
     "data": {
      "text/plain": [
       "array([[1, 0, 3],\n",
       "       [4, 5, 6]])"
      ]
     },
     "execution_count": 82,
     "metadata": {},
     "output_type": "execute_result"
    }
   ],
   "source": [
    "a2d"
   ]
  },
  {
   "cell_type": "code",
   "execution_count": 84,
   "id": "9b5bfbcf-5d24-4982-ab59-67c969cb056a",
   "metadata": {},
   "outputs": [
    {
     "data": {
      "text/plain": [
       "array([[[1],\n",
       "        [0],\n",
       "        [3]],\n",
       "\n",
       "       [[4],\n",
       "        [5],\n",
       "        [6]]])"
      ]
     },
     "execution_count": 84,
     "metadata": {},
     "output_type": "execute_result"
    }
   ],
   "source": [
    "a2d.reshape(2,3,1)"
   ]
  },
  {
   "cell_type": "markdown",
   "id": "f906af06-5de7-4113-b353-f02affd30abb",
   "metadata": {
    "jp-MarkdownHeadingCollapsed": true
   },
   "source": [
    "## Generate daily , weekly total sales of a store"
   ]
  },
  {
   "cell_type": "code",
   "execution_count": 88,
   "id": "29ba2523-525d-43b1-a8d2-73ec8e0a2fff",
   "metadata": {},
   "outputs": [],
   "source": [
    "np.random.seed(seed=10)\n",
    "price=np.array([12,11,9])"
   ]
  },
  {
   "cell_type": "code",
   "execution_count": 106,
   "id": "a1845b35-4741-4015-b7ed-2b9dfeb82c17",
   "metadata": {},
   "outputs": [
    {
     "data": {
      "text/html": [
       "<div>\n",
       "<style scoped>\n",
       "    .dataframe tbody tr th:only-of-type {\n",
       "        vertical-align: middle;\n",
       "    }\n",
       "\n",
       "    .dataframe tbody tr th {\n",
       "        vertical-align: top;\n",
       "    }\n",
       "\n",
       "    .dataframe thead th {\n",
       "        text-align: right;\n",
       "    }\n",
       "</style>\n",
       "<table border=\"1\" class=\"dataframe\">\n",
       "  <thead>\n",
       "    <tr style=\"text-align: right;\">\n",
       "      <th></th>\n",
       "      <th>item_1</th>\n",
       "      <th>item_2</th>\n",
       "      <th>item_3</th>\n",
       "    </tr>\n",
       "  </thead>\n",
       "  <tbody>\n",
       "    <tr>\n",
       "      <th>item_price</th>\n",
       "      <td>12</td>\n",
       "      <td>11</td>\n",
       "      <td>9</td>\n",
       "    </tr>\n",
       "  </tbody>\n",
       "</table>\n",
       "</div>"
      ],
      "text/plain": [
       "            item_1  item_2  item_3\n",
       "item_price      12      11       9"
      ]
     },
     "execution_count": 106,
     "metadata": {},
     "output_type": "execute_result"
    }
   ],
   "source": [
    "import pandas as pd \n",
    "item_price_df = pd.DataFrame(price.reshape(1,3),index=['item_price'],columns=['item_1','item_2','item_3'])\n",
    "item_price_df"
   ]
  },
  {
   "cell_type": "code",
   "execution_count": 98,
   "id": "ab86f9ed-c5dc-4f93-a9bc-dd7c7da6ba9c",
   "metadata": {},
   "outputs": [
    {
     "data": {
      "text/plain": [
       "array([[ 4, 15, 11],\n",
       "       [11,  1,  8],\n",
       "       [ 4, 14, 17],\n",
       "       [19, 13,  5],\n",
       "       [13, 19, 13]])"
      ]
     },
     "execution_count": 98,
     "metadata": {},
     "output_type": "execute_result"
    }
   ],
   "source": [
    "item_amount_sold=np.random.randint(20, size=(5,3))\n",
    "item_amount"
   ]
  },
  {
   "cell_type": "code",
   "execution_count": 100,
   "id": "7a0c6723-2423-45de-92e3-a8f25f917816",
   "metadata": {},
   "outputs": [
    {
     "data": {
      "text/html": [
       "<div>\n",
       "<style scoped>\n",
       "    .dataframe tbody tr th:only-of-type {\n",
       "        vertical-align: middle;\n",
       "    }\n",
       "\n",
       "    .dataframe tbody tr th {\n",
       "        vertical-align: top;\n",
       "    }\n",
       "\n",
       "    .dataframe thead th {\n",
       "        text-align: right;\n",
       "    }\n",
       "</style>\n",
       "<table border=\"1\" class=\"dataframe\">\n",
       "  <thead>\n",
       "    <tr style=\"text-align: right;\">\n",
       "      <th></th>\n",
       "      <th>item_1</th>\n",
       "      <th>item_2</th>\n",
       "      <th>item_3</th>\n",
       "    </tr>\n",
       "  </thead>\n",
       "  <tbody>\n",
       "    <tr>\n",
       "      <th>Mon</th>\n",
       "      <td>4</td>\n",
       "      <td>15</td>\n",
       "      <td>11</td>\n",
       "    </tr>\n",
       "    <tr>\n",
       "      <th>Tue</th>\n",
       "      <td>11</td>\n",
       "      <td>1</td>\n",
       "      <td>8</td>\n",
       "    </tr>\n",
       "    <tr>\n",
       "      <th>Wed</th>\n",
       "      <td>4</td>\n",
       "      <td>14</td>\n",
       "      <td>17</td>\n",
       "    </tr>\n",
       "    <tr>\n",
       "      <th>Thur</th>\n",
       "      <td>19</td>\n",
       "      <td>13</td>\n",
       "      <td>5</td>\n",
       "    </tr>\n",
       "    <tr>\n",
       "      <th>Fri</th>\n",
       "      <td>13</td>\n",
       "      <td>19</td>\n",
       "      <td>13</td>\n",
       "    </tr>\n",
       "  </tbody>\n",
       "</table>\n",
       "</div>"
      ],
      "text/plain": [
       "      item_1  item_2  item_3\n",
       "Mon        4      15      11\n",
       "Tue       11       1       8\n",
       "Wed        4      14      17\n",
       "Thur      19      13       5\n",
       "Fri       13      19      13"
      ]
     },
     "execution_count": 100,
     "metadata": {},
     "output_type": "execute_result"
    }
   ],
   "source": [
    "item_amount_sold_df=pd.DataFrame(item_amount,index=['Mon','Tue','Wed','Thur','Fri'],columns=['item_1','item_2','item_3'])\n",
    "item_amount_sold_df"
   ]
  },
  {
   "cell_type": "code",
   "execution_count": 127,
   "id": "82059ae7-38ce-49d9-8a48-e88450a8e5f5",
   "metadata": {},
   "outputs": [
    {
     "data": {
      "text/plain": [
       "array([[191],\n",
       "       [458],\n",
       "       [354],\n",
       "       [455],\n",
       "       [445]])"
      ]
     },
     "execution_count": 127,
     "metadata": {},
     "output_type": "execute_result"
    }
   ],
   "source": [
    "total_sale=item_amount_sold.dot(price.reshape(3,1))"
   ]
  },
  {
   "cell_type": "code",
   "execution_count": 116,
   "id": "266077bc-9a3f-4480-aa21-efb3d951f2f6",
   "metadata": {},
   "outputs": [
    {
     "data": {
      "text/html": [
       "<div>\n",
       "<style scoped>\n",
       "    .dataframe tbody tr th:only-of-type {\n",
       "        vertical-align: middle;\n",
       "    }\n",
       "\n",
       "    .dataframe tbody tr th {\n",
       "        vertical-align: top;\n",
       "    }\n",
       "\n",
       "    .dataframe thead th {\n",
       "        text-align: right;\n",
       "    }\n",
       "</style>\n",
       "<table border=\"1\" class=\"dataframe\">\n",
       "  <thead>\n",
       "    <tr style=\"text-align: right;\">\n",
       "      <th></th>\n",
       "      <th>total_sale_price</th>\n",
       "    </tr>\n",
       "  </thead>\n",
       "  <tbody>\n",
       "    <tr>\n",
       "      <th>Mon</th>\n",
       "      <td>191</td>\n",
       "    </tr>\n",
       "    <tr>\n",
       "      <th>Tue</th>\n",
       "      <td>458</td>\n",
       "    </tr>\n",
       "    <tr>\n",
       "      <th>Wed</th>\n",
       "      <td>354</td>\n",
       "    </tr>\n",
       "    <tr>\n",
       "      <th>Thur</th>\n",
       "      <td>455</td>\n",
       "    </tr>\n",
       "    <tr>\n",
       "      <th>Fri</th>\n",
       "      <td>445</td>\n",
       "    </tr>\n",
       "  </tbody>\n",
       "</table>\n",
       "</div>"
      ],
      "text/plain": [
       "      total_sale_price\n",
       "Mon                191\n",
       "Tue                458\n",
       "Wed                354\n",
       "Thur               455\n",
       "Fri                445"
      ]
     },
     "execution_count": 116,
     "metadata": {},
     "output_type": "execute_result"
    }
   ],
   "source": [
    "total_sale_df=pd.DataFrame(total_sale,index=['Mon','Tue','Wed','Thur','Fri'],columns=['total_sale_price'])\n",
    "total_sale_df"
   ]
  },
  {
   "cell_type": "code",
   "execution_count": 140,
   "id": "d5c47eef-f705-4a86-ba5c-e4f281f6af86",
   "metadata": {},
   "outputs": [
    {
     "data": {
      "text/html": [
       "<div>\n",
       "<style scoped>\n",
       "    .dataframe tbody tr th:only-of-type {\n",
       "        vertical-align: middle;\n",
       "    }\n",
       "\n",
       "    .dataframe tbody tr th {\n",
       "        vertical-align: top;\n",
       "    }\n",
       "\n",
       "    .dataframe thead th {\n",
       "        text-align: right;\n",
       "    }\n",
       "</style>\n",
       "<table border=\"1\" class=\"dataframe\">\n",
       "  <thead>\n",
       "    <tr style=\"text-align: right;\">\n",
       "      <th></th>\n",
       "      <th>item_1</th>\n",
       "      <th>item_2</th>\n",
       "      <th>item_3</th>\n",
       "      <th>total_sale_pricce</th>\n",
       "      <th>total_sale_price</th>\n",
       "    </tr>\n",
       "  </thead>\n",
       "  <tbody>\n",
       "    <tr>\n",
       "      <th>Mon</th>\n",
       "      <td>4</td>\n",
       "      <td>15</td>\n",
       "      <td>11</td>\n",
       "      <td>191</td>\n",
       "      <td>191</td>\n",
       "    </tr>\n",
       "    <tr>\n",
       "      <th>Tue</th>\n",
       "      <td>11</td>\n",
       "      <td>1</td>\n",
       "      <td>8</td>\n",
       "      <td>458</td>\n",
       "      <td>458</td>\n",
       "    </tr>\n",
       "    <tr>\n",
       "      <th>Wed</th>\n",
       "      <td>4</td>\n",
       "      <td>14</td>\n",
       "      <td>17</td>\n",
       "      <td>354</td>\n",
       "      <td>354</td>\n",
       "    </tr>\n",
       "    <tr>\n",
       "      <th>Thur</th>\n",
       "      <td>19</td>\n",
       "      <td>13</td>\n",
       "      <td>5</td>\n",
       "      <td>455</td>\n",
       "      <td>455</td>\n",
       "    </tr>\n",
       "    <tr>\n",
       "      <th>Fri</th>\n",
       "      <td>13</td>\n",
       "      <td>19</td>\n",
       "      <td>13</td>\n",
       "      <td>445</td>\n",
       "      <td>445</td>\n",
       "    </tr>\n",
       "  </tbody>\n",
       "</table>\n",
       "</div>"
      ],
      "text/plain": [
       "      item_1  item_2  item_3  total_sale_pricce  total_sale_price\n",
       "Mon        4      15      11                191               191\n",
       "Tue       11       1       8                458               458\n",
       "Wed        4      14      17                354               354\n",
       "Thur      19      13       5                455               455\n",
       "Fri       13      19      13                445               445"
      ]
     },
     "execution_count": 140,
     "metadata": {},
     "output_type": "execute_result"
    }
   ],
   "source": [
    "item_amount_sold_df['total_sale_price']=total_sale\n",
    "item_amount_sold_df"
   ]
  },
  {
   "cell_type": "code",
   "execution_count": 142,
   "id": "e807537b-98f8-4152-b59f-435948f8838f",
   "metadata": {},
   "outputs": [],
   "source": [
    "total_week_sale=np.sum(total_sale)"
   ]
  },
  {
   "cell_type": "markdown",
   "id": "c0e764f8-6f6b-4abd-b348-2fbefd473506",
   "metadata": {
    "jp-MarkdownHeadingCollapsed": true
   },
   "source": [
    "## Comparision Operators"
   ]
  },
  {
   "cell_type": "code",
   "execution_count": 143,
   "id": "5e07aeb0-9b20-4db3-ac45-3d8f676c8474",
   "metadata": {},
   "outputs": [
    {
     "data": {
      "text/plain": [
       "array([1, 2, 3])"
      ]
     },
     "execution_count": 143,
     "metadata": {},
     "output_type": "execute_result"
    }
   ],
   "source": [
    "a1d"
   ]
  },
  {
   "cell_type": "code",
   "execution_count": 144,
   "id": "c8a9c3da-e615-4941-884e-4d97fda7e644",
   "metadata": {},
   "outputs": [
    {
     "data": {
      "text/plain": [
       "array([[1, 0, 3],\n",
       "       [4, 5, 6]])"
      ]
     },
     "execution_count": 144,
     "metadata": {},
     "output_type": "execute_result"
    }
   ],
   "source": [
    "a2d"
   ]
  },
  {
   "cell_type": "code",
   "execution_count": 146,
   "id": "7a29e6e9-2e85-4468-88d7-b3d3f07cf100",
   "metadata": {},
   "outputs": [
    {
     "data": {
      "text/plain": [
       "array([[False,  True, False],\n",
       "       [False, False, False]])"
      ]
     },
     "execution_count": 146,
     "metadata": {},
     "output_type": "execute_result"
    }
   ],
   "source": [
    "a1d>a2d #element wise comparision"
   ]
  },
  {
   "cell_type": "code",
   "execution_count": 147,
   "id": "1491cb66-456a-4de2-90ef-52ac30fcc6c2",
   "metadata": {},
   "outputs": [
    {
     "data": {
      "text/plain": [
       "array([[False, False, False],\n",
       "       [ True,  True,  True]])"
      ]
     },
     "execution_count": 147,
     "metadata": {},
     "output_type": "execute_result"
    }
   ],
   "source": [
    "a1d<a2d"
   ]
  },
  {
   "cell_type": "code",
   "execution_count": 148,
   "id": "50eedade-e218-47d3-b89b-90838fdd552d",
   "metadata": {},
   "outputs": [
    {
     "data": {
      "text/plain": [
       "array([[ True, False,  True],\n",
       "       [False, False, False]])"
      ]
     },
     "execution_count": 148,
     "metadata": {},
     "output_type": "execute_result"
    }
   ],
   "source": [
    "a1d==a2d"
   ]
  },
  {
   "cell_type": "code",
   "execution_count": 149,
   "id": "01c99143-2563-4ce3-a88f-702688277630",
   "metadata": {},
   "outputs": [
    {
     "data": {
      "text/plain": [
       "array([[False,  True, False],\n",
       "       [ True,  True,  True]])"
      ]
     },
     "execution_count": 149,
     "metadata": {},
     "output_type": "execute_result"
    }
   ],
   "source": [
    "a1d!=a2d"
   ]
  },
  {
   "cell_type": "markdown",
   "id": "527b48a2-7366-44fb-9b6b-8cc4ef798366",
   "metadata": {
    "jp-MarkdownHeadingCollapsed": true
   },
   "source": [
    "## Sorting Array"
   ]
  },
  {
   "cell_type": "code",
   "execution_count": 152,
   "id": "e3faa449-4136-4807-80d6-49213c46cb7c",
   "metadata": {},
   "outputs": [
    {
     "data": {
      "text/plain": [
       "array([[6, 6, 5, 6, 0],\n",
       "       [0, 6, 9, 1, 8],\n",
       "       [9, 1, 2, 8, 9]])"
      ]
     },
     "execution_count": 152,
     "metadata": {},
     "output_type": "execute_result"
    }
   ],
   "source": [
    "rand_mat=np.random.randint(10,size=(3,5))\n",
    "rand_mat"
   ]
  },
  {
   "cell_type": "code",
   "execution_count": 153,
   "id": "aff0f270-39a6-4145-a460-9b7b35bbea65",
   "metadata": {},
   "outputs": [
    {
     "data": {
      "text/plain": [
       "array([[0, 5, 6, 6, 6],\n",
       "       [0, 1, 6, 8, 9],\n",
       "       [1, 2, 8, 9, 9]])"
      ]
     },
     "execution_count": 153,
     "metadata": {},
     "output_type": "execute_result"
    }
   ],
   "source": [
    "np.sort(rand_mat) #by default rows are sorted"
   ]
  },
  {
   "cell_type": "code",
   "execution_count": 154,
   "id": "a744c395-9ffd-458c-9814-088bb01e0756",
   "metadata": {},
   "outputs": [
    {
     "data": {
      "text/plain": [
       "array([[0, 1, 2, 1, 0],\n",
       "       [6, 6, 5, 6, 8],\n",
       "       [9, 6, 9, 8, 9]])"
      ]
     },
     "execution_count": 154,
     "metadata": {},
     "output_type": "execute_result"
    }
   ],
   "source": [
    "np.sort(rand_mat,axis=0) #to sort columns"
   ]
  },
  {
   "cell_type": "code",
   "execution_count": 155,
   "id": "2b71e665-77f1-46a8-a3eb-64d64e698f33",
   "metadata": {},
   "outputs": [
    {
     "data": {
      "text/plain": [
       "array([[4, 2, 0, 1, 3],\n",
       "       [0, 3, 1, 4, 2],\n",
       "       [1, 2, 3, 0, 4]], dtype=int64)"
      ]
     },
     "execution_count": 155,
     "metadata": {},
     "output_type": "execute_result"
    }
   ],
   "source": [
    "np.argsort(rand_mat) #it will tell index of elements to be sorted"
   ]
  },
  {
   "cell_type": "code",
   "execution_count": 156,
   "id": "29b57bbd-53c2-4789-9681-98a2c0b72aed",
   "metadata": {},
   "outputs": [
    {
     "data": {
      "text/plain": [
       "4"
      ]
     },
     "execution_count": 156,
     "metadata": {},
     "output_type": "execute_result"
    }
   ],
   "source": [
    "np.argmin(rand_mat) #it shows index of minimum value in whole matrix "
   ]
  },
  {
   "cell_type": "code",
   "execution_count": 160,
   "id": "58d3c320-7ff8-49c7-8446-5be9b57aac1b",
   "metadata": {},
   "outputs": [
    {
     "data": {
      "text/plain": [
       "array([1, 2, 2, 1, 0], dtype=int64)"
      ]
     },
     "execution_count": 160,
     "metadata": {},
     "output_type": "execute_result"
    }
   ],
   "source": [
    "np.argmin(rand_mat,axis=0)"
   ]
  },
  {
   "cell_type": "code",
   "execution_count": 161,
   "id": "791cbcae-ea2e-4344-a5f5-599aa25909c4",
   "metadata": {},
   "outputs": [
    {
     "data": {
      "text/plain": [
       "array([4, 0, 1], dtype=int64)"
      ]
     },
     "execution_count": 161,
     "metadata": {},
     "output_type": "execute_result"
    }
   ],
   "source": [
    "np.argmin(rand_mat,axis=1)"
   ]
  },
  {
   "cell_type": "code",
   "execution_count": 162,
   "id": "3fefeecc-ebcf-425b-94a6-3b377ceb0ec5",
   "metadata": {},
   "outputs": [
    {
     "data": {
      "text/plain": [
       "7"
      ]
     },
     "execution_count": 162,
     "metadata": {},
     "output_type": "execute_result"
    }
   ],
   "source": [
    "np.argmax(rand_mat) #it shows index of maximum value in whole matrix "
   ]
  },
  {
   "cell_type": "code",
   "execution_count": 163,
   "id": "4aee4917-007b-49a2-965f-d52e01909c4a",
   "metadata": {},
   "outputs": [
    {
     "data": {
      "text/plain": [
       "array([2, 0, 1, 2, 2], dtype=int64)"
      ]
     },
     "execution_count": 163,
     "metadata": {},
     "output_type": "execute_result"
    }
   ],
   "source": [
    "np.argmax(rand_mat,axis=0)"
   ]
  },
  {
   "cell_type": "code",
   "execution_count": 165,
   "id": "bf592db0-ed8e-4d34-a12f-6af8444ffe67",
   "metadata": {},
   "outputs": [
    {
     "data": {
      "text/plain": [
       "array([0, 2, 0], dtype=int64)"
      ]
     },
     "execution_count": 165,
     "metadata": {},
     "output_type": "execute_result"
    }
   ],
   "source": [
    "np.argmax(rand_mat,axis=1)"
   ]
  },
  {
   "cell_type": "code",
   "execution_count": null,
   "id": "3ae582e2-0eab-4c89-a4ed-11694cead9d8",
   "metadata": {},
   "outputs": [],
   "source": []
  }
 ],
 "metadata": {
  "kernelspec": {
   "display_name": "Python 3 (ipykernel)",
   "language": "python",
   "name": "python3"
  },
  "language_info": {
   "codemirror_mode": {
    "name": "ipython",
    "version": 3
   },
   "file_extension": ".py",
   "mimetype": "text/x-python",
   "name": "python",
   "nbconvert_exporter": "python",
   "pygments_lexer": "ipython3",
   "version": "3.12.3"
  }
 },
 "nbformat": 4,
 "nbformat_minor": 5
}
